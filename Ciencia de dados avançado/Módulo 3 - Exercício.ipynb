{
 "cells": [
  {
   "cell_type": "markdown",
   "metadata": {},
   "source": [
    "Passassem de novo por essas partes que eu comentei e percebam que cada parte eu dei um pedacinho de código, a precisou dessa célula aqui pra rodar isso, peguem uma rede simples que pode ser essa que a gente ajustou na sala da CNN com VGG ou pode ser até a mesma rede da aula anterior e adicionem essas questões, essa early stopping, adicionem uma taxa de aprendizado que mude ao longo do tempo e ve se vocês conseguem fazer tudo isso que a gente falou nessa aula. "
   ]
  },
  {
   "cell_type": "markdown",
   "metadata": {},
   "source": [
    "Modificações no parametro(analisando a acuracia), testando diferentes configurações da rede, e vá avaliando os resultados."
   ]
  },
  {
   "cell_type": "code",
   "execution_count": 1,
   "metadata": {
    "id": "wR1rGSstNjil"
   },
   "outputs": [],
   "source": [
    "import tensorflow as tf\n",
    "from tensorflow import keras\n",
    "from tensorflow.keras import layers\n",
    "from tensorflow.keras.datasets import cifar10\n",
    "import numpy as np\n",
    "import matplotlib.pyplot as plt\n",
    "import datetime"
   ]
  },
  {
   "cell_type": "code",
   "execution_count": 2,
   "metadata": {
    "id": "guSQ0OG0Od4Z"
   },
   "outputs": [],
   "source": [
    "(x_train, y_train), (x_test, y_test) = tf.keras.datasets.cifar10.load_data()"
   ]
  },
  {
   "cell_type": "code",
   "execution_count": 3,
   "metadata": {
    "id": "XaQPAm3QjYwV"
   },
   "outputs": [],
   "source": [
    "amostra_treino = np.random.choice(range(len(x_train)), size=30000, replace=False)\n",
    "amostra_teste = np.random.choice(range(len(x_test)), size=3000, replace=False)\n",
    "\n",
    "x_train = x_train[amostra_treino,:]\n",
    "y_train = y_train[amostra_treino,:]\n",
    "\n",
    "x_test = x_test[amostra_teste,:]\n",
    "y_test = y_test[amostra_teste,:]"
   ]
  },
  {
   "cell_type": "markdown",
   "metadata": {
    "id": "ktF-Tu6vQ2M6"
   },
   "source": [
    "Classes no dataset:\n",
    "\n",
    "airplane 0\t\t\t\t\t\t\t\t\t\t\n",
    "automobile 1\t\t\t\t\t\t\t\t\t\n",
    "bird\t2\t\t\t\t\t\t\t\t\t\n",
    "cat\t3\t\t\t\t\t\t\t\t\t\n",
    "deer\t4\t\t\t\t\t\t\t\t\t\n",
    "dog\t5\t\t\t\t\t\t\t\t\t\n",
    "frog\t6\t\t\t\t\t\t\t\t\t\n",
    "horse\t\t7\t\t\t\t\t\t\t\t\n",
    "ship\t8\t\t\t\t\t\t\t\t\t\n",
    "truck 9"
   ]
  },
  {
   "cell_type": "code",
   "execution_count": 4,
   "metadata": {
    "id": "5PHQxcuSBqVJ"
   },
   "outputs": [],
   "source": [
    "def esqueci_as_classes_me_ajuda(pred):\n",
    "  dicionario = {0: \"airplane\",\n",
    "           1: \"automobile\",\n",
    "           2: \"bird\",\n",
    "           3: \"cat\",\n",
    "           4: \"deer\",\n",
    "           5: \"dog\",\n",
    "           6: \"frog\",\n",
    "           7: \"horse\",\n",
    "           8: \"ship\",\n",
    "           9: \"truck\"}\n",
    "  return dicionario[np.argmax(pred)]"
   ]
  },
  {
   "cell_type": "code",
   "execution_count": 5,
   "metadata": {
    "colab": {
     "base_uri": "https://localhost:8080/"
    },
    "id": "TTznd7MIqBA3",
    "outputId": "5657ca53-b28f-491c-b751-3aa9a1f18b01"
   },
   "outputs": [
    {
     "data": {
      "text/plain": [
       "array([[6],\n",
       "       [4],\n",
       "       [6],\n",
       "       ...,\n",
       "       [8],\n",
       "       [7],\n",
       "       [2]], dtype=uint8)"
      ]
     },
     "execution_count": 5,
     "metadata": {},
     "output_type": "execute_result"
    }
   ],
   "source": [
    "y_train"
   ]
  },
  {
   "cell_type": "code",
   "execution_count": 6,
   "metadata": {
    "id": "0Z8DPcJmf4bC"
   },
   "outputs": [],
   "source": [
    "# one hot encoding nos y\n",
    "y_train = keras.utils.to_categorical(y_train)\n",
    "y_test = keras.utils.to_categorical(y_test)"
   ]
  },
  {
   "cell_type": "code",
   "execution_count": 7,
   "metadata": {
    "colab": {
     "base_uri": "https://localhost:8080/",
     "height": 300
    },
    "id": "o6xzKpmxm8-u",
    "outputId": "c65ae2e8-ca18-4f49-8ab7-29fa48227ea1"
   },
   "outputs": [
    {
     "name": "stdout",
     "output_type": "stream",
     "text": [
      "[0. 0. 0. 0. 1. 0. 0. 0. 0. 0.]\n",
      "deer\n"
     ]
    },
    {
     "data": {
      "image/png": "[encoded data removed]",
      "text/plain": [
       "<Figure size 432x288 with 1 Axes>"
      ]
     },
     "metadata": {
      "needs_background": "light"
     },
     "output_type": "display_data"
    }
   ],
   "source": [
    "i = np.random.randint(low=0, high=3000)\n",
    "y_test[i]\n",
    "plt.imshow(x_test[i])\n",
    "print(y_test[i])\n",
    "print(esqueci_as_classes_me_ajuda(y_test[i]))"
   ]
  },
  {
   "cell_type": "code",
   "execution_count": 8,
   "metadata": {},
   "outputs": [
    {
     "data": {
      "text/plain": [
       "array([[0., 0., 0., ..., 0., 0., 0.],\n",
       "       [0., 0., 0., ..., 0., 0., 0.],\n",
       "       [0., 0., 0., ..., 0., 0., 0.],\n",
       "       ...,\n",
       "       [0., 0., 0., ..., 0., 1., 0.],\n",
       "       [0., 0., 0., ..., 1., 0., 0.],\n",
       "       [0., 0., 1., ..., 0., 0., 0.]], dtype=float32)"
      ]
     },
     "execution_count": 8,
     "metadata": {},
     "output_type": "execute_result"
    }
   ],
   "source": [
    "y_train[]"
   ]
  },
  {
   "cell_type": "code",
   "execution_count": 9,
   "metadata": {
    "id": "OFSBq08zUzy8"
   },
   "outputs": [
    {
     "data": {
      "text/plain": [
       "[23,\n",
       " 29,\n",
       " 43,\n",
       " 54,\n",
       " 58,\n",
       " 64,\n",
       " 69,\n",
       " 87,\n",
       " 128,\n",
       " 131,\n",
       " 137,\n",
       " 146,\n",
       " 151,\n",
       " 159,\n",
       " 162,\n",
       " 164,\n",
       " 174,\n",
       " 177,\n",
       " 189,\n",
       " 200,\n",
       " 230,\n",
       " 232,\n",
       " 260,\n",
       " 263,\n",
       " 278,\n",
       " 282,\n",
       " 287,\n",
       " 297,\n",
       " 307,\n",
       " 308,\n",
       " 310,\n",
       " 318,\n",
       " 321,\n",
       " 334,\n",
       " 364,\n",
       " 366,\n",
       " 370,\n",
       " 379,\n",
       " 381,\n",
       " 413,\n",
       " 425,\n",
       " 426,\n",
       " 429,\n",
       " 436,\n",
       " 458,\n",
       " 462,\n",
       " 466,\n",
       " 469,\n",
       " 486,\n",
       " 507,\n",
       " 514,\n",
       " 523,\n",
       " 532,\n",
       " 544,\n",
       " 545,\n",
       " 546,\n",
       " 574,\n",
       " 577,\n",
       " 580,\n",
       " 592,\n",
       " 607,\n",
       " 625,\n",
       " 657,\n",
       " 664,\n",
       " 665,\n",
       " 671,\n",
       " 688,\n",
       " 711,\n",
       " 725,\n",
       " 739,\n",
       " 745,\n",
       " 777,\n",
       " 791,\n",
       " 795,\n",
       " 798,\n",
       " 807,\n",
       " 808,\n",
       " 849,\n",
       " 859,\n",
       " 873,\n",
       " 885,\n",
       " 900,\n",
       " 908,\n",
       " 913,\n",
       " 925,\n",
       " 930,\n",
       " 937,\n",
       " 945,\n",
       " 958,\n",
       " 971,\n",
       " 972,\n",
       " 976,\n",
       " 997,\n",
       " 1006,\n",
       " 1008,\n",
       " 1021,\n",
       " 1024,\n",
       " 1025,\n",
       " 1041,\n",
       " 1046,\n",
       " 1057,\n",
       " 1059,\n",
       " 1099,\n",
       " 1112,\n",
       " 1115,\n",
       " 1124,\n",
       " 1126,\n",
       " 1134,\n",
       " 1137,\n",
       " 1148,\n",
       " 1171,\n",
       " 1175,\n",
       " 1197,\n",
       " 1213,\n",
       " 1214,\n",
       " 1219,\n",
       " 1228,\n",
       " 1232,\n",
       " 1236,\n",
       " 1248,\n",
       " 1253,\n",
       " 1256,\n",
       " 1268,\n",
       " 1271,\n",
       " 1288,\n",
       " 1294,\n",
       " 1308,\n",
       " 1316,\n",
       " 1317,\n",
       " 1337,\n",
       " 1357,\n",
       " 1358,\n",
       " 1362,\n",
       " 1371,\n",
       " 1403,\n",
       " 1406,\n",
       " 1413,\n",
       " 1417,\n",
       " 1419,\n",
       " 1424,\n",
       " 1431,\n",
       " 1435,\n",
       " 1438,\n",
       " 1439,\n",
       " 1445,\n",
       " 1474,\n",
       " 1490,\n",
       " 1496,\n",
       " 1510,\n",
       " 1513,\n",
       " 1543,\n",
       " 1546,\n",
       " 1551,\n",
       " 1553,\n",
       " 1555,\n",
       " 1571,\n",
       " 1577,\n",
       " 1585,\n",
       " 1602,\n",
       " 1611,\n",
       " 1620,\n",
       " 1621,\n",
       " 1633,\n",
       " 1643,\n",
       " 1664,\n",
       " 1669,\n",
       " 1677,\n",
       " 1678,\n",
       " 1695,\n",
       " 1706,\n",
       " 1737,\n",
       " 1741,\n",
       " 1744,\n",
       " 1763,\n",
       " 1775,\n",
       " 1776,\n",
       " 1781,\n",
       " 1795,\n",
       " 1799,\n",
       " 1806,\n",
       " 1818,\n",
       " 1819,\n",
       " 1831,\n",
       " 1838,\n",
       " 1851,\n",
       " 1863,\n",
       " 1865,\n",
       " 1867,\n",
       " 1887,\n",
       " 1892,\n",
       " 1896,\n",
       " 1897,\n",
       " 1900,\n",
       " 1916,\n",
       " 1918,\n",
       " 1925,\n",
       " 1940,\n",
       " 1941,\n",
       " 1951,\n",
       " 1967,\n",
       " 1973,\n",
       " 1996,\n",
       " 2029,\n",
       " 2073,\n",
       " 2078,\n",
       " 2105,\n",
       " 2106,\n",
       " 2114,\n",
       " 2115,\n",
       " 2116,\n",
       " 2180,\n",
       " 2186,\n",
       " 2204,\n",
       " 2213,\n",
       " 2233,\n",
       " 2237,\n",
       " 2238,\n",
       " 2248,\n",
       " 2250,\n",
       " 2258,\n",
       " 2289,\n",
       " 2300,\n",
       " 2316,\n",
       " 2321,\n",
       " 2333,\n",
       " 2338,\n",
       " 2340,\n",
       " 2365,\n",
       " 2367,\n",
       " 2368,\n",
       " 2380,\n",
       " 2385,\n",
       " 2388,\n",
       " 2400,\n",
       " 2407,\n",
       " 2410,\n",
       " 2411,\n",
       " 2412,\n",
       " 2422,\n",
       " 2429,\n",
       " 2430,\n",
       " 2459,\n",
       " 2462,\n",
       " 2463,\n",
       " 2466,\n",
       " 2475,\n",
       " 2482,\n",
       " 2510,\n",
       " 2511,\n",
       " 2513,\n",
       " 2530,\n",
       " 2532,\n",
       " 2543,\n",
       " 2545,\n",
       " 2550,\n",
       " 2551,\n",
       " 2562,\n",
       " 2563,\n",
       " 2569,\n",
       " 2583,\n",
       " 2589,\n",
       " 2663,\n",
       " 2681,\n",
       " 2689,\n",
       " 2691,\n",
       " 2697,\n",
       " 2700,\n",
       " 2701,\n",
       " 2729,\n",
       " 2734,\n",
       " 2752,\n",
       " 2772,\n",
       " 2777,\n",
       " 2801,\n",
       " 2803,\n",
       " 2813,\n",
       " 2814,\n",
       " 2817,\n",
       " 2823,\n",
       " 2833,\n",
       " 2840,\n",
       " 2856,\n",
       " 2861,\n",
       " 2871,\n",
       " 2875,\n",
       " 2880,\n",
       " 2898,\n",
       " 2904,\n",
       " 2907,\n",
       " 2939,\n",
       " 2969,\n",
       " 2973,\n",
       " 2989,\n",
       " 3033,\n",
       " 3077,\n",
       " 3081,\n",
       " 3084,\n",
       " 3092,\n",
       " 3093,\n",
       " 3097,\n",
       " 3112,\n",
       " 3115,\n",
       " 3117,\n",
       " 3156,\n",
       " 3180,\n",
       " 3192,\n",
       " 3196,\n",
       " 3205,\n",
       " 3230,\n",
       " 3235,\n",
       " 3236,\n",
       " 3243,\n",
       " 3267,\n",
       " 3270,\n",
       " 3278,\n",
       " 3283,\n",
       " 3324,\n",
       " 3334,\n",
       " 3337,\n",
       " 3340,\n",
       " 3352,\n",
       " 3376,\n",
       " 3399,\n",
       " 3412,\n",
       " 3417,\n",
       " 3433,\n",
       " 3437,\n",
       " 3439,\n",
       " 3440,\n",
       " 3461,\n",
       " 3462,\n",
       " 3474,\n",
       " 3483,\n",
       " 3508,\n",
       " 3509,\n",
       " 3511,\n",
       " 3516,\n",
       " 3526,\n",
       " 3530,\n",
       " 3531,\n",
       " 3546,\n",
       " 3559,\n",
       " 3561,\n",
       " 3570,\n",
       " 3614,\n",
       " 3625,\n",
       " 3628,\n",
       " 3629,\n",
       " 3632,\n",
       " 3642,\n",
       " 3649,\n",
       " 3653,\n",
       " 3675,\n",
       " 3679,\n",
       " 3681,\n",
       " 3684,\n",
       " 3692,\n",
       " 3698,\n",
       " 3705,\n",
       " 3707,\n",
       " 3708,\n",
       " 3714,\n",
       " 3715,\n",
       " 3720,\n",
       " 3723,\n",
       " 3724,\n",
       " 3733,\n",
       " 3735,\n",
       " 3738,\n",
       " 3741,\n",
       " 3757,\n",
       " 3772,\n",
       " 3787,\n",
       " 3794,\n",
       " 3802,\n",
       " 3803,\n",
       " 3813,\n",
       " 3829,\n",
       " 3865,\n",
       " 3869,\n",
       " 3874,\n",
       " 3878,\n",
       " 3896,\n",
       " 3903,\n",
       " 3905,\n",
       " 3915,\n",
       " 3958,\n",
       " 3961,\n",
       " 3967,\n",
       " 3973,\n",
       " 3994,\n",
       " 4003,\n",
       " 4010,\n",
       " 4016,\n",
       " 4023,\n",
       " 4034,\n",
       " 4042,\n",
       " 4055,\n",
       " 4063,\n",
       " 4070,\n",
       " 4074,\n",
       " 4078,\n",
       " 4093,\n",
       " 4106,\n",
       " 4112,\n",
       " 4114,\n",
       " 4119,\n",
       " 4132,\n",
       " 4133,\n",
       " 4160,\n",
       " 4167,\n",
       " 4174,\n",
       " 4179,\n",
       " 4191,\n",
       " 4195,\n",
       " 4198,\n",
       " 4218,\n",
       " 4222,\n",
       " 4225,\n",
       " 4236,\n",
       " 4267,\n",
       " 4272,\n",
       " 4289,\n",
       " 4301,\n",
       " 4303,\n",
       " 4305,\n",
       " 4313,\n",
       " 4314,\n",
       " 4316,\n",
       " 4342,\n",
       " 4350,\n",
       " 4392,\n",
       " 4394,\n",
       " 4395,\n",
       " 4401,\n",
       " 4412,\n",
       " 4416,\n",
       " 4419,\n",
       " 4420,\n",
       " 4430,\n",
       " 4456,\n",
       " 4534,\n",
       " 4537,\n",
       " 4538,\n",
       " 4554,\n",
       " 4563,\n",
       " 4596,\n",
       " 4606,\n",
       " 4607,\n",
       " 4610,\n",
       " 4614,\n",
       " 4620,\n",
       " 4624,\n",
       " 4628,\n",
       " 4632,\n",
       " 4634,\n",
       " 4640,\n",
       " 4642,\n",
       " 4643,\n",
       " 4653,\n",
       " 4693,\n",
       " 4698,\n",
       " 4701,\n",
       " 4703,\n",
       " 4707,\n",
       " 4726,\n",
       " 4729,\n",
       " 4740,\n",
       " 4748,\n",
       " 4765,\n",
       " 4789,\n",
       " 4795,\n",
       " 4798,\n",
       " 4801,\n",
       " 4810,\n",
       " 4833,\n",
       " 4841,\n",
       " 4860,\n",
       " 4872,\n",
       " 4873,\n",
       " 4878,\n",
       " 4880,\n",
       " 4909,\n",
       " 4917,\n",
       " 4918,\n",
       " 4940,\n",
       " 4944,\n",
       " 4947,\n",
       " 4948,\n",
       " 4969,\n",
       " 4976,\n",
       " 4978,\n",
       " 4982,\n",
       " 5003,\n",
       " 5018,\n",
       " 5024,\n",
       " 5055,\n",
       " 5061,\n",
       " 5062,\n",
       " 5064,\n",
       " 5077,\n",
       " 5083,\n",
       " 5088,\n",
       " 5089,\n",
       " 5124,\n",
       " 5128,\n",
       " 5138,\n",
       " 5141,\n",
       " 5148,\n",
       " 5160,\n",
       " 5174,\n",
       " 5177,\n",
       " 5183,\n",
       " 5210,\n",
       " 5214,\n",
       " 5220,\n",
       " 5224,\n",
       " 5235,\n",
       " 5241,\n",
       " 5243,\n",
       " 5269,\n",
       " 5287,\n",
       " 5291,\n",
       " 5293,\n",
       " 5301,\n",
       " 5317,\n",
       " 5336,\n",
       " 5339,\n",
       " 5344,\n",
       " 5354,\n",
       " 5356,\n",
       " 5371,\n",
       " 5412,\n",
       " 5415,\n",
       " 5421,\n",
       " 5432,\n",
       " 5460,\n",
       " 5461,\n",
       " 5469,\n",
       " 5472,\n",
       " 5484,\n",
       " 5490,\n",
       " 5492,\n",
       " 5514,\n",
       " 5530,\n",
       " 5540,\n",
       " 5547,\n",
       " 5613,\n",
       " 5641,\n",
       " 5650,\n",
       " 5664,\n",
       " 5680,\n",
       " 5681,\n",
       " 5686,\n",
       " 5696,\n",
       " 5701,\n",
       " 5708,\n",
       " 5712,\n",
       " 5717,\n",
       " 5718,\n",
       " 5757,\n",
       " 5776,\n",
       " 5782,\n",
       " 5785,\n",
       " 5786,\n",
       " 5800,\n",
       " 5802,\n",
       " 5815,\n",
       " 5823,\n",
       " 5833,\n",
       " 5835,\n",
       " 5867,\n",
       " 5878,\n",
       " 5885,\n",
       " 5888,\n",
       " 5899,\n",
       " 5912,\n",
       " 5916,\n",
       " 5923,\n",
       " 5924,\n",
       " 5928,\n",
       " 5934,\n",
       " 5941,\n",
       " 5944,\n",
       " 5972,\n",
       " 5981,\n",
       " 5994,\n",
       " 6001,\n",
       " 6012,\n",
       " 6024,\n",
       " 6044,\n",
       " 6048,\n",
       " 6067,\n",
       " 6072,\n",
       " 6076,\n",
       " 6089,\n",
       " 6092,\n",
       " 6095,\n",
       " 6099,\n",
       " 6107,\n",
       " 6117,\n",
       " 6120,\n",
       " 6124,\n",
       " 6125,\n",
       " 6136,\n",
       " 6143,\n",
       " 6144,\n",
       " 6168,\n",
       " 6171,\n",
       " 6186,\n",
       " 6192,\n",
       " 6201,\n",
       " 6205,\n",
       " 6209,\n",
       " 6215,\n",
       " 6228,\n",
       " 6262,\n",
       " 6285,\n",
       " 6287,\n",
       " 6292,\n",
       " 6297,\n",
       " 6332,\n",
       " 6345,\n",
       " 6352,\n",
       " 6355,\n",
       " 6373,\n",
       " 6410,\n",
       " 6413,\n",
       " 6430,\n",
       " 6433,\n",
       " 6443,\n",
       " 6444,\n",
       " 6451,\n",
       " 6466,\n",
       " 6474,\n",
       " 6482,\n",
       " 6484,\n",
       " 6495,\n",
       " 6502,\n",
       " 6543,\n",
       " 6545,\n",
       " 6553,\n",
       " 6555,\n",
       " 6565,\n",
       " 6571,\n",
       " 6573,\n",
       " 6587,\n",
       " 6598,\n",
       " 6600,\n",
       " 6607,\n",
       " 6616,\n",
       " 6618,\n",
       " 6619,\n",
       " 6621,\n",
       " 6623,\n",
       " 6624,\n",
       " 6639,\n",
       " 6652,\n",
       " 6657,\n",
       " 6668,\n",
       " 6706,\n",
       " 6717,\n",
       " 6720,\n",
       " 6746,\n",
       " 6771,\n",
       " 6773,\n",
       " 6774,\n",
       " 6792,\n",
       " 6816,\n",
       " 6819,\n",
       " 6825,\n",
       " 6831,\n",
       " 6838,\n",
       " 6844,\n",
       " 6860,\n",
       " 6893,\n",
       " 6897,\n",
       " 6898,\n",
       " 6907,\n",
       " 6912,\n",
       " 6915,\n",
       " 6926,\n",
       " 6929,\n",
       " 6933,\n",
       " 6954,\n",
       " 6962,\n",
       " 6976,\n",
       " 6987,\n",
       " 6989,\n",
       " 7009,\n",
       " 7023,\n",
       " 7024,\n",
       " 7028,\n",
       " 7042,\n",
       " 7050,\n",
       " 7051,\n",
       " 7062,\n",
       " 7066,\n",
       " 7068,\n",
       " 7071,\n",
       " 7086,\n",
       " 7088,\n",
       " 7089,\n",
       " 7111,\n",
       " 7112,\n",
       " 7114,\n",
       " 7115,\n",
       " 7127,\n",
       " 7138,\n",
       " 7149,\n",
       " 7165,\n",
       " 7168,\n",
       " 7172,\n",
       " 7195,\n",
       " 7203,\n",
       " 7205,\n",
       " 7212,\n",
       " 7227,\n",
       " 7228,\n",
       " 7236,\n",
       " 7237,\n",
       " 7238,\n",
       " 7242,\n",
       " 7251,\n",
       " 7277,\n",
       " 7292,\n",
       " 7299,\n",
       " 7302,\n",
       " 7309,\n",
       " 7337,\n",
       " 7365,\n",
       " 7374,\n",
       " 7377,\n",
       " 7382,\n",
       " 7391,\n",
       " 7395,\n",
       " 7409,\n",
       " 7411,\n",
       " 7427,\n",
       " 7430,\n",
       " 7432,\n",
       " 7446,\n",
       " 7470,\n",
       " 7483,\n",
       " 7493,\n",
       " 7502,\n",
       " 7505,\n",
       " 7519,\n",
       " 7524,\n",
       " 7548,\n",
       " 7555,\n",
       " 7557,\n",
       " 7559,\n",
       " 7562,\n",
       " 7579,\n",
       " 7601,\n",
       " 7603,\n",
       " 7605,\n",
       " 7606,\n",
       " 7609,\n",
       " 7615,\n",
       " 7623,\n",
       " 7626,\n",
       " 7628,\n",
       " 7633,\n",
       " 7641,\n",
       " 7648,\n",
       " 7653,\n",
       " 7659,\n",
       " 7664,\n",
       " 7667,\n",
       " 7688,\n",
       " 7712,\n",
       " 7737,\n",
       " 7748,\n",
       " 7776,\n",
       " 7779,\n",
       " 7786,\n",
       " 7788,\n",
       " 7794,\n",
       " 7807,\n",
       " 7838,\n",
       " 7842,\n",
       " 7845,\n",
       " 7856,\n",
       " 7862,\n",
       " 7865,\n",
       " 7871,\n",
       " 7880,\n",
       " 7883,\n",
       " 7898,\n",
       " 7902,\n",
       " 7913,\n",
       " 7934,\n",
       " 7947,\n",
       " 7950,\n",
       " 7953,\n",
       " 7987,\n",
       " 7993,\n",
       " 7998,\n",
       " 8014,\n",
       " 8015,\n",
       " 8046,\n",
       " 8054,\n",
       " 8058,\n",
       " 8060,\n",
       " 8065,\n",
       " 8084,\n",
       " 8088,\n",
       " 8098,\n",
       " 8117,\n",
       " 8118,\n",
       " 8132,\n",
       " 8149,\n",
       " 8180,\n",
       " 8202,\n",
       " 8213,\n",
       " 8214,\n",
       " 8226,\n",
       " 8235,\n",
       " 8239,\n",
       " 8247,\n",
       " 8253,\n",
       " 8264,\n",
       " 8282,\n",
       " 8312,\n",
       " 8320,\n",
       " 8335,\n",
       " 8344,\n",
       " 8351,\n",
       " 8355,\n",
       " 8356,\n",
       " 8358,\n",
       " 8384,\n",
       " 8412,\n",
       " 8416,\n",
       " 8429,\n",
       " 8435,\n",
       " 8439,\n",
       " 8445,\n",
       " 8450,\n",
       " 8485,\n",
       " 8506,\n",
       " 8508,\n",
       " 8509,\n",
       " 8513,\n",
       " 8519,\n",
       " 8532,\n",
       " 8534,\n",
       " 8543,\n",
       " 8579,\n",
       " 8587,\n",
       " 8614,\n",
       " 8622,\n",
       " 8626,\n",
       " 8633,\n",
       " 8636,\n",
       " 8650,\n",
       " 8663,\n",
       " 8673,\n",
       " 8711,\n",
       " 8735,\n",
       " 8743,\n",
       " 8746,\n",
       " 8753,\n",
       " 8756,\n",
       " 8810,\n",
       " 8811,\n",
       " 8820,\n",
       " 8821,\n",
       " 8848,\n",
       " 8851,\n",
       " 8858,\n",
       " 8859,\n",
       " 8885,\n",
       " 8895,\n",
       " 8897,\n",
       " 8898,\n",
       " 8901,\n",
       " 8908,\n",
       " 8916,\n",
       " 8924,\n",
       " 8936,\n",
       " 8938,\n",
       " 8946,\n",
       " 8957,\n",
       " 8962,\n",
       " 8963,\n",
       " 8971,\n",
       " 8972,\n",
       " 8973,\n",
       " 8974,\n",
       " 8982,\n",
       " 8988,\n",
       " 8996,\n",
       " 9003,\n",
       " 9023,\n",
       " 9040,\n",
       " 9043,\n",
       " 9050,\n",
       " 9051,\n",
       " 9055,\n",
       " 9062,\n",
       " 9072,\n",
       " 9073,\n",
       " 9140,\n",
       " 9149,\n",
       " 9150,\n",
       " 9154,\n",
       " 9166,\n",
       " 9173,\n",
       " 9182,\n",
       " 9183,\n",
       " 9193,\n",
       " 9216,\n",
       " 9217,\n",
       " 9218,\n",
       " 9222,\n",
       " 9255,\n",
       " 9265,\n",
       " 9295,\n",
       " 9318,\n",
       " 9321,\n",
       " 9330,\n",
       " 9331,\n",
       " 9333,\n",
       " 9353,\n",
       " 9358,\n",
       " 9359,\n",
       " 9362,\n",
       " 9366,\n",
       " 9385,\n",
       " 9397,\n",
       " 9400,\n",
       " 9425,\n",
       " 9427,\n",
       " 9437,\n",
       " 9443,\n",
       " 9455,\n",
       " 9463,\n",
       " 9483,\n",
       " 9500,\n",
       " 9521,\n",
       " 9525,\n",
       " 9527,\n",
       " 9541,\n",
       " 9543,\n",
       " 9552,\n",
       " 9571,\n",
       " 9577,\n",
       " 9583,\n",
       " 9595,\n",
       " 9603,\n",
       " 9607,\n",
       " 9622,\n",
       " 9623,\n",
       " 9639,\n",
       " 9648,\n",
       " 9685,\n",
       " 9694,\n",
       " 9702,\n",
       " 9703,\n",
       " 9714,\n",
       " 9723,\n",
       " 9734,\n",
       " 9747,\n",
       " 9763,\n",
       " 9774,\n",
       " 9779,\n",
       " 9782,\n",
       " 9783,\n",
       " 9784,\n",
       " 9796,\n",
       " 9798,\n",
       " 9809,\n",
       " 9812,\n",
       " 9816,\n",
       " 9828,\n",
       " 9834,\n",
       " 9840,\n",
       " 9849,\n",
       " 9860,\n",
       " 9871,\n",
       " 9886,\n",
       " 9905,\n",
       " 9908,\n",
       " 9913,\n",
       " 9914,\n",
       " 9934,\n",
       " 9966,\n",
       " 9976,\n",
       " 9989,\n",
       " 9990,\n",
       " 10002,\n",
       " 10018,\n",
       " 10025,\n",
       " 10036,\n",
       " 10043,\n",
       " 10093,\n",
       " 10097,\n",
       " ...]"
      ]
     },
     "execution_count": 9,
     "metadata": {},
     "output_type": "execute_result"
    }
   ],
   "source": [
    "#sapos = np.where(y_train == 6)[0]\n",
    "one_on_fifth_position_index = []\n",
    "for i in range(0, len(y_train)):\n",
    "    if y_train[i][5] == 1:\n",
    "        one_on_fifth_position_index.append(i)\n",
    "        \n",
    "one_on_fifth_position_index "
   ]
  },
  {
   "cell_type": "code",
   "execution_count": 10,
   "metadata": {
    "colab": {
     "base_uri": "https://localhost:8080/"
    },
    "id": "bGxJpf4rWAiX",
    "outputId": "dc78fd7e-e89a-4988-cab3-b8ef9e17a394"
   },
   "outputs": [],
   "source": [
    "sapos=one_on_fifth_position_index "
   ]
  },
  {
   "cell_type": "code",
   "execution_count": 11,
   "metadata": {},
   "outputs": [
    {
     "name": "stdout",
     "output_type": "stream",
     "text": [
      "[23, 29, 43, 54, 58, 64, 69, 87, 128, 131, 137, 146, 151, 159, 162, 164, 174, 177, 189, 200, 230, 232, 260, 263, 278, 282, 287, 297, 307, 308, 310, 318, 321, 334, 364, 366, 370, 379, 381, 413, 425, 426, 429, 436, 458, 462, 466, 469, 486, 507, 514, 523, 532, 544, 545, 546, 574, 577, 580, 592, 607, 625, 657, 664, 665, 671, 688, 711, 725, 739, 745, 777, 791, 795, 798, 807, 808, 849, 859, 873, 885, 900, 908, 913, 925, 930, 937, 945, 958, 971, 972, 976, 997, 1006, 1008, 1021, 1024, 1025, 1041, 1046, 1057, 1059, 1099, 1112, 1115, 1124, 1126, 1134, 1137, 1148, 1171, 1175, 1197, 1213, 1214, 1219, 1228, 1232, 1236, 1248, 1253, 1256, 1268, 1271, 1288, 1294, 1308, 1316, 1317, 1337, 1357, 1358, 1362, 1371, 1403, 1406, 1413, 1417, 1419, 1424, 1431, 1435, 1438, 1439, 1445, 1474, 1490, 1496, 1510, 1513, 1543, 1546, 1551, 1553, 1555, 1571, 1577, 1585, 1602, 1611, 1620, 1621, 1633, 1643, 1664, 1669, 1677, 1678, 1695, 1706, 1737, 1741, 1744, 1763, 1775, 1776, 1781, 1795, 1799, 1806, 1818, 1819, 1831, 1838, 1851, 1863, 1865, 1867, 1887, 1892, 1896, 1897, 1900, 1916, 1918, 1925, 1940, 1941, 1951, 1967, 1973, 1996, 2029, 2073, 2078, 2105, 2106, 2114, 2115, 2116, 2180, 2186, 2204, 2213, 2233, 2237, 2238, 2248, 2250, 2258, 2289, 2300, 2316, 2321, 2333, 2338, 2340, 2365, 2367, 2368, 2380, 2385, 2388, 2400, 2407, 2410, 2411, 2412, 2422, 2429, 2430, 2459, 2462, 2463, 2466, 2475, 2482, 2510, 2511, 2513, 2530, 2532, 2543, 2545, 2550, 2551, 2562, 2563, 2569, 2583, 2589, 2663, 2681, 2689, 2691, 2697, 2700, 2701, 2729, 2734, 2752, 2772, 2777, 2801, 2803, 2813, 2814, 2817, 2823, 2833, 2840, 2856, 2861, 2871, 2875, 2880, 2898, 2904, 2907, 2939, 2969, 2973, 2989, 3033, 3077, 3081, 3084, 3092, 3093, 3097, 3112, 3115, 3117, 3156, 3180, 3192, 3196, 3205, 3230, 3235, 3236, 3243, 3267, 3270, 3278, 3283, 3324, 3334, 3337, 3340, 3352, 3376, 3399, 3412, 3417, 3433, 3437, 3439, 3440, 3461, 3462, 3474, 3483, 3508, 3509, 3511, 3516, 3526, 3530, 3531, 3546, 3559, 3561, 3570, 3614, 3625, 3628, 3629, 3632, 3642, 3649, 3653, 3675, 3679, 3681, 3684, 3692, 3698, 3705, 3707, 3708, 3714, 3715, 3720, 3723, 3724, 3733, 3735, 3738, 3741, 3757, 3772, 3787, 3794, 3802, 3803, 3813, 3829, 3865, 3869, 3874, 3878, 3896, 3903, 3905, 3915, 3958, 3961, 3967, 3973, 3994, 4003, 4010, 4016, 4023, 4034, 4042, 4055, 4063, 4070, 4074, 4078, 4093, 4106, 4112, 4114, 4119, 4132, 4133, 4160, 4167, 4174, 4179, 4191, 4195, 4198, 4218, 4222, 4225, 4236, 4267, 4272, 4289, 4301, 4303, 4305, 4313, 4314, 4316, 4342, 4350, 4392, 4394, 4395, 4401, 4412, 4416, 4419, 4420, 4430, 4456, 4534, 4537, 4538, 4554, 4563, 4596, 4606, 4607, 4610, 4614, 4620, 4624, 4628, 4632, 4634, 4640, 4642, 4643, 4653, 4693, 4698, 4701, 4703, 4707, 4726, 4729, 4740, 4748, 4765, 4789, 4795, 4798, 4801, 4810, 4833, 4841, 4860, 4872, 4873, 4878, 4880, 4909, 4917, 4918, 4940, 4944, 4947, 4948, 4969, 4976, 4978, 4982, 5003, 5018, 5024, 5055, 5061, 5062, 5064, 5077, 5083, 5088, 5089, 5124, 5128, 5138, 5141, 5148, 5160, 5174, 5177, 5183, 5210, 5214, 5220, 5224, 5235, 5241, 5243, 5269, 5287, 5291, 5293, 5301, 5317, 5336, 5339, 5344, 5354, 5356, 5371, 5412, 5415, 5421, 5432, 5460, 5461, 5469, 5472, 5484, 5490, 5492, 5514, 5530, 5540, 5547, 5613, 5641, 5650, 5664, 5680, 5681, 5686, 5696, 5701, 5708, 5712, 5717, 5718, 5757, 5776, 5782, 5785, 5786, 5800, 5802, 5815, 5823, 5833, 5835, 5867, 5878, 5885, 5888, 5899, 5912, 5916, 5923, 5924, 5928, 5934, 5941, 5944, 5972, 5981, 5994, 6001, 6012, 6024, 6044, 6048, 6067, 6072, 6076, 6089, 6092, 6095, 6099, 6107, 6117, 6120, 6124, 6125, 6136, 6143, 6144, 6168, 6171, 6186, 6192, 6201, 6205, 6209, 6215, 6228, 6262, 6285, 6287, 6292, 6297, 6332, 6345, 6352, 6355, 6373, 6410, 6413, 6430, 6433, 6443, 6444, 6451, 6466, 6474, 6482, 6484, 6495, 6502, 6543, 6545, 6553, 6555, 6565, 6571, 6573, 6587, 6598, 6600, 6607, 6616, 6618, 6619, 6621, 6623, 6624, 6639, 6652, 6657, 6668, 6706, 6717, 6720, 6746, 6771, 6773, 6774, 6792, 6816, 6819, 6825, 6831, 6838, 6844, 6860, 6893, 6897, 6898, 6907, 6912, 6915, 6926, 6929, 6933, 6954, 6962, 6976, 6987, 6989, 7009, 7023, 7024, 7028, 7042, 7050, 7051, 7062, 7066, 7068, 7071, 7086, 7088, 7089, 7111, 7112, 7114, 7115, 7127, 7138, 7149, 7165, 7168, 7172, 7195, 7203, 7205, 7212, 7227, 7228, 7236, 7237, 7238, 7242, 7251, 7277, 7292, 7299, 7302, 7309, 7337, 7365, 7374, 7377, 7382, 7391, 7395, 7409, 7411, 7427, 7430, 7432, 7446, 7470, 7483, 7493, 7502, 7505, 7519, 7524, 7548, 7555, 7557, 7559, 7562, 7579, 7601, 7603, 7605, 7606, 7609, 7615, 7623, 7626, 7628, 7633, 7641, 7648, 7653, 7659, 7664, 7667, 7688, 7712, 7737, 7748, 7776, 7779, 7786, 7788, 7794, 7807, 7838, 7842, 7845, 7856, 7862, 7865, 7871, 7880, 7883, 7898, 7902, 7913, 7934, 7947, 7950, 7953, 7987, 7993, 7998, 8014, 8015, 8046, 8054, 8058, 8060, 8065, 8084, 8088, 8098, 8117, 8118, 8132, 8149, 8180, 8202, 8213, 8214, 8226, 8235, 8239, 8247, 8253, 8264, 8282, 8312, 8320, 8335, 8344, 8351, 8355, 8356, 8358, 8384, 8412, 8416, 8429, 8435, 8439, 8445, 8450, 8485, 8506, 8508, 8509, 8513, 8519, 8532, 8534, 8543, 8579, 8587, 8614, 8622, 8626, 8633, 8636, 8650, 8663, 8673, 8711, 8735, 8743, 8746, 8753, 8756, 8810, 8811, 8820, 8821, 8848, 8851, 8858, 8859, 8885, 8895, 8897, 8898, 8901, 8908, 8916, 8924, 8936, 8938, 8946, 8957, 8962, 8963, 8971, 8972, 8973, 8974, 8982, 8988, 8996, 9003, 9023, 9040, 9043, 9050, 9051, 9055, 9062, 9072, 9073, 9140, 9149, 9150, 9154, 9166, 9173, 9182, 9183, 9193, 9216, 9217, 9218, 9222, 9255, 9265, 9295, 9318, 9321, 9330, 9331, 9333, 9353, 9358, 9359, 9362, 9366, 9385, 9397, 9400, 9425, 9427, 9437, 9443, 9455, 9463, 9483, 9500, 9521, 9525, 9527, 9541, 9543, 9552, 9571, 9577, 9583, 9595, 9603, 9607, 9622, 9623, 9639, 9648, 9685, 9694, 9702, 9703, 9714, 9723, 9734, 9747, 9763, 9774, 9779, 9782, 9783, 9784, 9796, 9798, 9809, 9812, 9816, 9828, 9834, 9840, 9849, 9860, 9871, 9886, 9905, 9908, 9913, 9914, 9934, 9966, 9976, 9989, 9990, 10002, 10018, 10025, 10036, 10043, 10093, 10097, 10107, 10109, 10113, 10120, 10124, 10129, 10147, 10150, 10181, 10183, 10184, 10193, 10195, 10197, 10199, 10201, 10210, 10233, 10242, 10246, 10249, 10255, 10260, 10267, 10270, 10275, 10278, 10286, 10306, 10307, 10312, 10319, 10323, 10335, 10346, 10352, 10364, 10388, 10407, 10432, 10457, 10476, 10513, 10527, 10547, 10548, 10553, 10560, 10568, 10573, 10576, 10581, 10585, 10586, 10596, 10606, 10608, 10610, 10616, 10625, 10626, 10639, 10667, 10668, 10673, 10678, 10692, 10699, 10704, 10713, 10730, 10732, 10740, 10751, 10762, 10769, 10778, 10786, 10790, 10853, 10868, 10871, 10878, 10880, 10885, 10902, 10916, 10918, 10924, 10928, 10946, 10964, 10967, 10974, 10977, 10978, 10990, 10995, 11012, 11015, 11054, 11061, 11066, 11078, 11082, 11086, 11129, 11182, 11202, 11208, 11213, 11244, 11249, 11250, 11251, 11253, 11271, 11277, 11278, 11289, 11290, 11305, 11307, 11315, 11344, 11345, 11349, 11371, 11375, 11379, 11401, 11430, 11449, 11463, 11494, 11500, 11505, 11517, 11532, 11535, 11539, 11544, 11548, 11552, 11558, 11562, 11563, 11578, 11579, 11595, 11596, 11623, 11634, 11648, 11653, 11663, 11664, 11670, 11671, 11688, 11713, 11732, 11738, 11740, 11743, 11755, 11761, 11762, 11772, 11776, 11781, 11791, 11805, 11806, 11808, 11811, 11820, 11825, 11827, 11839, 11842, 11855, 11859, 11872, 11875, 11876, 11880, 11889, 11907, 11908, 11912, 11913, 11927, 11928, 11929, 11939, 11955, 11964, 11993, 12003, 12010, 12019, 12031, 12043, 12050, 12055, 12059, 12060, 12068, 12074, 12076, 12098, 12102, 12108, 12110, 12122, 12134, 12149, 12153, 12180, 12189, 12190, 12191, 12210, 12226, 12236, 12251, 12260, 12264, 12268, 12269, 12273, 12276, 12286, 12297, 12307, 12315, 12347, 12353, 12403, 12442, 12446, 12449, 12455, 12484, 12502, 12512, 12519, 12520, 12525, 12528, 12538, 12540, 12552, 12558, 12562, 12572, 12583, 12585, 12587, 12592, 12593, 12595, 12601, 12605, 12611, 12613, 12618, 12638, 12639, 12668, 12684, 12696, 12699, 12703, 12718, 12720, 12728, 12738, 12740, 12749, 12757, 12759, 12773, 12781, 12792, 12794, 12815, 12822, 12830, 12837, 12859, 12860, 12879, 12881, 12903, 12910, 12916, 12926, 12929, 12950, 12956, 12985, 12986, 12997, 13015, 13028, 13035, 13036, 13045, 13054, 13055, 13073, 13083, 13098, 13103, 13110, 13115, 13131, 13137, 13143, 13150, 13168, 13170, 13179, 13200, 13212, 13217, 13238, 13248, 13254, 13266, 13272, 13275, 13285, 13290, 13299, 13319, 13341, 13343, 13367, 13395, 13396, 13399, 13413, 13415, 13420, 13425, 13430, 13446, 13447, 13479, 13492, 13504, 13530, 13533, 13540, 13551, 13555, 13563, 13564, 13565, 13571, 13616, 13621, 13623, 13624, 13632, 13633, 13634, 13636, 13644, 13646, 13683, 13691, 13700, 13704, 13705, 13706, 13707, 13720, 13728, 13740, 13757, 13773, 13789, 13791, 13796, 13810, 13819, 13820, 13828, 13855, 13871, 13872, 13880, 13886, 13898, 13926, 13932, 13935, 13942, 13954, 13988, 14006, 14046, 14048, 14051, 14068, 14085, 14091, 14093, 14101, 14108, 14110, 14130, 14161, 14169, 14186, 14195, 14197, 14208, 14228, 14245, 14258, 14262, 14279, 14281, 14304, 14308, 14310, 14312, 14339, 14354, 14360, 14392, 14431, 14435, 14447, 14451, 14456, 14461, 14469, 14481, 14491, 14497, 14499, 14538, 14554, 14561, 14572, 14585, 14589, 14590, 14599, 14609, 14620, 14623, 14630, 14642, 14646, 14648, 14650, 14655, 14661, 14670, 14702, 14720, 14733, 14734, 14738, 14748, 14750, 14751, 14758, 14761, 14773, 14775, 14812, 14817, 14827, 14839, 14845, 14852, 14866, 14879, 14882, 14890, 14894, 14897, 14901, 14906, 14907, 14910, 14914, 14920, 14926, 14945, 14946, 14952, 14962, 14970, 14974, 14980, 14982, 14983, 14999, 15005, 15008, 15026, 15029, 15041, 15068, 15085, 15090, 15100, 15116, 15130, 15138, 15153, 15161, 15175, 15188, 15192, 15195, 15215, 15219, 15235, 15277, 15290, 15304, 15328, 15347, 15353, 15359, 15362, 15365, 15374, 15380, 15397, 15411, 15419, 15438, 15441, 15459, 15466, 15472, 15474, 15479, 15485, 15487, 15500, 15504, 15509, 15510, 15530, 15549, 15563, 15570, 15575, 15585, 15587, 15590, 15596, 15603, 15606, 15607, 15609, 15611, 15633, 15643, 15651, 15652, 15653, 15667, 15670, 15674, 15678, 15687, 15717, 15718, 15721, 15722, 15732, 15739, 15746, 15748, 15749, 15758, 15778, 15781, 15789, 15805, 15807, 15812, 15820, 15825, 15834, 15859, 15866, 15879, 15906, 15910, 15911, 15920, 15923, 15925, 15926, 15927, 15937, 15954, 15955, 15956, 15959, 15966, 15967, 15976, 15978, 16001, 16010, 16027, 16034, 16035, 16042, 16050, 16053, 16055, 16062, 16063, 16083, 16084, 16094, 16102, 16103, 16106, 16115, 16123, 16141, 16164, 16182, 16193, 16219, 16252, 16256, 16271, 16275, 16282, 16295, 16297, 16312, 16327, 16333, 16334, 16342, 16358, 16359, 16364, 16375, 16386, 16396, 16416, 16441, 16446, 16449, 16461, 16498, 16499, 16514, 16515, 16527, 16534, 16541, 16543, 16557, 16559, 16563, 16573, 16575, 16576, 16585, 16587, 16602, 16604, 16614, 16615, 16619, 16629, 16639, 16654, 16657, 16675, 16692, 16700, 16714, 16715, 16720, 16728, 16729, 16734, 16737, 16752, 16763, 16769, 16779, 16786, 16787, 16800, 16815, 16820, 16824, 16830, 16833, 16840, 16848, 16850, 16858, 16864, 16894, 16901, 16905, 16910, 16923, 16928, 16942, 16978, 16980, 16984, 16988, 16989, 16990, 17005, 17018, 17032, 17050, 17059, 17078, 17085, 17092, 17094, 17125, 17148, 17149, 17151, 17168, 17172, 17191, 17212, 17221, 17224, 17248, 17250, 17252, 17262, 17266, 17311, 17313, 17320, 17321, 17325, 17337, 17339, 17343, 17344, 17353, 17357, 17367, 17371, 17381, 17382, 17387, 17397, 17401, 17421, 17428, 17436, 17440, 17455, 17461, 17473, 17483, 17490, 17501, 17508, 17549, 17550, 17572, 17614, 17631, 17634, 17639, 17649, 17650, 17656, 17673, 17679, 17681, 17683, 17684, 17688, 17720, 17736, 17746, 17749, 17758, 17762, 17791, 17795, 17811, 17822, 17826, 17827, 17838, 17841, 17850, 17858, 17868, 17871, 17877, 17908, 17928, 17948, 17957, 17961, 17976, 17977, 17978, 17993, 17998, 18004, 18005, 18018, 18020, 18025, 18026, 18028, 18031, 18060, 18075, 18114, 18140, 18154, 18156, 18160, 18168, 18176, 18180, 18235, 18251, 18260, 18261, 18264, 18268, 18270, 18282, 18297, 18308, 18317, 18319, 18332, 18337, 18343, 18346, 18350, 18355, 18360, 18363, 18365, 18367, 18378, 18390, 18412, 18416, 18425, 18432, 18446, 18455, 18460, 18467, 18476, 18482, 18498, 18514, 18515, 18523, 18529, 18534, 18535, 18538, 18561, 18565, 18588, 18624, 18642, 18643, 18645, 18646, 18650, 18651, 18655, 18662, 18668, 18702, 18704, 18708, 18733, 18739, 18742, 18771, 18777, 18779, 18787, 18797, 18798, 18800, 18825, 18827, 18849, 18854, 18865, 18869, 18875, 18879, 18884, 18890, 18899, 18900, 18905, 18938, 18942, 18946, 18961, 18975, 18989, 19030, 19042, 19045, 19054, 19089, 19091, 19110, 19111, 19138, 19174, 19203, 19216, 19226, 19255, 19274, 19280, 19281, 19291, 19294, 19297, 19303, 19315, 19330, 19339, 19350, 19351, 19360, 19375, 19390, 19399, 19405, 19407, 19427, 19432, 19436, 19440, 19450, 19458, 19463, 19486, 19500, 19503, 19507, 19514, 19516, 19521, 19526, 19529, 19542, 19543, 19559, 19560, 19564, 19570, 19591, 19612, 19633, 19635, 19648, 19651, 19658, 19668, 19670, 19671, 19674, 19678, 19683, 19692, 19693, 19698, 19699, 19731, 19732, 19735, 19762, 19777, 19792, 19801, 19802, 19818, 19821, 19835, 19843, 19847, 19860, 19871, 19872, 19883, 19884, 19887, 19889, 19891, 19894, 19904, 19906, 19915, 19916, 19930, 19937, 19954, 19957, 19959, 19973, 19984, 19989, 19991, 20007, 20010, 20014, 20016, 20026, 20034, 20036, 20038, 20053, 20071, 20075, 20086, 20088, 20094, 20097, 20100, 20109, 20111, 20122, 20125, 20145, 20159, 20168, 20177, 20196, 20197, 20200, 20209, 20228, 20234, 20237, 20253, 20258, 20261, 20271, 20281, 20297, 20303, 20324, 20335, 20354, 20359, 20383, 20391, 20400, 20402, 20423, 20427, 20429, 20435, 20461, 20469, 20471, 20472, 20484, 20491, 20492, 20505, 20509, 20512, 20513, 20516, 20536, 20543, 20549, 20564, 20574, 20586, 20594, 20595, 20597, 20610, 20622, 20623, 20650, 20656, 20673, 20688, 20692, 20701, 20704, 20726, 20741, 20746, 20754, 20769, 20770, 20771, 20791, 20803, 20807, 20820, 20824, 20826, 20829, 20831, 20833, 20836, 20846, 20863, 20870, 20883, 20896, 20901, 20929, 20948, 20964, 20970, 21001, 21011, 21019, 21020, 21023, 21031, 21042, 21053, 21059, 21082, 21083, 21086, 21099, 21107, 21115, 21125, 21138, 21160, 21168, 21181, 21200, 21208, 21216, 21217, 21218, 21235, 21237, 21240, 21242, 21248, 21280, 21284, 21285, 21286, 21296, 21299, 21310, 21355, 21366, 21368, 21375, 21385, 21387, 21404, 21419, 21425, 21439, 21442, 21475, 21493, 21544, 21545, 21561, 21563, 21565, 21578, 21582, 21586, 21597, 21612, 21625, 21626, 21631, 21640, 21648, 21673, 21704, 21710, 21711, 21713, 21733, 21742, 21753, 21758, 21780, 21786, 21800, 21816, 21825, 21831, 21832, 21842, 21846, 21847, 21873, 21885, 21887, 21890, 21895, 21913, 21914, 21917, 21924, 21926, 21933, 21952, 21956, 21958, 22039, 22068, 22074, 22078, 22085, 22087, 22091, 22105, 22106, 22107, 22124, 22125, 22149, 22160, 22182, 22199, 22200, 22203, 22227, 22230, 22241, 22255, 22262, 22268, 22276, 22280, 22284, 22292, 22294, 22298, 22305, 22324, 22325, 22344, 22367, 22374, 22380, 22386, 22391, 22423, 22460, 22461, 22518, 22519, 22524, 22527, 22538, 22542, 22551, 22552, 22572, 22584, 22585, 22589, 22597, 22602, 22610, 22613, 22629, 22639, 22644, 22668, 22698, 22704, 22747, 22756, 22761, 22764, 22780, 22788, 22797, 22814, 22842, 22849, 22857, 22861, 22869, 22885, 22894, 22908, 22930, 22937, 22947, 22978, 22980, 22996, 23009, 23022, 23026, 23032, 23033, 23047, 23059, 23060, 23076, 23090, 23093, 23131, 23136, 23157, 23196, 23224, 23229, 23241, 23243, 23245, 23264, 23308, 23322, 23345, 23355, 23361, 23363, 23366, 23367, 23370, 23382, 23392, 23410, 23411, 23426, 23431, 23438, 23440, 23447, 23453, 23454, 23455, 23456, 23465, 23485, 23490, 23492, 23505, 23506, 23520, 23538, 23564, 23568, 23573, 23577, 23584, 23585, 23591, 23594, 23597, 23601, 23602, 23603, 23621, 23629, 23655, 23662, 23727, 23736, 23738, 23740, 23763, 23766, 23769, 23773, 23786, 23790, 23801, 23810, 23861, 23865, 23875, 23888, 23890, 23896, 23954, 23958, 23966, 23978, 23982, 24012, 24014, 24023, 24026, 24028, 24040, 24065, 24071, 24076, 24090, 24106, 24110, 24114, 24122, 24126, 24140, 24141, 24149, 24150, 24163, 24185, 24195, 24204, 24230, 24243, 24246, 24247, 24248, 24252, 24263, 24267, 24272, 24291, 24308, 24312, 24321, 24322, 24336, 24362, 24370, 24371, 24377, 24391, 24421, 24423, 24427, 24432, 24443, 24452, 24461, 24466, 24467, 24476, 24489, 24491, 24499, 24516, 24546, 24549, 24553, 24566, 24571, 24573, 24584, 24588, 24623, 24624, 24643, 24685, 24690, 24704, 24735, 24737, 24738, 24745, 24759, 24768, 24769, 24770, 24778, 24784, 24801, 24828, 24829, 24894, 24904, 24937, 24964, 24966, 24973, 24983, 24997, 24999, 25005, 25011, 25020, 25028, 25041, 25056, 25058, 25060, 25062, 25091, 25093, 25095, 25103, 25122, 25132, 25135, 25139, 25140, 25146, 25170, 25171, 25181, 25192, 25196, 25200, 25221, 25233, 25239, 25246, 25272, 25283, 25287, 25316, 25319, 25323, 25324, 25333, 25338, 25357, 25364, 25398, 25402, 25417, 25420, 25430, 25439, 25442, 25460, 25472, 25479, 25506, 25509, 25510, 25516, 25529, 25533, 25547, 25551, 25560, 25565, 25571, 25574, 25592, 25601, 25608, 25609, 25625, 25631, 25659, 25667, 25670, 25683, 25712, 25721, 25724, 25743, 25753, 25764, 25771, 25779, 25790, 25794, 25806, 25821, 25824, 25831, 25837, 25838, 25850, 25856, 25857, 25877, 25881, 25897, 25898, 25902, 25929, 25936, 25943, 25950, 25951, 25958, 25961, 25980, 25983, 25996, 26020, 26023, 26035, 26042, 26048, 26079, 26088, 26115, 26125, 26134, 26153, 26159, 26186, 26196, 26209, 26213, 26227, 26231, 26244, 26259, 26277, 26302, 26308, 26324, 26340, 26349, 26363, 26369, 26399, 26404, 26411, 26419, 26442, 26445, 26447, 26450, 26461, 26480, 26483, 26489, 26495, 26496, 26503, 26530, 26534, 26538, 26556, 26578, 26586, 26591, 26610, 26624, 26628, 26632, 26636, 26638, 26645, 26649, 26651, 26658, 26670, 26689, 26701, 26704, 26716, 26721, 26722, 26735, 26737, 26751, 26760, 26763, 26772, 26792, 26796, 26820, 26822, 26841, 26854, 26856, 26860, 26870, 26875, 26877, 26899, 26903, 26908, 26911, 26928, 26937, 26938, 26939, 26957, 26968, 26974, 26977, 26984, 26993, 26995, 27022, 27027, 27039, 27042, 27051, 27061, 27067, 27077, 27096, 27100, 27104, 27109, 27112, 27120, 27123, 27134, 27149, 27158, 27159, 27161, 27165, 27177, 27183, 27189, 27195, 27202, 27206, 27212, 27220, 27223, 27246, 27260, 27265, 27269, 27295, 27324, 27333, 27336, 27337, 27372, 27392, 27410, 27411, 27412, 27423, 27425, 27430, 27431, 27446, 27460, 27478, 27489, 27493, 27497, 27503, 27506, 27510, 27529, 27533, 27544, 27550, 27554, 27576, 27578, 27580, 27583, 27584, 27594, 27595, 27621, 27634, 27641, 27651, 27658, 27665, 27674, 27678, 27698, 27704, 27709, 27728, 27736, 27741, 27751, 27754, 27784, 27786, 27798, 27802, 27804, 27833, 27847, 27849, 27859, 27876, 27885, 27890, 27933, 27935, 27936, 27941, 27945, 27946, 27947, 27952, 27953, 27976, 27986, 27991, 27993, 28003, 28023, 28028, 28044, 28047, 28060, 28072, 28073, 28104, 28115, 28121, 28122, 28124, 28126, 28131, 28135, 28147, 28161, 28171, 28186, 28202, 28205, 28220, 28223, 28231, 28241, 28244, 28246, 28267, 28273, 28276, 28307, 28322, 28334, 28357, 28361, 28364, 28366, 28378, 28379, 28384, 28410, 28413, 28435, 28449, 28453, 28485, 28487, 28516, 28533, 28535, 28538, 28547, 28550, 28557, 28559, 28565, 28582, 28583, 28585, 28618, 28647, 28652, 28657, 28677, 28683, 28690, 28693, 28714, 28721, 28722, 28728, 28734, 28746, 28749, 28750, 28766, 28767, 28770, 28774, 28779, 28788, 28819, 28823, 28826, 28832, 28841, 28842, 28847, 28850, 28851, 28862, 28873, 28887, 28889, 28891, 28912, 28927, 28946, 28952, 28958, 28960, 29002, 29007, 29019, 29022, 29033, 29040, 29043, 29075, 29079, 29095, 29107, 29111, 29120, 29137, 29138, 29141, 29143, 29165, 29168, 29183, 29186, 29188, 29191, 29195, 29210, 29216, 29220, 29237, 29242, 29246, 29250, 29257, 29274, 29296, 29303, 29305, 29307, 29317, 29319, 29321, 29329, 29343, 29344, 29364, 29371, 29377, 29379, 29405, 29411, 29413, 29418, 29435, 29441, 29449, 29465, 29473, 29474, 29475, 29478, 29481, 29484, 29498, 29503, 29522, 29545, 29546, 29568, 29574, 29594, 29608, 29609, 29610, 29617, 29622, 29627, 29637, 29641, 29645, 29651, 29652, 29656, 29657, 29672, 29681, 29682, 29689, 29693, 29696, 29701, 29708, 29711, 29726, 29760, 29768, 29790, 29794, 29796, 29811, 29812, 29816, 29819, 29829, 29842, 29868, 29879, 29883, 29891, 29919, 29921, 29935, 29939, 29943, 29949, 29950, 29969, 29977, 29978, 29982, 29984, 29993]\n"
     ]
    }
   ],
   "source": [
    "print(sapos)"
   ]
  },
  {
   "cell_type": "code",
   "execution_count": 12,
   "metadata": {
    "colab": {
     "base_uri": "https://localhost:8080/",
     "height": 300
    },
    "id": "7RbG8TKxVgMV",
    "outputId": "c1dea452-dade-4ec5-f3ba-5f7ade927b02",
    "scrolled": true
   },
   "outputs": [
    {
     "name": "stdout",
     "output_type": "stream",
     "text": [
      "sapo numero 3966\n"
     ]
    },
    {
     "ename": "IndexError",
     "evalue": "list index out of range",
     "output_type": "error",
     "traceback": [
      "\u001b[1;31m---------------------------------------------------------------------------\u001b[0m",
      "\u001b[1;31mIndexError\u001b[0m                                Traceback (most recent call last)",
      "Input \u001b[1;32mIn [12]\u001b[0m, in \u001b[0;36m<cell line: 3>\u001b[1;34m()\u001b[0m\n\u001b[0;32m      1\u001b[0m r \u001b[38;5;241m=\u001b[39m np\u001b[38;5;241m.\u001b[39mrandom\u001b[38;5;241m.\u001b[39mrandint(\u001b[38;5;241m0\u001b[39m, \u001b[38;5;241m5000\u001b[39m)\n\u001b[0;32m      2\u001b[0m \u001b[38;5;28mprint\u001b[39m(\u001b[38;5;124m'\u001b[39m\u001b[38;5;124msapo numero \u001b[39m\u001b[38;5;124m'\u001b[39m \u001b[38;5;241m+\u001b[39m \u001b[38;5;28mstr\u001b[39m(r))\n\u001b[1;32m----> 3\u001b[0m plt\u001b[38;5;241m.\u001b[39mimshow(x_train[\u001b[43msapos\u001b[49m\u001b[43m[\u001b[49m\u001b[43mr\u001b[49m\u001b[43m]\u001b[49m])\n\u001b[0;32m      4\u001b[0m \u001b[38;5;28mprint\u001b[39m(\u001b[38;5;124m'\u001b[39m\u001b[38;5;124mobserve que belo sapo\u001b[39m\u001b[38;5;124m'\u001b[39m)\n",
      "\u001b[1;31mIndexError\u001b[0m: list index out of range"
     ]
    }
   ],
   "source": [
    "r = np.random.randint(0, 5000)\n",
    "print('sapo numero ' + str(r))\n",
    "plt.imshow(x_train[sapos[r]])\n",
    "print('observe que belo sapo')"
   ]
  },
  {
   "cell_type": "code",
   "execution_count": 13,
   "metadata": {
    "colab": {
     "base_uri": "https://localhost:8080/",
     "height": 283
    },
    "id": "mGwq_rg8IARQ",
    "outputId": "bb227477-792d-4258-9d03-efc967c768e7"
   },
   "outputs": [
    {
     "data": {
      "text/plain": [
       "<matplotlib.image.AxesImage at 0x24811101580>"
      ]
     },
     "execution_count": 13,
     "metadata": {},
     "output_type": "execute_result"
    },
    {
     "data": {
      "image/png": "[encoded data removed]",
      "text/plain": [
       "<Figure size 432x288 with 1 Axes>"
      ]
     },
     "metadata": {
      "needs_background": "light"
     },
     "output_type": "display_data"
    }
   ],
   "source": [
    "plt.imshow(x_train[501])"
   ]
  },
  {
   "cell_type": "code",
   "execution_count": null,
   "metadata": {
    "colab": {
     "base_uri": "https://localhost:8080/",
     "height": 283
    },
    "id": "xkB7lJIgL7we",
    "outputId": "693f404e-87bd-4b6d-91c2-bec0462b3df1"
   },
   "outputs": [],
   "source": [
    "plt.imshow(x_train[501,:,:,0])"
   ]
  },
  {
   "cell_type": "code",
   "execution_count": null,
   "metadata": {
    "id": "x123gGQ6IzLH"
   },
   "outputs": [],
   "source": [
    "# Tentando modelo qualquer\n",
    "model = keras.Sequential()\n",
    "model.add(keras.Input(shape=(32, 32, 3)))\n",
    "model.add(layers.Conv2D(64, kernel_size=3, strides=1, activation=\"relu\"))\n",
    "model.add(layers.MaxPooling2D(3))\n",
    "model.add(layers.Flatten())\n",
    "model.add(layers.Dense(10, activation='softmax'))\n",
    "\n",
    "\n",
    "# Compile model\n",
    "model.compile(loss='categorical_crossentropy', optimizer='adam', metrics=['accuracy'])"
   ]
  },
  {
   "cell_type": "markdown",
   "metadata": {
    "id": "nCgstxHGSQlX"
   },
   "source": [
    "Sobre a convolução:\n",
    "```\n",
    "Input shape:\n",
    "  4+D tensor with shape: batch_shape + (rows, cols, channels) if\n",
    "    data_format='channels_last'.\n",
    "```"
   ]
  },
  {
   "cell_type": "code",
   "execution_count": null,
   "metadata": {
    "colab": {
     "base_uri": "https://localhost:8080/"
    },
    "id": "IfzNv-kDiUdf",
    "outputId": "0f04363d-f3fe-4ad3-8c4a-bd5a0744c3fc"
   },
   "outputs": [],
   "source": [
    "model.summary() # ixi, tá pequena!"
   ]
  },
  {
   "cell_type": "code",
   "execution_count": null,
   "metadata": {
    "id": "8gZ3Tw6egwwc"
   },
   "outputs": [],
   "source": [
    "# rede maiorzinha com várias convoluções\n",
    "model = keras.Sequential()\n",
    "model.add(layers.Conv2D(32, (3, 3), activation='relu', kernel_initializer='he_uniform', padding='same', input_shape=(32, 32, 3)))\n",
    "model.add(layers.Conv2D(32, (3, 3), activation='relu', kernel_initializer='he_uniform', padding='same'))\n",
    "model.add(layers.MaxPooling2D((2, 2)))\n",
    "model.add(layers.Conv2D(64, (3, 3), activation='relu', kernel_initializer='he_uniform', padding='same'))\n",
    "model.add(layers.Conv2D(64, (3, 3), activation='relu', kernel_initializer='he_uniform', padding='same'))\n",
    "model.add(layers.MaxPooling2D((2, 2)))\n",
    "model.add(layers.Conv2D(128, (3, 3), activation='relu', kernel_initializer='he_uniform', padding='same'))\n",
    "model.add(layers.Conv2D(128, (3, 3), activation='relu', kernel_initializer='he_uniform', padding='same'))\n",
    "model.add(layers.MaxPooling2D((2, 2)))\n",
    "model.add(layers.Flatten())\n",
    "model.add(layers.Dense(128, activation='relu', kernel_initializer='he_uniform'))\n",
    "model.add(layers.Dense(10, activation='softmax'))"
   ]
  },
  {
   "cell_type": "code",
   "execution_count": null,
   "metadata": {
    "colab": {
     "base_uri": "https://localhost:8080/"
    },
    "id": "4w1-IHVmhNG0",
    "outputId": "ef716b92-d209-4fd5-f79b-8a6b3779f8ee"
   },
   "outputs": [],
   "source": [
    "model.summary()"
   ]
  },
  {
   "cell_type": "code",
   "execution_count": null,
   "metadata": {
    "id": "uEyJyGJJheKd"
   },
   "outputs": [],
   "source": [
    "# compile model\n",
    "opt = keras.optimizers.Adagrad()\n",
    "model.compile(optimizer=opt, loss='categorical_crossentropy', metrics=['accuracy'])"
   ]
  },
  {
   "cell_type": "code",
   "execution_count": null,
   "metadata": {
    "id": "YduM88n_l9AB"
   },
   "outputs": [],
   "source": [
    "# callbacks: tensorboard e early stopping\n",
    "import datetime\n",
    "!rm -rf ./logs/\n",
    "log_dir = \"logs/fit/\" + (datetime.datetime.now() + datetime.timedelta(hours=-3)).strftime(\"%Y%m%d-%H%M%S\")\n",
    "tb_callback = tf.keras.callbacks.TensorBoard(log_dir=log_dir)\n",
    "\n",
    "stopper = tf.keras.callbacks.EarlyStopping(\n",
    "    monitor=\"val_loss\", patience=10, verbose=2\n",
    ")"
   ]
  },
  {
   "cell_type": "code",
   "execution_count": null,
   "metadata": {
    "colab": {
     "base_uri": "https://localhost:8080/"
    },
    "id": "cQy0-RHdheOo",
    "outputId": "470b7515-d86d-4c03-c4df-d1ad5454de19"
   },
   "outputs": [],
   "source": [
    "# fit model\n",
    "model.fit(x_train,\n",
    "          y_train,\n",
    "          epochs=100,\n",
    "          batch_size=128,\n",
    "          validation_data=(x_test, y_test),\n",
    "          callbacks=[tb_callback] #adicionar stopper para fazer early stopping\n",
    "          )"
   ]
  },
  {
   "cell_type": "code",
   "execution_count": null,
   "metadata": {
    "id": "7G98LBocNfxU"
   },
   "outputs": [],
   "source": [
    "model.save('CNN_70acc_47accval.h5')"
   ]
  },
  {
   "cell_type": "code",
   "execution_count": null,
   "metadata": {
    "colab": {
     "base_uri": "https://localhost:8080/",
     "height": 283
    },
    "id": "sOgKRcpAOOxo",
    "outputId": "b2094792-3cf8-4760-8180-8e8b638da0f2"
   },
   "outputs": [],
   "source": [
    "i = 1007\n",
    "pred = model.predict(tf.expand_dims(x_test[i], 0))\n",
    "plt.imshow(x_test[i])\n",
    "print(esqueci_as_classes_me_ajuda(pred))"
   ]
  },
  {
   "cell_type": "markdown",
   "metadata": {
    "id": "_utFZ3XsRDC5"
   },
   "source": [
    "Papo chato sobre dimensões:\n",
    "\n",
    "The first dimension is the batch size, it's None because it can vary depending on how many examples you give for training. (If you defined the batch size explicitly, then the number you defined will appear instead of None)"
   ]
  },
  {
   "cell_type": "code",
   "execution_count": null,
   "metadata": {
    "colab": {
     "base_uri": "https://localhost:8080/"
    },
    "id": "wEYKhDG0P_vb",
    "outputId": "bcd4ce4d-5bc6-44c1-d283-e0587c471274"
   },
   "outputs": [],
   "source": [
    "# Given the input shape, all other shapes are results of layers calculations.\n",
    "model.output_shape"
   ]
  },
  {
   "cell_type": "code",
   "execution_count": null,
   "metadata": {
    "colab": {
     "base_uri": "https://localhost:8080/"
    },
    "id": "ioKGuZUSWoPk",
    "outputId": "b7911a1c-d343-415d-96fd-1a5b905d4805"
   },
   "outputs": [],
   "source": [
    "y_train[0].shape"
   ]
  },
  {
   "cell_type": "code",
   "execution_count": null,
   "metadata": {
    "id": "i_tmKN9pSUWq"
   },
   "outputs": [],
   "source": [
    "model(x_train[0]) # não funciona porque ele espera um tensor e eu to dando pra ele um ndarray\n",
    "# O keras sempre vai esperar um tensor onde a primeira dimensão é o batch size\n",
    "# pra consertar, usei uma função do tensorflow que pega um vetor [x, y] e adiciona uma dimensão\n",
    "# extra sem nada, ou seja, transforma ele em [1, x, y]"
   ]
  },
  {
   "cell_type": "code",
   "execution_count": null,
   "metadata": {
    "id": "6jP2UBzIl9D5"
   },
   "outputs": [],
   "source": [
    "%load_ext tensorboard"
   ]
  },
  {
   "cell_type": "code",
   "execution_count": null,
   "metadata": {
    "id": "YAyRMLAml9GS"
   },
   "outputs": [],
   "source": [
    "%tensorboard --logdir logs"
   ]
  },
  {
   "cell_type": "markdown",
   "metadata": {
    "id": "PPs21MJc8hZI"
   },
   "source": [
    "### Transfer learning com a VGG16\n",
    "\n",
    "https://keras.io/api/applications/vgg/"
   ]
  },
  {
   "cell_type": "markdown",
   "metadata": {
    "id": "74UcmmOsAFdL"
   },
   "source": [
    "*Note: each Keras Application expects a specific kind of input preprocessing. For VGG16, call tf.keras.applications.vgg16.preprocess_input on your inputs before passing them to the model.*"
   ]
  },
  {
   "cell_type": "code",
   "execution_count": null,
   "metadata": {
    "colab": {
     "base_uri": "https://localhost:8080/"
    },
    "id": "83q3sHyWMY-o",
    "outputId": "459af6f5-eb0c-4d44-dd2f-78341da20c76"
   },
   "outputs": [],
   "source": [
    "from keras.applications import vgg16\n",
    "\n",
    "# VGG16 was designed to work on 224 x 224 pixel input images sizes (base é a imagenet)\n",
    "# Aqui vamos usar para as imagens 32 x 32 do CIFAR10\n",
    "\n",
    "# Loads the VGG16 model without the top or FC layers\n",
    "vgg16_model = vgg16.VGG16(weights='imagenet', include_top = False, input_shape=(32, 32, 3))"
   ]
  },
  {
   "cell_type": "code",
   "execution_count": null,
   "metadata": {
    "id": "YXNU5FpTN_SV"
   },
   "outputs": [],
   "source": [
    "model2 = keras.Sequential()\n",
    "for layer in vgg16_model.layers:\n",
    "  model2.add(layer)"
   ]
  },
  {
   "cell_type": "code",
   "execution_count": null,
   "metadata": {
    "colab": {
     "base_uri": "https://localhost:8080/"
    },
    "id": "AD6SE1py7sIG",
    "outputId": "b333b2cc-5a89-49c5-b9c4-154539d9ec18"
   },
   "outputs": [],
   "source": [
    "model2.summary()"
   ]
  },
  {
   "cell_type": "code",
   "execution_count": null,
   "metadata": {
    "id": "Ho1FjHrO8Qed"
   },
   "outputs": [],
   "source": [
    "# Congelando os pesos que não vou treinar\n",
    "for layer in model2.layers:\n",
    "  layer.trainable = False"
   ]
  },
  {
   "cell_type": "code",
   "execution_count": null,
   "metadata": {
    "colab": {
     "base_uri": "https://localhost:8080/"
    },
    "id": "ynWb9yq7AST5",
    "outputId": "ea7b4c66-11dc-4917-e4f8-496050e14e8b"
   },
   "outputs": [],
   "source": [
    "model2.summary()"
   ]
  },
  {
   "cell_type": "code",
   "execution_count": null,
   "metadata": {
    "id": "eh-gnbVz7tTv"
   },
   "outputs": [],
   "source": [
    "# Adicionando mais uns layerzinhos no final, atenção pra saída que tem que ser com 10 classes\n",
    "model2.add(layers.Flatten())\n",
    "model2.add(layers.Dense(300, activation='relu'))\n",
    "model2.add(layers.Dense(10, activation='softmax'))"
   ]
  },
  {
   "cell_type": "code",
   "execution_count": null,
   "metadata": {
    "colab": {
     "base_uri": "https://localhost:8080/"
    },
    "id": "h5p22Nw570yy",
    "outputId": "38cd6e03-78ec-4132-9a5a-aac841b6669a"
   },
   "outputs": [],
   "source": [
    "model2.summary()"
   ]
  },
  {
   "cell_type": "code",
   "execution_count": null,
   "metadata": {
    "colab": {
     "base_uri": "https://localhost:8080/"
    },
    "id": "YmxQYIIEHnMi",
    "outputId": "dc1c7c29-6e02-43f0-ec06-e708d7f5a66e"
   },
   "outputs": [],
   "source": [
    "model2.output"
   ]
  },
  {
   "cell_type": "code",
   "execution_count": null,
   "metadata": {
    "id": "ZgfqAm6p72us"
   },
   "outputs": [],
   "source": [
    "# callbacks: early stopping\n",
    "stopper = tf.keras.callbacks.EarlyStopping(\n",
    "    monitor=\"val_loss\", patience=20, verbose=2\n",
    ")"
   ]
  },
  {
   "cell_type": "code",
   "execution_count": null,
   "metadata": {
    "id": "ezT631mp9eS5"
   },
   "outputs": [],
   "source": [
    "# compile model\n",
    "opt = keras.optimizers.SGD()\n",
    "model2.compile(optimizer=opt, loss='categorical_crossentropy', metrics=['accuracy'])"
   ]
  },
  {
   "cell_type": "code",
   "execution_count": null,
   "metadata": {
    "colab": {
     "base_uri": "https://localhost:8080/"
    },
    "id": "kOlWiGgJH66K",
    "outputId": "ab434948-8314-4afc-d3eb-967ee61df23b"
   },
   "outputs": [],
   "source": [
    "import tensorflow as tf\n",
    "tf.config.list_physical_devices('GPU')"
   ]
  },
  {
   "cell_type": "code",
   "execution_count": null,
   "metadata": {
    "id": "8ZWBDecrAtza"
   },
   "outputs": [],
   "source": [
    "# nunca esquecer do pré-processamento!\n",
    "input_test = tf.keras.applications.vgg16.preprocess_input(x_test)\n",
    "input_train = tf.keras.applications.vgg16.preprocess_input(x_train)"
   ]
  },
  {
   "cell_type": "code",
   "execution_count": null,
   "metadata": {
    "colab": {
     "base_uri": "https://localhost:8080/",
     "height": 790
    },
    "id": "xGraooO19hqa",
    "outputId": "95d15953-6119-4edc-b270-c609e745f02a"
   },
   "outputs": [],
   "source": [
    "# fit model\n",
    "model2.fit(input_train,\n",
    "           y_train,\n",
    "           epochs=50,\n",
    "           batch_size=32,\n",
    "           validation_data=(input_test, y_test))\n",
    "           #, callbacks=[stopper])"
   ]
  },
  {
   "cell_type": "code",
   "execution_count": null,
   "metadata": {
    "id": "sBkqA8OkQV4c"
   },
   "outputs": [],
   "source": [
    "model2.save('vgg16_modificada.h5')"
   ]
  },
  {
   "cell_type": "code",
   "execution_count": null,
   "metadata": {
    "colab": {
     "base_uri": "https://localhost:8080/",
     "height": 302
    },
    "id": "8nsrOE3j9row",
    "outputId": "11be62a4-bc90-4656-c665-703a9fee9032"
   },
   "outputs": [],
   "source": [
    "i = np.random.randint(0, len(x_test))\n",
    "pred = model2.predict(\n",
    "    tf.expand_dims(\n",
    "        tf.keras.applications.vgg16.preprocess_input(x_test[i]), 0\n",
    "        )\n",
    "    )\n",
    "\n",
    "print(esqueci_as_classes_me_ajuda(pred))\n",
    "plt.imshow(x_test[i])\n",
    "print(i)"
   ]
  },
  {
   "cell_type": "markdown",
   "metadata": {
    "id": "E7rcWWxSKvI3"
   },
   "source": [
    "### Usando a VGG19 \"crua\" para descrever uma imagem"
   ]
  },
  {
   "cell_type": "code",
   "execution_count": null,
   "metadata": {
    "id": "3VPIFy-nPxYx"
   },
   "outputs": [],
   "source": [
    "from keras.preprocessing.image import load_img\n",
    "from keras.preprocessing.image import img_to_array\n",
    "from keras.applications.vgg19 import preprocess_input\n",
    "from keras.applications.vgg19 import decode_predictions\n",
    "from keras.applications.vgg19 import VGG19"
   ]
  },
  {
   "cell_type": "code",
   "execution_count": null,
   "metadata": {
    "id": "l5I6zot2QMhP"
   },
   "outputs": [],
   "source": [
    "img = keras.preprocessing.image.load_img('image.jpeg', target_size=(224, 224)) # https://www.pexels.com/pt-br/foto/quintal-banco-assento-tribunal-6638801/\n",
    "img_array = img_to_array(img)\n",
    "img_array = img_array.reshape((1, 224, 224, 3))\n",
    "img_zoada = preprocess_input(img_array)"
   ]
  },
  {
   "cell_type": "code",
   "execution_count": null,
   "metadata": {
    "colab": {
     "base_uri": "https://localhost:8080/",
     "height": 304
    },
    "id": "10DrEViA_bol",
    "outputId": "88130d60-cb7a-465c-f1c2-10f69f1caa13"
   },
   "outputs": [],
   "source": [
    "plt.imshow(img)\n",
    "plt.imshow(img_zoada[0,:,:,:]) # para ver a imagem pré processada pra vgg"
   ]
  },
  {
   "cell_type": "code",
   "execution_count": null,
   "metadata": {
    "colab": {
     "base_uri": "https://localhost:8080/"
    },
    "id": "9nMqLg5qSPYA",
    "outputId": "655f1057-05e2-44d4-e100-6ca4776412ac"
   },
   "outputs": [],
   "source": [
    "model = VGG19()\n",
    "yhat = model.predict(img_zoada)\n",
    "label = decode_predictions(yhat, top = 10)\n",
    "label"
   ]
  },
  {
   "cell_type": "markdown",
   "metadata": {
    "id": "G1HG_VIa_ur9"
   },
   "source": [
    "adicionar imagem tirada da camera, ao vivo,  e fazer o mesmo!\n"
   ]
  }
 ],
 "metadata": {
  "accelerator": "GPU",
  "colab": {
   "name": "cifar10 - keras",
   "provenance": [],
   "toc_visible": true
  },
  "kernelspec": {
   "display_name": "Python 3 (ipykernel)",
   "language": "python",
   "name": "python3"
  },
  "language_info": {
   "codemirror_mode": {
    "name": "ipython",
    "version": 3
   },
   "file_extension": ".py",
   "mimetype": "text/x-python",
   "name": "python",
   "nbconvert_exporter": "python",
   "pygments_lexer": "ipython3",
   "version": "3.8.12"
  }
 },
 "nbformat": 4,
 "nbformat_minor": 1
}
