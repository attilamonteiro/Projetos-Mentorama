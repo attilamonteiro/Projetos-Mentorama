{
 "cells": [
  {
   "cell_type": "markdown",
   "metadata": {},
   "source": [
    "<br>\n",
    "\n",
    "## __Exercício: Detecção de Anomalias__\n",
    "\n",
    "<br>\n",
    "\n",
    "__1:__\n",
    "\n",
    "Utilizando a classe DetectorAnomalias criada ao longo do módulo, __vamos avaliar um detector de anomalias.__\n",
    "\n",
    "O dataset utilizado pode ser importado através da função getData. \n",
    "\n",
    "Nesse conjunto de dados, possuímos 6 variáveis explicativas, $X_1, .., X_6$ e uma variável com a marcação se a instância é uma anomalia ou não.\n",
    "\n",
    "Utilizando a __metodolodia__ discutida ao longo do módulo, __teste diferentes modelos (variando o limiar $\\epsilon$)__ a fim de encontrar o que __melhor fita os dados.__\n",
    "\n",
    "Justifique as escolhas do $\\epsilon$, bem como quais as métricas de performance abordadas. \n",
    "\n",
    "<br>"
   ]
  },
  {
   "cell_type": "code",
   "execution_count": 243,
   "metadata": {},
   "outputs": [],
   "source": [
    "import pandas as pd \n",
    "import numpy as np\n",
    "import scipy.stats as st\n",
    "import matplotlib.pyplot as plt"
   ]
  },
  {
   "cell_type": "code",
   "execution_count": 244,
   "metadata": {},
   "outputs": [],
   "source": [
    "class DetectorAnomalias():\n",
    "    \n",
    "    def __init__(self, epsilon):\n",
    "        self.epsilon = epsilon\n",
    "        \n",
    "    def fit(self, X):\n",
    "        medias = X.mean(axis = 0)\n",
    "        desvios = X.std(axis = 0)\n",
    "        gaussianas = [st.norm(loc = m, scale = d) for m, d in zip(medias, desvios)]  \n",
    "        self.gaussianas = gaussianas\n",
    "        self.X = X\n",
    "        \n",
    "    def prob(self, x):\n",
    "        p = 1\n",
    "        for i in range(self.X.shape[1]):\n",
    "            gaussiana_i = self.gaussianas[i]\n",
    "            x_i = x[i]\n",
    "            p *= gaussiana_i.pdf(x_i)\n",
    "        return p\n",
    "    \n",
    "    def isAnomaly(self, x):\n",
    "        return int(np.where(self.prob(x) < self.epsilon, 1, 0))"
   ]
  },
  {
   "cell_type": "code",
   "execution_count": 245,
   "metadata": {},
   "outputs": [],
   "source": [
    "def getData():\n",
    "    return pd.read_csv(\"dataframe_anomalias_exercicio.csv\")"
   ]
  },
  {
   "cell_type": "code",
   "execution_count": 246,
   "metadata": {},
   "outputs": [
    {
     "data": {
      "text/html": [
       "<div>\n",
       "<style scoped>\n",
       "    .dataframe tbody tr th:only-of-type {\n",
       "        vertical-align: middle;\n",
       "    }\n",
       "\n",
       "    .dataframe tbody tr th {\n",
       "        vertical-align: top;\n",
       "    }\n",
       "\n",
       "    .dataframe thead th {\n",
       "        text-align: right;\n",
       "    }\n",
       "</style>\n",
       "<table border=\"1\" class=\"dataframe\">\n",
       "  <thead>\n",
       "    <tr style=\"text-align: right;\">\n",
       "      <th></th>\n",
       "      <th>x1</th>\n",
       "      <th>x2</th>\n",
       "      <th>x3</th>\n",
       "      <th>x4</th>\n",
       "      <th>x5</th>\n",
       "      <th>x6</th>\n",
       "      <th>anomalia</th>\n",
       "    </tr>\n",
       "  </thead>\n",
       "  <tbody>\n",
       "    <tr>\n",
       "      <th>0</th>\n",
       "      <td>7.731153</td>\n",
       "      <td>23.299155</td>\n",
       "      <td>-0.367453</td>\n",
       "      <td>4.715372</td>\n",
       "      <td>9.306179</td>\n",
       "      <td>16.780965</td>\n",
       "      <td>0.0</td>\n",
       "    </tr>\n",
       "    <tr>\n",
       "      <th>1</th>\n",
       "      <td>11.466833</td>\n",
       "      <td>16.943695</td>\n",
       "      <td>-0.245131</td>\n",
       "      <td>7.060311</td>\n",
       "      <td>10.462826</td>\n",
       "      <td>19.821289</td>\n",
       "      <td>0.0</td>\n",
       "    </tr>\n",
       "    <tr>\n",
       "      <th>2</th>\n",
       "      <td>11.501272</td>\n",
       "      <td>20.196011</td>\n",
       "      <td>1.206049</td>\n",
       "      <td>-4.957189</td>\n",
       "      <td>7.771262</td>\n",
       "      <td>19.100079</td>\n",
       "      <td>0.0</td>\n",
       "    </tr>\n",
       "    <tr>\n",
       "      <th>3</th>\n",
       "      <td>10.893921</td>\n",
       "      <td>16.072385</td>\n",
       "      <td>2.738045</td>\n",
       "      <td>-3.684228</td>\n",
       "      <td>7.373334</td>\n",
       "      <td>23.225524</td>\n",
       "      <td>0.0</td>\n",
       "    </tr>\n",
       "    <tr>\n",
       "      <th>4</th>\n",
       "      <td>10.091706</td>\n",
       "      <td>19.253894</td>\n",
       "      <td>0.996895</td>\n",
       "      <td>-9.504052</td>\n",
       "      <td>8.883988</td>\n",
       "      <td>17.903298</td>\n",
       "      <td>0.0</td>\n",
       "    </tr>\n",
       "    <tr>\n",
       "      <th>...</th>\n",
       "      <td>...</td>\n",
       "      <td>...</td>\n",
       "      <td>...</td>\n",
       "      <td>...</td>\n",
       "      <td>...</td>\n",
       "      <td>...</td>\n",
       "      <td>...</td>\n",
       "    </tr>\n",
       "    <tr>\n",
       "      <th>10095</th>\n",
       "      <td>11.192286</td>\n",
       "      <td>18.451987</td>\n",
       "      <td>-0.953650</td>\n",
       "      <td>-14.362996</td>\n",
       "      <td>10.875826</td>\n",
       "      <td>17.056541</td>\n",
       "      <td>0.0</td>\n",
       "    </tr>\n",
       "    <tr>\n",
       "      <th>10096</th>\n",
       "      <td>12.014177</td>\n",
       "      <td>19.461815</td>\n",
       "      <td>1.985099</td>\n",
       "      <td>-7.119190</td>\n",
       "      <td>11.079922</td>\n",
       "      <td>17.582755</td>\n",
       "      <td>0.0</td>\n",
       "    </tr>\n",
       "    <tr>\n",
       "      <th>10097</th>\n",
       "      <td>10.745460</td>\n",
       "      <td>18.175951</td>\n",
       "      <td>0.206037</td>\n",
       "      <td>-1.897015</td>\n",
       "      <td>9.888329</td>\n",
       "      <td>17.963324</td>\n",
       "      <td>0.0</td>\n",
       "    </tr>\n",
       "    <tr>\n",
       "      <th>10098</th>\n",
       "      <td>9.893969</td>\n",
       "      <td>22.333270</td>\n",
       "      <td>-1.465981</td>\n",
       "      <td>4.137382</td>\n",
       "      <td>7.690620</td>\n",
       "      <td>21.570097</td>\n",
       "      <td>0.0</td>\n",
       "    </tr>\n",
       "    <tr>\n",
       "      <th>10099</th>\n",
       "      <td>11.563246</td>\n",
       "      <td>20.777121</td>\n",
       "      <td>-1.145317</td>\n",
       "      <td>-4.650515</td>\n",
       "      <td>11.857622</td>\n",
       "      <td>19.424881</td>\n",
       "      <td>0.0</td>\n",
       "    </tr>\n",
       "  </tbody>\n",
       "</table>\n",
       "<p>10100 rows × 7 columns</p>\n",
       "</div>"
      ],
      "text/plain": [
       "              x1         x2        x3         x4         x5         x6  \\\n",
       "0       7.731153  23.299155 -0.367453   4.715372   9.306179  16.780965   \n",
       "1      11.466833  16.943695 -0.245131   7.060311  10.462826  19.821289   \n",
       "2      11.501272  20.196011  1.206049  -4.957189   7.771262  19.100079   \n",
       "3      10.893921  16.072385  2.738045  -3.684228   7.373334  23.225524   \n",
       "4      10.091706  19.253894  0.996895  -9.504052   8.883988  17.903298   \n",
       "...          ...        ...       ...        ...        ...        ...   \n",
       "10095  11.192286  18.451987 -0.953650 -14.362996  10.875826  17.056541   \n",
       "10096  12.014177  19.461815  1.985099  -7.119190  11.079922  17.582755   \n",
       "10097  10.745460  18.175951  0.206037  -1.897015   9.888329  17.963324   \n",
       "10098   9.893969  22.333270 -1.465981   4.137382   7.690620  21.570097   \n",
       "10099  11.563246  20.777121 -1.145317  -4.650515  11.857622  19.424881   \n",
       "\n",
       "       anomalia  \n",
       "0           0.0  \n",
       "1           0.0  \n",
       "2           0.0  \n",
       "3           0.0  \n",
       "4           0.0  \n",
       "...         ...  \n",
       "10095       0.0  \n",
       "10096       0.0  \n",
       "10097       0.0  \n",
       "10098       0.0  \n",
       "10099       0.0  \n",
       "\n",
       "[10100 rows x 7 columns]"
      ]
     },
     "execution_count": 246,
     "metadata": {},
     "output_type": "execute_result"
    }
   ],
   "source": [
    "df = getData()\n",
    "df"
   ]
  },
  {
   "cell_type": "code",
   "execution_count": 247,
   "metadata": {},
   "outputs": [
    {
     "data": {
      "text/plain": [
       "0.0    10046\n",
       "1.0       54\n",
       "Name: anomalia, dtype: int64"
      ]
     },
     "execution_count": 247,
     "metadata": {},
     "output_type": "execute_result"
    }
   ],
   "source": [
    "df.anomalia.value_counts()"
   ]
  },
  {
   "cell_type": "code",
   "execution_count": 248,
   "metadata": {},
   "outputs": [
    {
     "data": {
      "text/html": [
       "<div>\n",
       "<style scoped>\n",
       "    .dataframe tbody tr th:only-of-type {\n",
       "        vertical-align: middle;\n",
       "    }\n",
       "\n",
       "    .dataframe tbody tr th {\n",
       "        vertical-align: top;\n",
       "    }\n",
       "\n",
       "    .dataframe thead th {\n",
       "        text-align: right;\n",
       "    }\n",
       "</style>\n",
       "<table border=\"1\" class=\"dataframe\">\n",
       "  <thead>\n",
       "    <tr style=\"text-align: right;\">\n",
       "      <th></th>\n",
       "      <th>x1</th>\n",
       "      <th>x2</th>\n",
       "      <th>x3</th>\n",
       "      <th>x4</th>\n",
       "      <th>x5</th>\n",
       "      <th>x6</th>\n",
       "      <th>anomalia</th>\n",
       "    </tr>\n",
       "  </thead>\n",
       "  <tbody>\n",
       "    <tr>\n",
       "      <th>0</th>\n",
       "      <td>7.731153</td>\n",
       "      <td>23.299155</td>\n",
       "      <td>-0.367453</td>\n",
       "      <td>4.715372</td>\n",
       "      <td>9.306179</td>\n",
       "      <td>16.780965</td>\n",
       "      <td>0.0</td>\n",
       "    </tr>\n",
       "    <tr>\n",
       "      <th>1</th>\n",
       "      <td>11.466833</td>\n",
       "      <td>16.943695</td>\n",
       "      <td>-0.245131</td>\n",
       "      <td>7.060311</td>\n",
       "      <td>10.462826</td>\n",
       "      <td>19.821289</td>\n",
       "      <td>0.0</td>\n",
       "    </tr>\n",
       "    <tr>\n",
       "      <th>2</th>\n",
       "      <td>11.501272</td>\n",
       "      <td>20.196011</td>\n",
       "      <td>1.206049</td>\n",
       "      <td>-4.957189</td>\n",
       "      <td>7.771262</td>\n",
       "      <td>19.100079</td>\n",
       "      <td>0.0</td>\n",
       "    </tr>\n",
       "    <tr>\n",
       "      <th>3</th>\n",
       "      <td>10.893921</td>\n",
       "      <td>16.072385</td>\n",
       "      <td>2.738045</td>\n",
       "      <td>-3.684228</td>\n",
       "      <td>7.373334</td>\n",
       "      <td>23.225524</td>\n",
       "      <td>0.0</td>\n",
       "    </tr>\n",
       "    <tr>\n",
       "      <th>4</th>\n",
       "      <td>10.091706</td>\n",
       "      <td>19.253894</td>\n",
       "      <td>0.996895</td>\n",
       "      <td>-9.504052</td>\n",
       "      <td>8.883988</td>\n",
       "      <td>17.903298</td>\n",
       "      <td>0.0</td>\n",
       "    </tr>\n",
       "  </tbody>\n",
       "</table>\n",
       "</div>"
      ],
      "text/plain": [
       "          x1         x2        x3        x4         x5         x6  anomalia\n",
       "0   7.731153  23.299155 -0.367453  4.715372   9.306179  16.780965       0.0\n",
       "1  11.466833  16.943695 -0.245131  7.060311  10.462826  19.821289       0.0\n",
       "2  11.501272  20.196011  1.206049 -4.957189   7.771262  19.100079       0.0\n",
       "3  10.893921  16.072385  2.738045 -3.684228   7.373334  23.225524       0.0\n",
       "4  10.091706  19.253894  0.996895 -9.504052   8.883988  17.903298       0.0"
      ]
     },
     "execution_count": 248,
     "metadata": {},
     "output_type": "execute_result"
    }
   ],
   "source": [
    "df.head()"
   ]
  },
  {
   "cell_type": "code",
   "execution_count": 249,
   "metadata": {},
   "outputs": [],
   "source": [
    "df1 = df[(df.anomalia!=0)]\n",
    "df2 = df[(df.anomalia!=1)]"
   ]
  },
  {
   "cell_type": "code",
   "execution_count": 250,
   "metadata": {},
   "outputs": [
    {
     "name": "stdout",
     "output_type": "stream",
     "text": [
      "(6046, 7) (2027, 7) (2027, 7)\n"
     ]
    }
   ],
   "source": [
    "treino = df2[0:6046]\n",
    "val = pd.concat([df2[6046:8046], df1[0:27]])\n",
    "test = pd.concat([df2[8046:10046], df1[27:54]])\n",
    "print(treino.shape, val.shape, test.shape)"
   ]
  },
  {
   "cell_type": "code",
   "execution_count": 251,
   "metadata": {},
   "outputs": [
    {
     "data": {
      "text/plain": [
       "((27, 7), (2000, 7))"
      ]
     },
     "execution_count": 251,
     "metadata": {},
     "output_type": "execute_result"
    }
   ],
   "source": [
    "df1[0:27].shape, df2[6046:8046].shape"
   ]
  },
  {
   "cell_type": "code",
   "execution_count": 252,
   "metadata": {},
   "outputs": [
    {
     "data": {
      "text/plain": [
       "0.0    2000\n",
       "1.0      27\n",
       "Name: anomalia, dtype: int64"
      ]
     },
     "execution_count": 252,
     "metadata": {},
     "output_type": "execute_result"
    }
   ],
   "source": [
    "val['anomalia'].value_counts()"
   ]
  },
  {
   "cell_type": "code",
   "execution_count": 253,
   "metadata": {},
   "outputs": [
    {
     "data": {
      "text/html": [
       "<div>\n",
       "<style scoped>\n",
       "    .dataframe tbody tr th:only-of-type {\n",
       "        vertical-align: middle;\n",
       "    }\n",
       "\n",
       "    .dataframe tbody tr th {\n",
       "        vertical-align: top;\n",
       "    }\n",
       "\n",
       "    .dataframe thead th {\n",
       "        text-align: right;\n",
       "    }\n",
       "</style>\n",
       "<table border=\"1\" class=\"dataframe\">\n",
       "  <thead>\n",
       "    <tr style=\"text-align: right;\">\n",
       "      <th></th>\n",
       "      <th>x1</th>\n",
       "      <th>x2</th>\n",
       "      <th>x3</th>\n",
       "      <th>x4</th>\n",
       "      <th>x5</th>\n",
       "      <th>x6</th>\n",
       "      <th>anomalia</th>\n",
       "    </tr>\n",
       "  </thead>\n",
       "  <tbody>\n",
       "    <tr>\n",
       "      <th>0</th>\n",
       "      <td>7.731153</td>\n",
       "      <td>23.299155</td>\n",
       "      <td>-0.367453</td>\n",
       "      <td>4.715372</td>\n",
       "      <td>9.306179</td>\n",
       "      <td>16.780965</td>\n",
       "      <td>0.0</td>\n",
       "    </tr>\n",
       "    <tr>\n",
       "      <th>1</th>\n",
       "      <td>11.466833</td>\n",
       "      <td>16.943695</td>\n",
       "      <td>-0.245131</td>\n",
       "      <td>7.060311</td>\n",
       "      <td>10.462826</td>\n",
       "      <td>19.821289</td>\n",
       "      <td>0.0</td>\n",
       "    </tr>\n",
       "    <tr>\n",
       "      <th>2</th>\n",
       "      <td>11.501272</td>\n",
       "      <td>20.196011</td>\n",
       "      <td>1.206049</td>\n",
       "      <td>-4.957189</td>\n",
       "      <td>7.771262</td>\n",
       "      <td>19.100079</td>\n",
       "      <td>0.0</td>\n",
       "    </tr>\n",
       "    <tr>\n",
       "      <th>3</th>\n",
       "      <td>10.893921</td>\n",
       "      <td>16.072385</td>\n",
       "      <td>2.738045</td>\n",
       "      <td>-3.684228</td>\n",
       "      <td>7.373334</td>\n",
       "      <td>23.225524</td>\n",
       "      <td>0.0</td>\n",
       "    </tr>\n",
       "    <tr>\n",
       "      <th>4</th>\n",
       "      <td>10.091706</td>\n",
       "      <td>19.253894</td>\n",
       "      <td>0.996895</td>\n",
       "      <td>-9.504052</td>\n",
       "      <td>8.883988</td>\n",
       "      <td>17.903298</td>\n",
       "      <td>0.0</td>\n",
       "    </tr>\n",
       "  </tbody>\n",
       "</table>\n",
       "</div>"
      ],
      "text/plain": [
       "          x1         x2        x3        x4         x5         x6  anomalia\n",
       "0   7.731153  23.299155 -0.367453  4.715372   9.306179  16.780965       0.0\n",
       "1  11.466833  16.943695 -0.245131  7.060311  10.462826  19.821289       0.0\n",
       "2  11.501272  20.196011  1.206049 -4.957189   7.771262  19.100079       0.0\n",
       "3  10.893921  16.072385  2.738045 -3.684228   7.373334  23.225524       0.0\n",
       "4  10.091706  19.253894  0.996895 -9.504052   8.883988  17.903298       0.0"
      ]
     },
     "execution_count": 253,
     "metadata": {},
     "output_type": "execute_result"
    }
   ],
   "source": [
    "treino.head()"
   ]
  },
  {
   "cell_type": "code",
   "execution_count": 254,
   "metadata": {},
   "outputs": [],
   "source": [
    "xtreino=treino.drop('anomalia', axis=1).values\n",
    "ytreino=treino.anomalia.values\n",
    "\n",
    "xval=val.drop('anomalia', axis=1).values\n",
    "yval=val.anomalia.values\n",
    "\n",
    "xtest=test.drop('anomalia', axis=1).values\n",
    "ytest=test.anomalia.values"
   ]
  },
  {
   "cell_type": "code",
   "execution_count": 255,
   "metadata": {},
   "outputs": [],
   "source": [
    "ann = DetectorAnomalias(epsilon = 1.0000000000000004e-06) # ou dez elevado a -6\n",
    "ann.fit(xtreino)"
   ]
  },
  {
   "cell_type": "code",
   "execution_count": 256,
   "metadata": {},
   "outputs": [
    {
     "data": {
      "text/plain": [
       "array([[ 7.73115287, 23.29915461, -0.36745342,  4.71537151,  9.30617937,\n",
       "        16.78096518],\n",
       "       [11.46683276, 16.94369515, -0.24513144,  7.06031139, 10.46282586,\n",
       "        19.82128898],\n",
       "       [11.50127248, 20.19601072,  1.20604852, -4.95718899,  7.77126188,\n",
       "        19.10007872],\n",
       "       ...,\n",
       "       [10.12829266, 18.07314536, -1.95158758,  0.4080624 ,  8.53990017,\n",
       "        18.05747396],\n",
       "       [12.36248333, 17.76752237,  0.42317785, -6.97956567, 10.34695581,\n",
       "        21.63124586],\n",
       "       [ 8.68285285, 19.63280664,  0.64989408,  1.47898733, 11.63585945,\n",
       "        20.83097871]])"
      ]
     },
     "execution_count": 256,
     "metadata": {},
     "output_type": "execute_result"
    }
   ],
   "source": [
    "xtreino"
   ]
  },
  {
   "cell_type": "code",
   "execution_count": 257,
   "metadata": {},
   "outputs": [
    {
     "data": {
      "text/plain": [
       "array([ 7.73115287, 23.29915461, -0.36745342,  4.71537151,  9.30617937,\n",
       "       16.78096518])"
      ]
     },
     "execution_count": 257,
     "metadata": {},
     "output_type": "execute_result"
    }
   ],
   "source": [
    "#fazendo testes\n",
    "x = xtreino[0]\n",
    "x"
   ]
  },
  {
   "cell_type": "code",
   "execution_count": 258,
   "metadata": {},
   "outputs": [
    {
     "data": {
      "text/plain": [
       "4.1112641769790377e-07"
      ]
     },
     "execution_count": 258,
     "metadata": {},
     "output_type": "execute_result"
    }
   ],
   "source": [
    "ann.prob(xtreino[0])"
   ]
  },
  {
   "cell_type": "code",
   "execution_count": 259,
   "metadata": {},
   "outputs": [
    {
     "data": {
      "text/plain": [
       "1"
      ]
     },
     "execution_count": 259,
     "metadata": {},
     "output_type": "execute_result"
    }
   ],
   "source": [
    "ann.isAnomaly(xtreino[0])"
   ]
  },
  {
   "cell_type": "code",
   "execution_count": 260,
   "metadata": {},
   "outputs": [],
   "source": [
    "from sklearn.metrics import roc_auc_score"
   ]
  },
  {
   "cell_type": "markdown",
   "metadata": {},
   "source": [
    "Para o epsilon = 1.0000000000000004e-06 temos na primeira linha uma anomalia, vamos testar o range, por assim dizer, das anomalias em um código."
   ]
  },
  {
   "cell_type": "code",
   "execution_count": 261,
   "metadata": {},
   "outputs": [
    {
     "name": "stdout",
     "output_type": "stream",
     "text": [
      "|epsilon: 1.0\n",
      "|Matriz de Confusão \n",
      " [[   0 2000]\n",
      " [   0   27]]\n",
      "Acurácia: 0.013320177602368031\n",
      "F1 Score:  0.02629016553067186\n",
      "Precision 0.013320177602368031\n",
      "Recall 1.0\n",
      "roc: 0.5\n",
      "======================= \n",
      "\n",
      "|epsilon: 0.1\n",
      "|Matriz de Confusão \n",
      " [[   0 2000]\n",
      " [   0   27]]\n",
      "Acurácia: 0.013320177602368031\n",
      "F1 Score:  0.02629016553067186\n",
      "Precision 0.013320177602368031\n",
      "Recall 1.0\n",
      "roc: 0.5\n",
      "======================= \n",
      "\n",
      "|epsilon: 0.010000000000000002\n",
      "|Matriz de Confusão \n",
      " [[   0 2000]\n",
      " [   0   27]]\n",
      "Acurácia: 0.013320177602368031\n",
      "F1 Score:  0.02629016553067186\n",
      "Precision 0.013320177602368031\n",
      "Recall 1.0\n",
      "roc: 0.5\n",
      "======================= \n",
      "\n",
      "|epsilon: 0.0010000000000000002\n",
      "|Matriz de Confusão \n",
      " [[   0 2000]\n",
      " [   0   27]]\n",
      "Acurácia: 0.013320177602368031\n",
      "F1 Score:  0.02629016553067186\n",
      "Precision 0.013320177602368031\n",
      "Recall 1.0\n",
      "roc: 0.5\n",
      "======================= \n",
      "\n",
      "|epsilon: 0.00010000000000000002\n",
      "|Matriz de Confusão \n",
      " [[   0 2000]\n",
      " [   0   27]]\n",
      "Acurácia: 0.013320177602368031\n",
      "F1 Score:  0.02629016553067186\n",
      "Precision 0.013320177602368031\n",
      "Recall 1.0\n",
      "roc: 0.5\n",
      "======================= \n",
      "\n",
      "|epsilon: 1.0000000000000003e-05\n",
      "|Matriz de Confusão \n",
      " [[ 637 1363]\n",
      " [   0   27]]\n",
      "Acurácia: 0.3275777010360138\n",
      "F1 Score:  0.03810868031051517\n",
      "Precision 0.019424460431654675\n",
      "Recall 1.0\n",
      "roc: 0.65925\n",
      "======================= \n",
      "\n",
      "|epsilon: 1.0000000000000004e-06\n",
      "|Matriz de Confusão \n",
      " [[1630  370]\n",
      " [   0   27]]\n",
      "Acurácia: 0.8174642328564381\n",
      "F1 Score:  0.12735849056603776\n",
      "Precision 0.06801007556675064\n",
      "Recall 1.0\n",
      "roc: 0.9075\n",
      "======================= \n",
      "\n",
      "|epsilon: 1.0000000000000004e-07\n",
      "|Matriz de Confusão \n",
      " [[1933   67]\n",
      " [   0   27]]\n",
      "Acurácia: 0.9669462259496794\n",
      "F1 Score:  0.44628099173553726\n",
      "Precision 0.2872340425531915\n",
      "Recall 1.0\n",
      "roc: 0.9832500000000001\n",
      "======================= \n",
      "\n",
      "|epsilon: 1.0000000000000005e-08\n",
      "|Matriz de Confusão \n",
      " [[1998    2]\n",
      " [   0   27]]\n",
      "Acurácia: 0.9990133201776024\n",
      "F1 Score:  0.9642857142857143\n",
      "Precision 0.9310344827586207\n",
      "Recall 1.0\n",
      "roc: 0.9994999999999999\n",
      "======================= \n",
      "\n",
      "|epsilon: 1.0000000000000005e-09\n",
      "|Matriz de Confusão \n",
      " [[2000    0]\n",
      " [  21    6]]\n",
      "Acurácia: 0.9896398618648249\n",
      "F1 Score:  0.3636363636363636\n",
      "Precision 1.0\n",
      "Recall 0.2222222222222222\n",
      "roc: 0.6111111111111112\n",
      "======================= \n",
      "\n"
     ]
    }
   ],
   "source": [
    "eps = [ 1 * 0.1 ** (n - 1) for n in range(1, 11) ]\n",
    "\n",
    "for p in eps:\n",
    "    yvalpred=[]\n",
    "    detect = DetectorAnomalias(p)\n",
    "    detect.fit(xtreino)\n",
    "\n",
    "    for t in range(len(val)):\n",
    "        yvalpred.append(detect.isAnomaly(xval[t]))\n",
    "\n",
    "    print('|epsilon: '+str(p))\n",
    "    print('|Matriz de Confusão \\n',confusion_matrix(yval, yvalpred))\n",
    "    print('Acurácia:', accuracy_score(yval, yvalpred))\n",
    "    print('F1 Score: ', f1_score(y_true = yval, y_pred = yvalpred))\n",
    "    print('Precision', precision_score(y_true = yval, y_pred = yvalpred))\n",
    "    print('Recall', recall_score(y_true = yval, y_pred = yvalpred))\n",
    "    print(\"roc:\", roc_auc_score(y_true = yval, y_score = yvalpred))\n",
    "    print('======================= \\n')\n",
    "    "
   ]
  },
  {
   "cell_type": "markdown",
   "metadata": {},
   "source": [
    "Verificamos que todos os parâmetros indicam que o melhor valor de epsilon é : 1.0000000000000005e-08."
   ]
  },
  {
   "cell_type": "markdown",
   "metadata": {},
   "source": [
    "Agora veremos os resultados do epsilon ótimo nos dados de teste:"
   ]
  },
  {
   "cell_type": "code",
   "execution_count": 262,
   "metadata": {},
   "outputs": [
    {
     "name": "stdout",
     "output_type": "stream",
     "text": [
      "|epsilon: 1.0000000000000005e-08\n",
      "|Matriz de Confusão \n",
      " [[1996    4]\n",
      " [   0   27]]\n",
      "|Acurácia: 0.9980266403552047\n",
      "|F1 Score:  0.9310344827586207\n",
      "|Precision 0.8709677419354839\n",
      "|Recall 1.0\n",
      "|roc: 0.999\n",
      "======================= \n",
      "\n"
     ]
    }
   ],
   "source": [
    "p=1.0000000000000005e-08\n",
    "detect = DetectorAnomalias(p)\n",
    "detect.fit(xtreino)\n",
    "\n",
    "ytestpred=[]\n",
    "for t in range(len(test)):\n",
    "    ytestpred.append(detect.isAnomaly(xtest[t]))\n",
    "\n",
    "print('|epsilon: '+str(p))\n",
    "print('|Matriz de Confusão \\n',confusion_matrix(ytest, ytestpred))\n",
    "print('|Acurácia:', accuracy_score(ytest, ytestpred))\n",
    "print('|F1 Score: ', f1_score(y_true = ytest, y_pred = ytestpred))\n",
    "print('|Precision', precision_score(y_true = ytest, y_pred = ytestpred))\n",
    "print('|Recall', recall_score(y_true = ytest, y_pred = ytestpred))\n",
    "print(\"|roc:\", roc_auc_score(y_true = ytest, y_score = ytestpred))\n",
    "print('======================= \\n')\n"
   ]
  },
  {
   "cell_type": "markdown",
   "metadata": {},
   "source": [
    "Podemos verificar que os valores permanecem ótimos para o epsilon selecionado."
   ]
  },
  {
   "cell_type": "markdown",
   "metadata": {},
   "source": [
    "\n",
    "__2:__ \n",
    "\n",
    "Aborde o problema num contexto de aprendizado supervisionado, ou seja, treine modelos de classificação binária com o objetivo de detectar anomalias.\n",
    "\n",
    "Compare os resultados entre as metodologias."
   ]
  },
  {
   "cell_type": "code",
   "execution_count": 263,
   "metadata": {},
   "outputs": [],
   "source": [
    "df2 = df.copy()"
   ]
  },
  {
   "cell_type": "code",
   "execution_count": 264,
   "metadata": {},
   "outputs": [],
   "source": [
    "X=df2.drop('anomalia', axis=1).values\n",
    "y=df2.anomalia.values"
   ]
  },
  {
   "cell_type": "code",
   "execution_count": 291,
   "metadata": {},
   "outputs": [
    {
     "ename": "AttributeError",
     "evalue": "'numpy.ndarray' object has no attribute 'randomint'",
     "output_type": "error",
     "traceback": [
      "\u001b[1;31m---------------------------------------------------------------------------\u001b[0m",
      "\u001b[1;31mAttributeError\u001b[0m                            Traceback (most recent call last)",
      "Input \u001b[1;32mIn [291]\u001b[0m, in \u001b[0;36m<cell line: 3>\u001b[1;34m()\u001b[0m\n\u001b[0;32m      1\u001b[0m \u001b[38;5;66;03m##55000 instâncias para treino/ 15000 para teste\u001b[39;00m\n\u001b[1;32m----> 3\u001b[0m Xtrain, Xtest, ytrain, ytest \u001b[38;5;241m=\u001b[39m \u001b[43mX\u001b[49m\u001b[43m[\u001b[49m\u001b[43m:\u001b[49m\u001b[38;5;241;43m8080\u001b[39;49m\u001b[43m]\u001b[49m\u001b[38;5;241;43m.\u001b[39;49m\u001b[43mrandomint\u001b[49m, X[\u001b[38;5;241m8080\u001b[39m:], y[:\u001b[38;5;241m8080\u001b[39m], y[\u001b[38;5;241m8080\u001b[39m:]\n",
      "\u001b[1;31mAttributeError\u001b[0m: 'numpy.ndarray' object has no attribute 'randomint'"
     ]
    }
   ],
   "source": [
    "##55000 instâncias para treino/ 15000 para teste\n",
    "\n",
    "Xtrain, Xtest, ytrain, ytest = X[:8080], X[8080:], y[:8080], y[8080:]"
   ]
  },
  {
   "cell_type": "code",
   "execution_count": 266,
   "metadata": {},
   "outputs": [
    {
     "data": {
      "text/plain": [
       "(8080, 6)"
      ]
     },
     "execution_count": 266,
     "metadata": {},
     "output_type": "execute_result"
    }
   ],
   "source": [
    "Xtrain.shape"
   ]
  },
  {
   "cell_type": "code",
   "execution_count": 267,
   "metadata": {},
   "outputs": [
    {
     "data": {
      "text/html": [
       "<div>\n",
       "<style scoped>\n",
       "    .dataframe tbody tr th:only-of-type {\n",
       "        vertical-align: middle;\n",
       "    }\n",
       "\n",
       "    .dataframe tbody tr th {\n",
       "        vertical-align: top;\n",
       "    }\n",
       "\n",
       "    .dataframe thead th {\n",
       "        text-align: right;\n",
       "    }\n",
       "</style>\n",
       "<table border=\"1\" class=\"dataframe\">\n",
       "  <thead>\n",
       "    <tr style=\"text-align: right;\">\n",
       "      <th></th>\n",
       "      <th>x1</th>\n",
       "      <th>x2</th>\n",
       "      <th>x3</th>\n",
       "      <th>x4</th>\n",
       "      <th>x5</th>\n",
       "      <th>x6</th>\n",
       "      <th>anomalia</th>\n",
       "    </tr>\n",
       "  </thead>\n",
       "  <tbody>\n",
       "    <tr>\n",
       "      <th>count</th>\n",
       "      <td>10100.000000</td>\n",
       "      <td>10100.000000</td>\n",
       "      <td>10100.000000</td>\n",
       "      <td>10100.000000</td>\n",
       "      <td>10100.000000</td>\n",
       "      <td>10100.000000</td>\n",
       "      <td>10100.000000</td>\n",
       "    </tr>\n",
       "    <tr>\n",
       "      <th>mean</th>\n",
       "      <td>10.013737</td>\n",
       "      <td>20.023104</td>\n",
       "      <td>-0.004408</td>\n",
       "      <td>0.026576</td>\n",
       "      <td>10.008379</td>\n",
       "      <td>20.023252</td>\n",
       "      <td>0.005347</td>\n",
       "    </tr>\n",
       "    <tr>\n",
       "      <th>std</th>\n",
       "      <td>1.508796</td>\n",
       "      <td>1.750035</td>\n",
       "      <td>1.517486</td>\n",
       "      <td>4.987716</td>\n",
       "      <td>1.506807</td>\n",
       "      <td>1.731760</td>\n",
       "      <td>0.072928</td>\n",
       "    </tr>\n",
       "    <tr>\n",
       "      <th>min</th>\n",
       "      <td>4.374777</td>\n",
       "      <td>13.848150</td>\n",
       "      <td>-6.294481</td>\n",
       "      <td>-20.056818</td>\n",
       "      <td>3.599944</td>\n",
       "      <td>13.409739</td>\n",
       "      <td>0.000000</td>\n",
       "    </tr>\n",
       "    <tr>\n",
       "      <th>25%</th>\n",
       "      <td>8.992216</td>\n",
       "      <td>18.852003</td>\n",
       "      <td>-1.044131</td>\n",
       "      <td>-3.317140</td>\n",
       "      <td>8.970816</td>\n",
       "      <td>18.867652</td>\n",
       "      <td>0.000000</td>\n",
       "    </tr>\n",
       "    <tr>\n",
       "      <th>50%</th>\n",
       "      <td>9.994226</td>\n",
       "      <td>20.043790</td>\n",
       "      <td>0.000206</td>\n",
       "      <td>0.046865</td>\n",
       "      <td>10.006417</td>\n",
       "      <td>20.032764</td>\n",
       "      <td>0.000000</td>\n",
       "    </tr>\n",
       "    <tr>\n",
       "      <th>75%</th>\n",
       "      <td>11.036389</td>\n",
       "      <td>21.217542</td>\n",
       "      <td>1.018719</td>\n",
       "      <td>3.345901</td>\n",
       "      <td>11.030485</td>\n",
       "      <td>21.186058</td>\n",
       "      <td>0.000000</td>\n",
       "    </tr>\n",
       "    <tr>\n",
       "      <th>max</th>\n",
       "      <td>15.279412</td>\n",
       "      <td>26.248279</td>\n",
       "      <td>5.623409</td>\n",
       "      <td>19.868016</td>\n",
       "      <td>15.467202</td>\n",
       "      <td>26.089327</td>\n",
       "      <td>1.000000</td>\n",
       "    </tr>\n",
       "  </tbody>\n",
       "</table>\n",
       "</div>"
      ],
      "text/plain": [
       "                 x1            x2            x3            x4            x5  \\\n",
       "count  10100.000000  10100.000000  10100.000000  10100.000000  10100.000000   \n",
       "mean      10.013737     20.023104     -0.004408      0.026576     10.008379   \n",
       "std        1.508796      1.750035      1.517486      4.987716      1.506807   \n",
       "min        4.374777     13.848150     -6.294481    -20.056818      3.599944   \n",
       "25%        8.992216     18.852003     -1.044131     -3.317140      8.970816   \n",
       "50%        9.994226     20.043790      0.000206      0.046865     10.006417   \n",
       "75%       11.036389     21.217542      1.018719      3.345901     11.030485   \n",
       "max       15.279412     26.248279      5.623409     19.868016     15.467202   \n",
       "\n",
       "                 x6      anomalia  \n",
       "count  10100.000000  10100.000000  \n",
       "mean      20.023252      0.005347  \n",
       "std        1.731760      0.072928  \n",
       "min       13.409739      0.000000  \n",
       "25%       18.867652      0.000000  \n",
       "50%       20.032764      0.000000  \n",
       "75%       21.186058      0.000000  \n",
       "max       26.089327      1.000000  "
      ]
     },
     "execution_count": 267,
     "metadata": {},
     "output_type": "execute_result"
    }
   ],
   "source": [
    "df2.describe()"
   ]
  },
  {
   "cell_type": "code",
   "execution_count": 268,
   "metadata": {},
   "outputs": [],
   "source": [
    "from sklearn.model_selection import KFold\n",
    "from sklearn.metrics import f1_score\n",
    "from sklearn.metrics import accuracy_score\n",
    "from sklearn.linear_model import LogisticRegression\n",
    "import time"
   ]
  },
  {
   "cell_type": "code",
   "execution_count": 289,
   "metadata": {},
   "outputs": [
    {
     "name": "stdout",
     "output_type": "stream",
     "text": [
      "acurácias em treino: \n",
      " [0.9942759900990099, 0.9939665841584159, 0.994894801980198, 0.9945853960396039, 0.994430693069307]  \n",
      "| média:  0.9944306930693069\n",
      "\n",
      "acurácias em validação: \n",
      " [0.995049504950495, 0.9962871287128713, 0.9925742574257426, 0.9938118811881188, 0.994430693069307]  \n",
      "| média:  0.994430693069307\n",
      "tempo (em segundos) para execução:  0.2\n",
      "|Matriz de Confusão \n",
      " [[6428    0]\n",
      " [  36    0]]\n",
      "Acurácia: 0.994430693069307\n",
      "F1 Score:  0.0\n",
      "Precision 0.0\n",
      "Recall 0.0\n",
      "roc: 0.5\n",
      "======================= \n",
      "\n"
     ]
    },
    {
     "name": "stderr",
     "output_type": "stream",
     "text": [
      "C:\\Users\\atmal\\anaconda3\\lib\\site-packages\\sklearn\\metrics\\_classification.py:1318: UndefinedMetricWarning: Precision is ill-defined and being set to 0.0 due to no predicted samples. Use `zero_division` parameter to control this behavior.\n",
      "  _warn_prf(average, modifier, msg_start, len(result))\n"
     ]
    }
   ],
   "source": [
    "kf = KFold(n_splits = 5)\n",
    "t0 = time.time()\n",
    "\n",
    "\n",
    "classif__ = LogisticRegression() \n",
    "lista_acuracia_treino = []\n",
    "lista_acuracia_validacao = []\n",
    "\n",
    "for train_index, val_index in kf.split(Xtrain, ytrain):\n",
    "    \n",
    "    Xtrain_folds = Xtrain[train_index]\n",
    "    ytrain_folds = ytrain[train_index]\n",
    "    Xval_fold = Xtrain[val_index]\n",
    "    yval_fold = ytrain[val_index]\n",
    "    \n",
    "    classif__.fit(Xtrain_folds, ytrain_folds)\n",
    "    \n",
    "    pred_treino = classif__.predict(Xtrain_folds)\n",
    "    pred_validacao = classif__.predict(Xval_fold)\n",
    "    \n",
    "    lista_acuracia_treino.append(accuracy_score(y_true = ytrain_folds, y_pred = pred_treino))\n",
    "    lista_acuracia_validacao.append(accuracy_score(y_true = yval_fold, y_pred = pred_validacao))\n",
    "    \n",
    "    \n",
    "print(\"acurácias em treino: \\n\", lista_acuracia_treino, \" \\n| média: \", np.mean(lista_acuracia_treino))\n",
    "print()\n",
    "print(\"acurácias em validação: \\n\", lista_acuracia_validacao, \" \\n| média: \", np.mean(lista_acuracia_validacao))\n",
    "\n",
    "\n",
    "t1 = time.time()\n",
    "print(\"tempo (em segundos) para execução: \", np.round(t1-t0,2))\n",
    "\n",
    "print('|Matriz de Confusão \\n',confusion_matrix(ytrain_folds, pred_treino))\n",
    "print('Acurácia:', accuracy_score(ytrain_folds, pred_treino))\n",
    "print('F1 Score: ', f1_score(y_true = ytrain_folds, y_pred = pred_treino))\n",
    "print('Precision', precision_score(y_true = ytrain_folds, y_pred = pred_treino))\n",
    "print('Recall', recall_score(y_true = ytrain_folds, y_pred = pred_treino))\n",
    "print(\"roc:\", roc_auc_score(y_true = ytrain_folds, y_score = pred_treino))\n",
    "print('======================= \\n')"
   ]
  },
  {
   "cell_type": "markdown",
   "metadata": {},
   "source": [
    "Não foi possivel ter um bom resultado com o modelo supervisionado, pois tivemos F1 score, Precision e o recall com valor zero, bem como o roc=0.5 Para esse modelo é mais interessante fitar os dados com o Detector de Anomalias que aparentemente tiveram resultados melhores.  "
   ]
  },
  {
   "cell_type": "markdown",
   "metadata": {},
   "source": [
    "Obs: Caso exista solução para o modelo supervisionado gostaria de saber como se faz pois não foi possível verificar com o mentor."
   ]
  }
 ],
 "metadata": {
  "kernelspec": {
   "display_name": "Python 3 (ipykernel)",
   "language": "python",
   "name": "python3"
  },
  "language_info": {
   "codemirror_mode": {
    "name": "ipython",
    "version": 3
   },
   "file_extension": ".py",
   "mimetype": "text/x-python",
   "name": "python",
   "nbconvert_exporter": "python",
   "pygments_lexer": "ipython3",
   "version": "3.8.12"
  }
 },
 "nbformat": 4,
 "nbformat_minor": 2
}
