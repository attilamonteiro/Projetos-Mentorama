{
 "cells": [
  {
   "cell_type": "markdown",
   "metadata": {},
   "source": [
    "<br><br>\n",
    "\n",
    "# Exercício: Sistemas de Recomendação\n",
    "\n",
    "<br>\n",
    "\n",
    "__Introdução: o objetivo deste exercício é discutirmos uma metodologia de avaliação de filtros colaborativos.__\n",
    "\n",
    "<br>\n",
    "\n",
    "Para isso, utilize a função getData() para carregar os dados: \n",
    "\n",
    "    - teremos avaliações que 367 usuários fizeram a respeito de 80 filmes. As notas variam entre 1, 2, 3, 4, e 5. \n",
    "    \n",
    "    - os valores NaN representam filmes que ainda não foram avaliados pelos usuários.\n",
    "\n",
    "Como __modelo__ para as recomendações, usaremos a __fatoração matricial.__ Use a classe MatrixFactorization() construída ao longo do módulo."
   ]
  },
  {
   "cell_type": "code",
   "execution_count": 1,
   "metadata": {},
   "outputs": [],
   "source": [
    "import pandas as pd\n",
    "import numpy as np\n",
    "import matplotlib.pyplot as plt"
   ]
  },
  {
   "cell_type": "code",
   "execution_count": 2,
   "metadata": {},
   "outputs": [],
   "source": [
    "def getData():\n",
    "    r_cols = ['user_id', 'movie_id', 'rating', 'unix_timestamp']\n",
    "    ratings = pd.read_csv('u.data', sep='\\t', names=r_cols,\n",
    "                          encoding='latin-1')\n",
    "    m_cols = ['movie_id', 'title', 'release_date', 'video_release_date', 'imdb_url']\n",
    "    movies = pd.read_csv('u.item', sep='|', names=m_cols, usecols=range(5),\n",
    "                         encoding='latin-1')\n",
    "    movie_ratings = pd.merge(movies, ratings)\n",
    "    temp = movie_ratings[['movie_id', 'user_id', 'rating']].copy()\n",
    "    temp = temp.pivot_table(columns='movie_id', index='user_id', values='rating').copy()\n",
    "    temp.index = ['User_'+str(int(i)) for i in temp.index]\n",
    "    temp.columns = ['Filme_'+str(int(i)) for i in temp.columns]\n",
    "    qtd_cols = 80\n",
    "    R = temp.iloc[:, :qtd_cols]\n",
    "    l=[]\n",
    "    for i in range(1, R.shape[0]+1):\n",
    "        if R.iloc[i-1, ].isnull().sum() >= (qtd_cols - 10):\n",
    "            l.append(i)\n",
    "    R = R.drop([\"User_\"+str(r) for r in l])\n",
    "    R.index = ['User_'+str(int(i)) for i in range(R.shape[0])]\n",
    "    return R"
   ]
  },
  {
   "cell_type": "code",
   "execution_count": 3,
   "metadata": {},
   "outputs": [],
   "source": [
    "import time\n",
    "\n",
    "class MatrixFactorization():\n",
    "    \n",
    "    def __init__(self, dataframe, K, steps, alpha, beta):\n",
    "        self.df = dataframe\n",
    "        self.K = K\n",
    "        self.steps = steps\n",
    "        self.alpha = alpha\n",
    "        self.beta = beta\n",
    "        \n",
    "    def fit(self):\n",
    "        t0 = time.time()\n",
    "        \n",
    "        R = self.df.values\n",
    "        N, M = R.shape\n",
    "        \n",
    "        #inicio aleatorio\n",
    "        P = np.random.rand(N,self.K)\n",
    "        Q = np.random.rand(self.K,M)\n",
    "        \n",
    "        lista_erro_step = []\n",
    "        \n",
    "        #loop\n",
    "        for step in range(self.steps):\n",
    "            \n",
    "            mse_total_step = 0\n",
    "            #varrendo todas as entradas da matriz R\n",
    "            for i in range(len(R)):\n",
    "                for j in range(len(R[i])):\n",
    "                    #validando se o valor associado está preenchido\n",
    "                    if R[i][j] > 0:\n",
    "\n",
    "                        #calculando o erro:\n",
    "                        eij = R[i][j] - np.dot(P[i,:],Q[:,j])\n",
    "                        mse_total_step += (eij)**2\n",
    "                        #alterando os valores\n",
    "                        for k in range(self.K):\n",
    "                            P[i][k] = P[i][k] + self.alpha * ( 2 * eij * Q[k][j] - self.beta * P[i][k])\n",
    "                            Q[k][j] = Q[k][j] + self.alpha * ( 2 * eij * P[i][k] - self.beta * Q[k][j])\n",
    "                            \n",
    "            lista_erro_step.append(mse_total_step)\n",
    "            \n",
    "        self.P = P\n",
    "        self.Q = Q\n",
    "        self.lista_erro_step = lista_erro_step\n",
    "        t1 = time.time()\n",
    "        print(\"Fatoração concluída. Tempo aproximado:\", int((t1-t0)/60)+1, 'minuto(s).')\n",
    "        \n",
    "    def predict(self):\n",
    "        return self.P.dot(self.Q)\n",
    "    \n",
    "    def print_MSE_steps(self):\n",
    "        plt.figure(figsize=[15,6])\n",
    "        plt.title(\"Custo total por Step\", fontsize = 16, fontweight = 'bold')\n",
    "        plt.xlabel(\"Step\", fontsize = 14, fontweight = 'bold')\n",
    "        plt.ylabel(\"Erro\", fontsize = 14, fontweight = 'bold')\n",
    "        plt.plot(range(1, 1+self.steps), self.lista_erro_step, c = 'blue', lw = 2)\n",
    "        plt.grid()\n",
    "        plt.show()\n",
    "        \n",
    "    def mse(self):\n",
    "        return min(self.lista_erro_step)"
   ]
  },
  {
   "cell_type": "markdown",
   "metadata": {},
   "source": [
    "<br><br>\n",
    "\n",
    "Tradicionalmente, para avaliarmos a performance de algoritmos de machine learning, fazemos a divisão dos dados em treino/teste; os dados de teste são utilizados no modelo final, apenas para validar que o mesmo não está sofrendo overfitting e está generalizando bem.\n",
    "\n",
    "No contexto dos filtros colaborativos, tal divisão dos dados não fará sentido: os métodos discutidos (de filtragem colaborativa) usam as informações de interação dos usuários com itens para \"preencher os valores faltantes\" da matriz de interação. Esse preenchimento é justamente a recomendação!\n",
    "\n",
    "<br>\n",
    "\n",
    "No entanto, podemos aplicar uma __metodologia que \"simula\" dados de treino/teste.__ \n",
    "\n",
    "Essencialmente, essa metodologia consiste de criar uma base de treino em que retiramos algumas interações dos usuários. Dessa forma, os modelos irão aprender os padrões dos dados sem terem acesso a toda informação.\n",
    "\n",
    "Nos dados de teste, usaremos essas interações retiradas em treino para avaliar os resultados.\n",
    "\n",
    "<br>\n",
    "\n",
    "__Considere o exemplo:__\n",
    "\n",
    "Vamos carregar, novamente, o dataset que usamos ao longo do módulo:"
   ]
  },
  {
   "cell_type": "code",
   "execution_count": 4,
   "metadata": {},
   "outputs": [],
   "source": [
    "def getDF():\n",
    "    dic__ = {\"User_1\":[np.nan, np.nan, np.nan, 1, 7, 2, 3, 8],\n",
    "         \"User_2\":[9,10,2,2,6,5,3,8],\n",
    "         \"User_3\":[4, 7, 9, 6,6,10,10,2],\n",
    "         \"User_4\":[np.nan, 7, 9, 5, 5, 10, 9, 1],\n",
    "         \"User_5\":[7.0,6.0,3.0,8.0,3,4.0,3.0, 2],\n",
    "         \"User_6\":[np.nan, np.nan, 9, 9,6,8,9,np.nan],\n",
    "         \"User_7\":[3,5,4,4,3,3,9,np.nan],\n",
    "         \"User_8\":[10,10,10,10,2,2,2,2],\n",
    "         \"User_9\":[9,9,np.nan,8,3,3,1,np.nan],\n",
    "         \"User_10\":[9,8,10,9,3,4,2,1],\n",
    "         \"User_11\":[4,4,3,3,9,9,8,10],\n",
    "         \"User_12\":[2,2,4,1,8,10,10,9],\n",
    "         \"User_13\":[1,4,1,3,7,10,7,8],\n",
    "         \"User_14\":[3,3,2,1,1,10, np.nan,10],\n",
    "         \"User_15\":[9,9,8,10,4,2,np.nan,1]\n",
    "        }\n",
    "    df = pd.DataFrame(dic__).T\n",
    "    df.columns = ['Filme_'+str(int(i+1)) for i in range(8)]\n",
    "    return df"
   ]
  },
  {
   "cell_type": "code",
   "execution_count": 5,
   "metadata": {},
   "outputs": [
    {
     "data": {
      "text/html": [
       "<div>\n",
       "<style scoped>\n",
       "    .dataframe tbody tr th:only-of-type {\n",
       "        vertical-align: middle;\n",
       "    }\n",
       "\n",
       "    .dataframe tbody tr th {\n",
       "        vertical-align: top;\n",
       "    }\n",
       "\n",
       "    .dataframe thead th {\n",
       "        text-align: right;\n",
       "    }\n",
       "</style>\n",
       "<table border=\"1\" class=\"dataframe\">\n",
       "  <thead>\n",
       "    <tr style=\"text-align: right;\">\n",
       "      <th></th>\n",
       "      <th>Filme_1</th>\n",
       "      <th>Filme_2</th>\n",
       "      <th>Filme_3</th>\n",
       "      <th>Filme_4</th>\n",
       "      <th>Filme_5</th>\n",
       "      <th>Filme_6</th>\n",
       "      <th>Filme_7</th>\n",
       "      <th>Filme_8</th>\n",
       "    </tr>\n",
       "  </thead>\n",
       "  <tbody>\n",
       "    <tr>\n",
       "      <th>User_1</th>\n",
       "      <td>NaN</td>\n",
       "      <td>NaN</td>\n",
       "      <td>NaN</td>\n",
       "      <td>1.0</td>\n",
       "      <td>7.0</td>\n",
       "      <td>2.0</td>\n",
       "      <td>3.0</td>\n",
       "      <td>8.0</td>\n",
       "    </tr>\n",
       "    <tr>\n",
       "      <th>User_2</th>\n",
       "      <td>9.0</td>\n",
       "      <td>10.0</td>\n",
       "      <td>2.0</td>\n",
       "      <td>2.0</td>\n",
       "      <td>6.0</td>\n",
       "      <td>5.0</td>\n",
       "      <td>3.0</td>\n",
       "      <td>8.0</td>\n",
       "    </tr>\n",
       "    <tr>\n",
       "      <th>User_3</th>\n",
       "      <td>4.0</td>\n",
       "      <td>7.0</td>\n",
       "      <td>9.0</td>\n",
       "      <td>6.0</td>\n",
       "      <td>6.0</td>\n",
       "      <td>10.0</td>\n",
       "      <td>10.0</td>\n",
       "      <td>2.0</td>\n",
       "    </tr>\n",
       "    <tr>\n",
       "      <th>User_4</th>\n",
       "      <td>NaN</td>\n",
       "      <td>7.0</td>\n",
       "      <td>9.0</td>\n",
       "      <td>5.0</td>\n",
       "      <td>5.0</td>\n",
       "      <td>10.0</td>\n",
       "      <td>9.0</td>\n",
       "      <td>1.0</td>\n",
       "    </tr>\n",
       "    <tr>\n",
       "      <th>User_5</th>\n",
       "      <td>7.0</td>\n",
       "      <td>6.0</td>\n",
       "      <td>3.0</td>\n",
       "      <td>8.0</td>\n",
       "      <td>3.0</td>\n",
       "      <td>4.0</td>\n",
       "      <td>3.0</td>\n",
       "      <td>2.0</td>\n",
       "    </tr>\n",
       "    <tr>\n",
       "      <th>User_6</th>\n",
       "      <td>NaN</td>\n",
       "      <td>NaN</td>\n",
       "      <td>9.0</td>\n",
       "      <td>9.0</td>\n",
       "      <td>6.0</td>\n",
       "      <td>8.0</td>\n",
       "      <td>9.0</td>\n",
       "      <td>NaN</td>\n",
       "    </tr>\n",
       "    <tr>\n",
       "      <th>User_7</th>\n",
       "      <td>3.0</td>\n",
       "      <td>5.0</td>\n",
       "      <td>4.0</td>\n",
       "      <td>4.0</td>\n",
       "      <td>3.0</td>\n",
       "      <td>3.0</td>\n",
       "      <td>9.0</td>\n",
       "      <td>NaN</td>\n",
       "    </tr>\n",
       "    <tr>\n",
       "      <th>User_8</th>\n",
       "      <td>10.0</td>\n",
       "      <td>10.0</td>\n",
       "      <td>10.0</td>\n",
       "      <td>10.0</td>\n",
       "      <td>2.0</td>\n",
       "      <td>2.0</td>\n",
       "      <td>2.0</td>\n",
       "      <td>2.0</td>\n",
       "    </tr>\n",
       "    <tr>\n",
       "      <th>User_9</th>\n",
       "      <td>9.0</td>\n",
       "      <td>9.0</td>\n",
       "      <td>NaN</td>\n",
       "      <td>8.0</td>\n",
       "      <td>3.0</td>\n",
       "      <td>3.0</td>\n",
       "      <td>1.0</td>\n",
       "      <td>NaN</td>\n",
       "    </tr>\n",
       "    <tr>\n",
       "      <th>User_10</th>\n",
       "      <td>9.0</td>\n",
       "      <td>8.0</td>\n",
       "      <td>10.0</td>\n",
       "      <td>9.0</td>\n",
       "      <td>3.0</td>\n",
       "      <td>4.0</td>\n",
       "      <td>2.0</td>\n",
       "      <td>1.0</td>\n",
       "    </tr>\n",
       "    <tr>\n",
       "      <th>User_11</th>\n",
       "      <td>4.0</td>\n",
       "      <td>4.0</td>\n",
       "      <td>3.0</td>\n",
       "      <td>3.0</td>\n",
       "      <td>9.0</td>\n",
       "      <td>9.0</td>\n",
       "      <td>8.0</td>\n",
       "      <td>10.0</td>\n",
       "    </tr>\n",
       "    <tr>\n",
       "      <th>User_12</th>\n",
       "      <td>2.0</td>\n",
       "      <td>2.0</td>\n",
       "      <td>4.0</td>\n",
       "      <td>1.0</td>\n",
       "      <td>8.0</td>\n",
       "      <td>10.0</td>\n",
       "      <td>10.0</td>\n",
       "      <td>9.0</td>\n",
       "    </tr>\n",
       "    <tr>\n",
       "      <th>User_13</th>\n",
       "      <td>1.0</td>\n",
       "      <td>4.0</td>\n",
       "      <td>1.0</td>\n",
       "      <td>3.0</td>\n",
       "      <td>7.0</td>\n",
       "      <td>10.0</td>\n",
       "      <td>7.0</td>\n",
       "      <td>8.0</td>\n",
       "    </tr>\n",
       "    <tr>\n",
       "      <th>User_14</th>\n",
       "      <td>3.0</td>\n",
       "      <td>3.0</td>\n",
       "      <td>2.0</td>\n",
       "      <td>1.0</td>\n",
       "      <td>1.0</td>\n",
       "      <td>10.0</td>\n",
       "      <td>NaN</td>\n",
       "      <td>10.0</td>\n",
       "    </tr>\n",
       "    <tr>\n",
       "      <th>User_15</th>\n",
       "      <td>9.0</td>\n",
       "      <td>9.0</td>\n",
       "      <td>8.0</td>\n",
       "      <td>10.0</td>\n",
       "      <td>4.0</td>\n",
       "      <td>2.0</td>\n",
       "      <td>NaN</td>\n",
       "      <td>1.0</td>\n",
       "    </tr>\n",
       "  </tbody>\n",
       "</table>\n",
       "</div>"
      ],
      "text/plain": [
       "         Filme_1  Filme_2  Filme_3  Filme_4  Filme_5  Filme_6  Filme_7  \\\n",
       "User_1       NaN      NaN      NaN      1.0      7.0      2.0      3.0   \n",
       "User_2       9.0     10.0      2.0      2.0      6.0      5.0      3.0   \n",
       "User_3       4.0      7.0      9.0      6.0      6.0     10.0     10.0   \n",
       "User_4       NaN      7.0      9.0      5.0      5.0     10.0      9.0   \n",
       "User_5       7.0      6.0      3.0      8.0      3.0      4.0      3.0   \n",
       "User_6       NaN      NaN      9.0      9.0      6.0      8.0      9.0   \n",
       "User_7       3.0      5.0      4.0      4.0      3.0      3.0      9.0   \n",
       "User_8      10.0     10.0     10.0     10.0      2.0      2.0      2.0   \n",
       "User_9       9.0      9.0      NaN      8.0      3.0      3.0      1.0   \n",
       "User_10      9.0      8.0     10.0      9.0      3.0      4.0      2.0   \n",
       "User_11      4.0      4.0      3.0      3.0      9.0      9.0      8.0   \n",
       "User_12      2.0      2.0      4.0      1.0      8.0     10.0     10.0   \n",
       "User_13      1.0      4.0      1.0      3.0      7.0     10.0      7.0   \n",
       "User_14      3.0      3.0      2.0      1.0      1.0     10.0      NaN   \n",
       "User_15      9.0      9.0      8.0     10.0      4.0      2.0      NaN   \n",
       "\n",
       "         Filme_8  \n",
       "User_1       8.0  \n",
       "User_2       8.0  \n",
       "User_3       2.0  \n",
       "User_4       1.0  \n",
       "User_5       2.0  \n",
       "User_6       NaN  \n",
       "User_7       NaN  \n",
       "User_8       2.0  \n",
       "User_9       NaN  \n",
       "User_10      1.0  \n",
       "User_11     10.0  \n",
       "User_12      9.0  \n",
       "User_13      8.0  \n",
       "User_14     10.0  \n",
       "User_15      1.0  "
      ]
     },
     "execution_count": 5,
     "metadata": {},
     "output_type": "execute_result"
    }
   ],
   "source": [
    "df = getDF()\n",
    "df"
   ]
  },
  {
   "cell_type": "markdown",
   "metadata": {},
   "source": [
    "<br>\n",
    "\n",
    "Abaixo, criamos o array \"ratings\", que consiste de nossa matriz de interação usuário/item. No entanto, fizemos um completamento com \"0\" nos dados faltantes. Dessa forma, o rating = 0 significa que o usuário não avaliou o filme em questão.\n",
    "\n",
    "<br>"
   ]
  },
  {
   "cell_type": "code",
   "execution_count": 6,
   "metadata": {},
   "outputs": [
    {
     "data": {
      "text/plain": [
       "array([[ 0.,  0.,  0.,  1.,  7.,  2.,  3.,  8.],\n",
       "       [ 9., 10.,  2.,  2.,  6.,  5.,  3.,  8.],\n",
       "       [ 4.,  7.,  9.,  6.,  6., 10., 10.,  2.],\n",
       "       [ 0.,  7.,  9.,  5.,  5., 10.,  9.,  1.],\n",
       "       [ 7.,  6.,  3.,  8.,  3.,  4.,  3.,  2.],\n",
       "       [ 0.,  0.,  9.,  9.,  6.,  8.,  9.,  0.],\n",
       "       [ 3.,  5.,  4.,  4.,  3.,  3.,  9.,  0.],\n",
       "       [10., 10., 10., 10.,  2.,  2.,  2.,  2.],\n",
       "       [ 9.,  9.,  0.,  8.,  3.,  3.,  1.,  0.],\n",
       "       [ 9.,  8., 10.,  9.,  3.,  4.,  2.,  1.],\n",
       "       [ 4.,  4.,  3.,  3.,  9.,  9.,  8., 10.],\n",
       "       [ 2.,  2.,  4.,  1.,  8., 10., 10.,  9.],\n",
       "       [ 1.,  4.,  1.,  3.,  7., 10.,  7.,  8.],\n",
       "       [ 3.,  3.,  2.,  1.,  1., 10.,  0., 10.],\n",
       "       [ 9.,  9.,  8., 10.,  4.,  2.,  0.,  1.]])"
      ]
     },
     "execution_count": 6,
     "metadata": {},
     "output_type": "execute_result"
    }
   ],
   "source": [
    "ratings = df.fillna(0).values\n",
    "ratings"
   ]
  },
  {
   "cell_type": "markdown",
   "metadata": {},
   "source": [
    "<br>\n",
    "\n",
    "Na sequência, apresentamos a função que faz a divisão dos dados em treino e teste.\n",
    "\n",
    "<br>"
   ]
  },
  {
   "cell_type": "code",
   "execution_count": 7,
   "metadata": {},
   "outputs": [],
   "source": [
    "def train_test_split(ratings, qtd):\n",
    "    test = np.zeros(ratings.shape)\n",
    "    train = ratings.copy()\n",
    "    for user in range(ratings.shape[0]):\n",
    "        test_ratings = np.random.choice(ratings[user, :].nonzero()[0], \n",
    "                                        size=qtd, \n",
    "                                        replace=False)\n",
    "        train[user, test_ratings] = 0.\n",
    "        test[user, test_ratings] = ratings[user, test_ratings]\n",
    "        \n",
    "    return train, test"
   ]
  },
  {
   "cell_type": "code",
   "execution_count": 8,
   "metadata": {},
   "outputs": [],
   "source": [
    "train, test = train_test_split(ratings, qtd = 2)"
   ]
  },
  {
   "cell_type": "markdown",
   "metadata": {},
   "source": [
    "<br>\n",
    "\n",
    "__Vamos comparar os dados de treino e teste com os dados originais:__\n",
    "    \n",
    "<br>"
   ]
  },
  {
   "cell_type": "code",
   "execution_count": 9,
   "metadata": {},
   "outputs": [
    {
     "data": {
      "text/plain": [
       "array([[ 0.,  0.,  0.,  1.,  7.,  2.,  3.,  8.],\n",
       "       [ 9., 10.,  2.,  2.,  6.,  5.,  3.,  8.],\n",
       "       [ 4.,  7.,  9.,  6.,  6., 10., 10.,  2.],\n",
       "       [ 0.,  7.,  9.,  5.,  5., 10.,  9.,  1.],\n",
       "       [ 7.,  6.,  3.,  8.,  3.,  4.,  3.,  2.],\n",
       "       [ 0.,  0.,  9.,  9.,  6.,  8.,  9.,  0.],\n",
       "       [ 3.,  5.,  4.,  4.,  3.,  3.,  9.,  0.],\n",
       "       [10., 10., 10., 10.,  2.,  2.,  2.,  2.],\n",
       "       [ 9.,  9.,  0.,  8.,  3.,  3.,  1.,  0.],\n",
       "       [ 9.,  8., 10.,  9.,  3.,  4.,  2.,  1.],\n",
       "       [ 4.,  4.,  3.,  3.,  9.,  9.,  8., 10.],\n",
       "       [ 2.,  2.,  4.,  1.,  8., 10., 10.,  9.],\n",
       "       [ 1.,  4.,  1.,  3.,  7., 10.,  7.,  8.],\n",
       "       [ 3.,  3.,  2.,  1.,  1., 10.,  0., 10.],\n",
       "       [ 9.,  9.,  8., 10.,  4.,  2.,  0.,  1.]])"
      ]
     },
     "execution_count": 9,
     "metadata": {},
     "output_type": "execute_result"
    }
   ],
   "source": [
    "#matriz de interação - original;\n",
    "\n",
    "ratings"
   ]
  },
  {
   "cell_type": "code",
   "execution_count": 10,
   "metadata": {},
   "outputs": [
    {
     "data": {
      "text/plain": [
       "array([[ 0.,  0.,  0.,  1.,  0.,  2.,  0.,  8.],\n",
       "       [ 9.,  0.,  2.,  2.,  6.,  5.,  0.,  8.],\n",
       "       [ 0.,  7.,  9.,  6.,  6., 10., 10.,  0.],\n",
       "       [ 0.,  7.,  9.,  5.,  5.,  0.,  0.,  1.],\n",
       "       [ 7.,  0.,  3.,  0.,  3.,  4.,  3.,  2.],\n",
       "       [ 0.,  0.,  0.,  9.,  6.,  8.,  0.,  0.],\n",
       "       [ 3.,  5.,  4.,  4.,  0.,  0.,  9.,  0.],\n",
       "       [10.,  0., 10., 10.,  0.,  2.,  2.,  2.],\n",
       "       [ 9.,  9.,  0.,  8.,  3.,  0.,  0.,  0.],\n",
       "       [ 9.,  8., 10.,  9.,  3.,  0.,  0.,  1.],\n",
       "       [ 4.,  4.,  3.,  0.,  9.,  9.,  0., 10.],\n",
       "       [ 2.,  2.,  0.,  0.,  8., 10., 10.,  9.],\n",
       "       [ 0.,  4.,  1.,  3.,  7., 10.,  7.,  0.],\n",
       "       [ 3.,  3.,  0.,  1.,  0., 10.,  0., 10.],\n",
       "       [ 9.,  9.,  0., 10.,  4.,  0.,  0.,  1.]])"
      ]
     },
     "execution_count": 10,
     "metadata": {},
     "output_type": "execute_result"
    }
   ],
   "source": [
    "#dados de treino;\n",
    "#observe que, para cada usuário (ou seja, para cada linha) 3 notas foram retiradas!! \n",
    "#ou seja, foram substituida por 0.\n",
    "\n",
    "train"
   ]
  },
  {
   "cell_type": "code",
   "execution_count": 11,
   "metadata": {},
   "outputs": [
    {
     "data": {
      "text/plain": [
       "array([[ 0.,  0.,  0.,  0.,  7.,  0.,  3.,  0.],\n",
       "       [ 0., 10.,  0.,  0.,  0.,  0.,  3.,  0.],\n",
       "       [ 4.,  0.,  0.,  0.,  0.,  0.,  0.,  2.],\n",
       "       [ 0.,  0.,  0.,  0.,  0., 10.,  9.,  0.],\n",
       "       [ 0.,  6.,  0.,  8.,  0.,  0.,  0.,  0.],\n",
       "       [ 0.,  0.,  9.,  0.,  0.,  0.,  9.,  0.],\n",
       "       [ 0.,  0.,  0.,  0.,  3.,  3.,  0.,  0.],\n",
       "       [ 0., 10.,  0.,  0.,  2.,  0.,  0.,  0.],\n",
       "       [ 0.,  0.,  0.,  0.,  0.,  3.,  1.,  0.],\n",
       "       [ 0.,  0.,  0.,  0.,  0.,  4.,  2.,  0.],\n",
       "       [ 0.,  0.,  0.,  3.,  0.,  0.,  8.,  0.],\n",
       "       [ 0.,  0.,  4.,  1.,  0.,  0.,  0.,  0.],\n",
       "       [ 1.,  0.,  0.,  0.,  0.,  0.,  0.,  8.],\n",
       "       [ 0.,  0.,  2.,  0.,  1.,  0.,  0.,  0.],\n",
       "       [ 0.,  0.,  8.,  0.,  0.,  2.,  0.,  0.]])"
      ]
     },
     "execution_count": 11,
     "metadata": {},
     "output_type": "execute_result"
    }
   ],
   "source": [
    "#dados de teste;\n",
    "#observe que exatamente as notas que foram retiradas de treino são colocadas nessa matriz de teste!!\n",
    "\n",
    "test"
   ]
  },
  {
   "cell_type": "markdown",
   "metadata": {},
   "source": [
    "<br>\n",
    "\n",
    "Na prática, usaremos os dados de treino para treinar e escolher os modelos.\n",
    "\n",
    "Neste caso, podemos, inclusive, fazer a divisão em treino/validação/teste:\n",
    "    \n"
   ]
  },
  {
   "cell_type": "code",
   "execution_count": 12,
   "metadata": {},
   "outputs": [],
   "source": [
    "train, val = train_test_split(train, qtd = 2)"
   ]
  },
  {
   "cell_type": "code",
   "execution_count": 13,
   "metadata": {},
   "outputs": [
    {
     "data": {
      "text/plain": [
       "array([[ 0.,  0.,  0.,  0.,  0.,  0.,  0.,  8.],\n",
       "       [ 9.,  0.,  2.,  2.,  0.,  0.,  0.,  8.],\n",
       "       [ 0.,  0.,  9.,  6.,  0., 10., 10.,  0.],\n",
       "       [ 0.,  7.,  0.,  0.,  5.,  0.,  0.,  1.],\n",
       "       [ 7.,  0.,  3.,  0.,  0.,  4.,  3.,  0.],\n",
       "       [ 0.,  0.,  0.,  0.,  0.,  8.,  0.,  0.],\n",
       "       [ 0.,  5.,  0.,  4.,  0.,  0.,  9.,  0.],\n",
       "       [ 0.,  0., 10., 10.,  0.,  2.,  0.,  2.],\n",
       "       [ 0.,  0.,  0.,  8.,  3.,  0.,  0.,  0.],\n",
       "       [ 0.,  0., 10.,  9.,  3.,  0.,  0.,  1.],\n",
       "       [ 0.,  4.,  0.,  0.,  9.,  9.,  0., 10.],\n",
       "       [ 2.,  2.,  0.,  0.,  8.,  0., 10.,  0.],\n",
       "       [ 0.,  4.,  1.,  0.,  7.,  0.,  7.,  0.],\n",
       "       [ 3.,  3.,  0.,  0.,  0., 10.,  0.,  0.],\n",
       "       [ 0.,  9.,  0.,  0.,  4.,  0.,  0.,  1.]])"
      ]
     },
     "execution_count": 13,
     "metadata": {},
     "output_type": "execute_result"
    }
   ],
   "source": [
    "train"
   ]
  },
  {
   "cell_type": "code",
   "execution_count": 14,
   "metadata": {},
   "outputs": [
    {
     "data": {
      "text/plain": [
       "array([[ 0.,  0.,  0.,  1.,  0.,  2.,  0.,  0.],\n",
       "       [ 0.,  0.,  0.,  0.,  6.,  5.,  0.,  0.],\n",
       "       [ 0.,  7.,  0.,  0.,  6.,  0.,  0.,  0.],\n",
       "       [ 0.,  0.,  9.,  5.,  0.,  0.,  0.,  0.],\n",
       "       [ 0.,  0.,  0.,  0.,  3.,  0.,  0.,  2.],\n",
       "       [ 0.,  0.,  0.,  9.,  6.,  0.,  0.,  0.],\n",
       "       [ 3.,  0.,  4.,  0.,  0.,  0.,  0.,  0.],\n",
       "       [10.,  0.,  0.,  0.,  0.,  0.,  2.,  0.],\n",
       "       [ 9.,  9.,  0.,  0.,  0.,  0.,  0.,  0.],\n",
       "       [ 9.,  8.,  0.,  0.,  0.,  0.,  0.,  0.],\n",
       "       [ 4.,  0.,  3.,  0.,  0.,  0.,  0.,  0.],\n",
       "       [ 0.,  0.,  0.,  0.,  0., 10.,  0.,  9.],\n",
       "       [ 0.,  0.,  0.,  3.,  0., 10.,  0.,  0.],\n",
       "       [ 0.,  0.,  0.,  1.,  0.,  0.,  0., 10.],\n",
       "       [ 9.,  0.,  0., 10.,  0.,  0.,  0.,  0.]])"
      ]
     },
     "execution_count": 14,
     "metadata": {},
     "output_type": "execute_result"
    }
   ],
   "source": [
    "val"
   ]
  },
  {
   "cell_type": "code",
   "execution_count": 15,
   "metadata": {},
   "outputs": [
    {
     "data": {
      "text/plain": [
       "array([[ 0.,  0.,  0.,  0.,  7.,  0.,  3.,  0.],\n",
       "       [ 0., 10.,  0.,  0.,  0.,  0.,  3.,  0.],\n",
       "       [ 4.,  0.,  0.,  0.,  0.,  0.,  0.,  2.],\n",
       "       [ 0.,  0.,  0.,  0.,  0., 10.,  9.,  0.],\n",
       "       [ 0.,  6.,  0.,  8.,  0.,  0.,  0.,  0.],\n",
       "       [ 0.,  0.,  9.,  0.,  0.,  0.,  9.,  0.],\n",
       "       [ 0.,  0.,  0.,  0.,  3.,  3.,  0.,  0.],\n",
       "       [ 0., 10.,  0.,  0.,  2.,  0.,  0.,  0.],\n",
       "       [ 0.,  0.,  0.,  0.,  0.,  3.,  1.,  0.],\n",
       "       [ 0.,  0.,  0.,  0.,  0.,  4.,  2.,  0.],\n",
       "       [ 0.,  0.,  0.,  3.,  0.,  0.,  8.,  0.],\n",
       "       [ 0.,  0.,  4.,  1.,  0.,  0.,  0.,  0.],\n",
       "       [ 1.,  0.,  0.,  0.,  0.,  0.,  0.,  8.],\n",
       "       [ 0.,  0.,  2.,  0.,  1.,  0.,  0.,  0.],\n",
       "       [ 0.,  0.,  8.,  0.,  0.,  2.,  0.,  0.]])"
      ]
     },
     "execution_count": 15,
     "metadata": {},
     "output_type": "execute_result"
    }
   ],
   "source": [
    "test"
   ]
  },
  {
   "cell_type": "markdown",
   "metadata": {},
   "source": [
    "<br>\n",
    "\n",
    "Observe que, se \"juntamos\" os dados das 3 tabelas acima, retornamos com os dados originais:\n",
    "    \n",
    "<br>"
   ]
  },
  {
   "cell_type": "code",
   "execution_count": 16,
   "metadata": {},
   "outputs": [
    {
     "data": {
      "text/plain": [
       "array([[ 0.,  0.,  0.,  1.,  7.,  2.,  3.,  8.],\n",
       "       [ 9., 10.,  2.,  2.,  6.,  5.,  3.,  8.],\n",
       "       [ 4.,  7.,  9.,  6.,  6., 10., 10.,  2.],\n",
       "       [ 0.,  7.,  9.,  5.,  5., 10.,  9.,  1.],\n",
       "       [ 7.,  6.,  3.,  8.,  3.,  4.,  3.,  2.],\n",
       "       [ 0.,  0.,  9.,  9.,  6.,  8.,  9.,  0.],\n",
       "       [ 3.,  5.,  4.,  4.,  3.,  3.,  9.,  0.],\n",
       "       [10., 10., 10., 10.,  2.,  2.,  2.,  2.],\n",
       "       [ 9.,  9.,  0.,  8.,  3.,  3.,  1.,  0.],\n",
       "       [ 9.,  8., 10.,  9.,  3.,  4.,  2.,  1.],\n",
       "       [ 4.,  4.,  3.,  3.,  9.,  9.,  8., 10.],\n",
       "       [ 2.,  2.,  4.,  1.,  8., 10., 10.,  9.],\n",
       "       [ 1.,  4.,  1.,  3.,  7., 10.,  7.,  8.],\n",
       "       [ 3.,  3.,  2.,  1.,  1., 10.,  0., 10.],\n",
       "       [ 9.,  9.,  8., 10.,  4.,  2.,  0.,  1.]])"
      ]
     },
     "execution_count": 16,
     "metadata": {},
     "output_type": "execute_result"
    }
   ],
   "source": [
    "train + val + test"
   ]
  },
  {
   "cell_type": "code",
   "execution_count": 17,
   "metadata": {},
   "outputs": [
    {
     "data": {
      "text/plain": [
       "array([[ True,  True,  True,  True,  True,  True,  True,  True],\n",
       "       [ True,  True,  True,  True,  True,  True,  True,  True],\n",
       "       [ True,  True,  True,  True,  True,  True,  True,  True],\n",
       "       [ True,  True,  True,  True,  True,  True,  True,  True],\n",
       "       [ True,  True,  True,  True,  True,  True,  True,  True],\n",
       "       [ True,  True,  True,  True,  True,  True,  True,  True],\n",
       "       [ True,  True,  True,  True,  True,  True,  True,  True],\n",
       "       [ True,  True,  True,  True,  True,  True,  True,  True],\n",
       "       [ True,  True,  True,  True,  True,  True,  True,  True],\n",
       "       [ True,  True,  True,  True,  True,  True,  True,  True],\n",
       "       [ True,  True,  True,  True,  True,  True,  True,  True],\n",
       "       [ True,  True,  True,  True,  True,  True,  True,  True],\n",
       "       [ True,  True,  True,  True,  True,  True,  True,  True],\n",
       "       [ True,  True,  True,  True,  True,  True,  True,  True],\n",
       "       [ True,  True,  True,  True,  True,  True,  True,  True]])"
      ]
     },
     "execution_count": 17,
     "metadata": {},
     "output_type": "execute_result"
    }
   ],
   "source": [
    "(train + val + test) == ratings"
   ]
  },
  {
   "cell_type": "markdown",
   "metadata": {},
   "source": [
    "<br>\n",
    "\n",
    "Ou seja, com a metodologia acima, temos uma \"divisão\" dos dados em treino/validação/teste!\n",
    "\n",
    "\n",
    "Desta forma, podemos usar a metologia padrão de avaliação dos modelos:\n",
    "    \n",
    "    - Fitamos os modelos nos dados de treino;\n",
    "    \n",
    "    - Avaliamos os modelos nos dados de validação;\n",
    "    \n",
    "    - Escolhemos o modelo final, a partir dos resultados de validação;\n",
    "    \n",
    "    - Avaliamos o modelo final nos dados de teste.\n",
    "    \n",
    "    \n",
    "<br>\n",
    "\n",
    "\n",
    "__Ponto de atenção:__\n",
    "\n",
    "Ao calcularmos as métricas de performance, apenas os valores não nulos dos dados de validação/teste devem ser usados.\n",
    "\n",
    "<br><br>\n",
    "\n",
    "Vejamos um exemplo:"
   ]
  },
  {
   "cell_type": "code",
   "execution_count": 18,
   "metadata": {},
   "outputs": [],
   "source": [
    "fat = MatrixFactorization(dataframe = pd.DataFrame(train, columns = df.columns, index = df.index), \n",
    "                          K = 5, steps = 5000, alpha = 0.0001, beta = 0.2)"
   ]
  },
  {
   "cell_type": "code",
   "execution_count": 19,
   "metadata": {},
   "outputs": [
    {
     "name": "stdout",
     "output_type": "stream",
     "text": [
      "Fatoração concluída. Tempo aproximado: 1 minuto(s).\n"
     ]
    }
   ],
   "source": [
    "fat.fit()"
   ]
  },
  {
   "cell_type": "code",
   "execution_count": 20,
   "metadata": {},
   "outputs": [
    {
     "data": {
      "text/html": [
       "<div>\n",
       "<style scoped>\n",
       "    .dataframe tbody tr th:only-of-type {\n",
       "        vertical-align: middle;\n",
       "    }\n",
       "\n",
       "    .dataframe tbody tr th {\n",
       "        vertical-align: top;\n",
       "    }\n",
       "\n",
       "    .dataframe thead th {\n",
       "        text-align: right;\n",
       "    }\n",
       "</style>\n",
       "<table border=\"1\" class=\"dataframe\">\n",
       "  <thead>\n",
       "    <tr style=\"text-align: right;\">\n",
       "      <th></th>\n",
       "      <th>Filme_1</th>\n",
       "      <th>Filme_2</th>\n",
       "      <th>Filme_3</th>\n",
       "      <th>Filme_4</th>\n",
       "      <th>Filme_5</th>\n",
       "      <th>Filme_6</th>\n",
       "      <th>Filme_7</th>\n",
       "      <th>Filme_8</th>\n",
       "    </tr>\n",
       "  </thead>\n",
       "  <tbody>\n",
       "    <tr>\n",
       "      <th>User_1</th>\n",
       "      <td>6.70</td>\n",
       "      <td>3.82</td>\n",
       "      <td>3.83</td>\n",
       "      <td>3.35</td>\n",
       "      <td>7.13</td>\n",
       "      <td>8.26</td>\n",
       "      <td>8.42</td>\n",
       "      <td>7.89</td>\n",
       "    </tr>\n",
       "    <tr>\n",
       "      <th>User_2</th>\n",
       "      <td>8.70</td>\n",
       "      <td>2.72</td>\n",
       "      <td>2.24</td>\n",
       "      <td>1.78</td>\n",
       "      <td>5.37</td>\n",
       "      <td>7.19</td>\n",
       "      <td>5.56</td>\n",
       "      <td>7.87</td>\n",
       "    </tr>\n",
       "    <tr>\n",
       "      <th>User_3</th>\n",
       "      <td>6.88</td>\n",
       "      <td>5.54</td>\n",
       "      <td>8.56</td>\n",
       "      <td>6.32</td>\n",
       "      <td>5.86</td>\n",
       "      <td>9.81</td>\n",
       "      <td>9.87</td>\n",
       "      <td>6.41</td>\n",
       "    </tr>\n",
       "    <tr>\n",
       "      <th>User_4</th>\n",
       "      <td>1.20</td>\n",
       "      <td>6.83</td>\n",
       "      <td>4.28</td>\n",
       "      <td>4.06</td>\n",
       "      <td>4.70</td>\n",
       "      <td>3.62</td>\n",
       "      <td>7.05</td>\n",
       "      <td>1.25</td>\n",
       "    </tr>\n",
       "    <tr>\n",
       "      <th>User_5</th>\n",
       "      <td>6.75</td>\n",
       "      <td>1.81</td>\n",
       "      <td>2.95</td>\n",
       "      <td>2.34</td>\n",
       "      <td>2.29</td>\n",
       "      <td>3.95</td>\n",
       "      <td>3.04</td>\n",
       "      <td>4.42</td>\n",
       "    </tr>\n",
       "    <tr>\n",
       "      <th>User_6</th>\n",
       "      <td>5.73</td>\n",
       "      <td>3.64</td>\n",
       "      <td>4.61</td>\n",
       "      <td>3.28</td>\n",
       "      <td>5.11</td>\n",
       "      <td>7.87</td>\n",
       "      <td>7.08</td>\n",
       "      <td>6.06</td>\n",
       "    </tr>\n",
       "    <tr>\n",
       "      <th>User_7</th>\n",
       "      <td>2.73</td>\n",
       "      <td>4.96</td>\n",
       "      <td>4.27</td>\n",
       "      <td>4.03</td>\n",
       "      <td>6.71</td>\n",
       "      <td>6.35</td>\n",
       "      <td>8.76</td>\n",
       "      <td>4.86</td>\n",
       "    </tr>\n",
       "    <tr>\n",
       "      <th>User_8</th>\n",
       "      <td>3.53</td>\n",
       "      <td>4.00</td>\n",
       "      <td>9.88</td>\n",
       "      <td>9.66</td>\n",
       "      <td>3.74</td>\n",
       "      <td>2.10</td>\n",
       "      <td>8.25</td>\n",
       "      <td>1.92</td>\n",
       "    </tr>\n",
       "    <tr>\n",
       "      <th>User_9</th>\n",
       "      <td>3.24</td>\n",
       "      <td>3.21</td>\n",
       "      <td>8.74</td>\n",
       "      <td>7.74</td>\n",
       "      <td>3.08</td>\n",
       "      <td>3.64</td>\n",
       "      <td>7.22</td>\n",
       "      <td>2.27</td>\n",
       "    </tr>\n",
       "    <tr>\n",
       "      <th>User_10</th>\n",
       "      <td>2.81</td>\n",
       "      <td>4.42</td>\n",
       "      <td>9.80</td>\n",
       "      <td>8.80</td>\n",
       "      <td>2.91</td>\n",
       "      <td>2.95</td>\n",
       "      <td>7.68</td>\n",
       "      <td>1.14</td>\n",
       "    </tr>\n",
       "    <tr>\n",
       "      <th>User_11</th>\n",
       "      <td>7.32</td>\n",
       "      <td>3.86</td>\n",
       "      <td>3.91</td>\n",
       "      <td>3.94</td>\n",
       "      <td>8.94</td>\n",
       "      <td>9.03</td>\n",
       "      <td>10.08</td>\n",
       "      <td>9.55</td>\n",
       "    </tr>\n",
       "    <tr>\n",
       "      <th>User_12</th>\n",
       "      <td>2.04</td>\n",
       "      <td>2.22</td>\n",
       "      <td>4.71</td>\n",
       "      <td>5.15</td>\n",
       "      <td>7.73</td>\n",
       "      <td>6.04</td>\n",
       "      <td>9.76</td>\n",
       "      <td>6.34</td>\n",
       "    </tr>\n",
       "    <tr>\n",
       "      <th>User_13</th>\n",
       "      <td>3.35</td>\n",
       "      <td>3.92</td>\n",
       "      <td>1.11</td>\n",
       "      <td>1.46</td>\n",
       "      <td>6.69</td>\n",
       "      <td>5.90</td>\n",
       "      <td>6.96</td>\n",
       "      <td>5.70</td>\n",
       "    </tr>\n",
       "    <tr>\n",
       "      <th>User_14</th>\n",
       "      <td>3.09</td>\n",
       "      <td>3.05</td>\n",
       "      <td>3.88</td>\n",
       "      <td>2.14</td>\n",
       "      <td>5.96</td>\n",
       "      <td>9.62</td>\n",
       "      <td>8.01</td>\n",
       "      <td>6.37</td>\n",
       "    </tr>\n",
       "    <tr>\n",
       "      <th>User_15</th>\n",
       "      <td>2.59</td>\n",
       "      <td>8.56</td>\n",
       "      <td>6.46</td>\n",
       "      <td>5.19</td>\n",
       "      <td>4.16</td>\n",
       "      <td>5.02</td>\n",
       "      <td>7.72</td>\n",
       "      <td>0.92</td>\n",
       "    </tr>\n",
       "  </tbody>\n",
       "</table>\n",
       "</div>"
      ],
      "text/plain": [
       "         Filme_1  Filme_2  Filme_3  Filme_4  Filme_5  Filme_6  Filme_7  \\\n",
       "User_1      6.70     3.82     3.83     3.35     7.13     8.26     8.42   \n",
       "User_2      8.70     2.72     2.24     1.78     5.37     7.19     5.56   \n",
       "User_3      6.88     5.54     8.56     6.32     5.86     9.81     9.87   \n",
       "User_4      1.20     6.83     4.28     4.06     4.70     3.62     7.05   \n",
       "User_5      6.75     1.81     2.95     2.34     2.29     3.95     3.04   \n",
       "User_6      5.73     3.64     4.61     3.28     5.11     7.87     7.08   \n",
       "User_7      2.73     4.96     4.27     4.03     6.71     6.35     8.76   \n",
       "User_8      3.53     4.00     9.88     9.66     3.74     2.10     8.25   \n",
       "User_9      3.24     3.21     8.74     7.74     3.08     3.64     7.22   \n",
       "User_10     2.81     4.42     9.80     8.80     2.91     2.95     7.68   \n",
       "User_11     7.32     3.86     3.91     3.94     8.94     9.03    10.08   \n",
       "User_12     2.04     2.22     4.71     5.15     7.73     6.04     9.76   \n",
       "User_13     3.35     3.92     1.11     1.46     6.69     5.90     6.96   \n",
       "User_14     3.09     3.05     3.88     2.14     5.96     9.62     8.01   \n",
       "User_15     2.59     8.56     6.46     5.19     4.16     5.02     7.72   \n",
       "\n",
       "         Filme_8  \n",
       "User_1      7.89  \n",
       "User_2      7.87  \n",
       "User_3      6.41  \n",
       "User_4      1.25  \n",
       "User_5      4.42  \n",
       "User_6      6.06  \n",
       "User_7      4.86  \n",
       "User_8      1.92  \n",
       "User_9      2.27  \n",
       "User_10     1.14  \n",
       "User_11     9.55  \n",
       "User_12     6.34  \n",
       "User_13     5.70  \n",
       "User_14     6.37  \n",
       "User_15     0.92  "
      ]
     },
     "execution_count": 20,
     "metadata": {},
     "output_type": "execute_result"
    }
   ],
   "source": [
    "#predição usando apenas os dados de treino!!\n",
    "\n",
    "pd.DataFrame(fat.predict(), columns = df.columns, index = df.index).round(2)"
   ]
  },
  {
   "cell_type": "markdown",
   "metadata": {},
   "source": [
    "<br>\n",
    "\n",
    "Veja que a matriz resultante __não é esparsa!__\n",
    "\n",
    "Dessa forma, como sabemos, podemos utilizá-la para as recomendações.\n",
    "\n",
    "Como __nosso objetivo no exercício é avaliar performance__, podemos __comparar__ os resultados dessa matriz resultante com os valores dos dados de validação!"
   ]
  },
  {
   "cell_type": "code",
   "execution_count": 21,
   "metadata": {},
   "outputs": [
    {
     "data": {
      "text/html": [
       "<div>\n",
       "<style scoped>\n",
       "    .dataframe tbody tr th:only-of-type {\n",
       "        vertical-align: middle;\n",
       "    }\n",
       "\n",
       "    .dataframe tbody tr th {\n",
       "        vertical-align: top;\n",
       "    }\n",
       "\n",
       "    .dataframe thead th {\n",
       "        text-align: right;\n",
       "    }\n",
       "</style>\n",
       "<table border=\"1\" class=\"dataframe\">\n",
       "  <thead>\n",
       "    <tr style=\"text-align: right;\">\n",
       "      <th></th>\n",
       "      <th>Filme_1</th>\n",
       "      <th>Filme_2</th>\n",
       "      <th>Filme_3</th>\n",
       "      <th>Filme_4</th>\n",
       "      <th>Filme_5</th>\n",
       "      <th>Filme_6</th>\n",
       "      <th>Filme_7</th>\n",
       "      <th>Filme_8</th>\n",
       "    </tr>\n",
       "  </thead>\n",
       "  <tbody>\n",
       "    <tr>\n",
       "      <th>User_1</th>\n",
       "      <td>0.0</td>\n",
       "      <td>0.0</td>\n",
       "      <td>0.0</td>\n",
       "      <td>1.0</td>\n",
       "      <td>0.0</td>\n",
       "      <td>2.0</td>\n",
       "      <td>0.0</td>\n",
       "      <td>0.0</td>\n",
       "    </tr>\n",
       "    <tr>\n",
       "      <th>User_2</th>\n",
       "      <td>0.0</td>\n",
       "      <td>0.0</td>\n",
       "      <td>0.0</td>\n",
       "      <td>0.0</td>\n",
       "      <td>6.0</td>\n",
       "      <td>5.0</td>\n",
       "      <td>0.0</td>\n",
       "      <td>0.0</td>\n",
       "    </tr>\n",
       "    <tr>\n",
       "      <th>User_3</th>\n",
       "      <td>0.0</td>\n",
       "      <td>7.0</td>\n",
       "      <td>0.0</td>\n",
       "      <td>0.0</td>\n",
       "      <td>6.0</td>\n",
       "      <td>0.0</td>\n",
       "      <td>0.0</td>\n",
       "      <td>0.0</td>\n",
       "    </tr>\n",
       "    <tr>\n",
       "      <th>User_4</th>\n",
       "      <td>0.0</td>\n",
       "      <td>0.0</td>\n",
       "      <td>9.0</td>\n",
       "      <td>5.0</td>\n",
       "      <td>0.0</td>\n",
       "      <td>0.0</td>\n",
       "      <td>0.0</td>\n",
       "      <td>0.0</td>\n",
       "    </tr>\n",
       "    <tr>\n",
       "      <th>User_5</th>\n",
       "      <td>0.0</td>\n",
       "      <td>0.0</td>\n",
       "      <td>0.0</td>\n",
       "      <td>0.0</td>\n",
       "      <td>3.0</td>\n",
       "      <td>0.0</td>\n",
       "      <td>0.0</td>\n",
       "      <td>2.0</td>\n",
       "    </tr>\n",
       "    <tr>\n",
       "      <th>User_6</th>\n",
       "      <td>0.0</td>\n",
       "      <td>0.0</td>\n",
       "      <td>0.0</td>\n",
       "      <td>9.0</td>\n",
       "      <td>6.0</td>\n",
       "      <td>0.0</td>\n",
       "      <td>0.0</td>\n",
       "      <td>0.0</td>\n",
       "    </tr>\n",
       "    <tr>\n",
       "      <th>User_7</th>\n",
       "      <td>3.0</td>\n",
       "      <td>0.0</td>\n",
       "      <td>4.0</td>\n",
       "      <td>0.0</td>\n",
       "      <td>0.0</td>\n",
       "      <td>0.0</td>\n",
       "      <td>0.0</td>\n",
       "      <td>0.0</td>\n",
       "    </tr>\n",
       "    <tr>\n",
       "      <th>User_8</th>\n",
       "      <td>10.0</td>\n",
       "      <td>0.0</td>\n",
       "      <td>0.0</td>\n",
       "      <td>0.0</td>\n",
       "      <td>0.0</td>\n",
       "      <td>0.0</td>\n",
       "      <td>2.0</td>\n",
       "      <td>0.0</td>\n",
       "    </tr>\n",
       "    <tr>\n",
       "      <th>User_9</th>\n",
       "      <td>9.0</td>\n",
       "      <td>9.0</td>\n",
       "      <td>0.0</td>\n",
       "      <td>0.0</td>\n",
       "      <td>0.0</td>\n",
       "      <td>0.0</td>\n",
       "      <td>0.0</td>\n",
       "      <td>0.0</td>\n",
       "    </tr>\n",
       "    <tr>\n",
       "      <th>User_10</th>\n",
       "      <td>9.0</td>\n",
       "      <td>8.0</td>\n",
       "      <td>0.0</td>\n",
       "      <td>0.0</td>\n",
       "      <td>0.0</td>\n",
       "      <td>0.0</td>\n",
       "      <td>0.0</td>\n",
       "      <td>0.0</td>\n",
       "    </tr>\n",
       "    <tr>\n",
       "      <th>User_11</th>\n",
       "      <td>4.0</td>\n",
       "      <td>0.0</td>\n",
       "      <td>3.0</td>\n",
       "      <td>0.0</td>\n",
       "      <td>0.0</td>\n",
       "      <td>0.0</td>\n",
       "      <td>0.0</td>\n",
       "      <td>0.0</td>\n",
       "    </tr>\n",
       "    <tr>\n",
       "      <th>User_12</th>\n",
       "      <td>0.0</td>\n",
       "      <td>0.0</td>\n",
       "      <td>0.0</td>\n",
       "      <td>0.0</td>\n",
       "      <td>0.0</td>\n",
       "      <td>10.0</td>\n",
       "      <td>0.0</td>\n",
       "      <td>9.0</td>\n",
       "    </tr>\n",
       "    <tr>\n",
       "      <th>User_13</th>\n",
       "      <td>0.0</td>\n",
       "      <td>0.0</td>\n",
       "      <td>0.0</td>\n",
       "      <td>3.0</td>\n",
       "      <td>0.0</td>\n",
       "      <td>10.0</td>\n",
       "      <td>0.0</td>\n",
       "      <td>0.0</td>\n",
       "    </tr>\n",
       "    <tr>\n",
       "      <th>User_14</th>\n",
       "      <td>0.0</td>\n",
       "      <td>0.0</td>\n",
       "      <td>0.0</td>\n",
       "      <td>1.0</td>\n",
       "      <td>0.0</td>\n",
       "      <td>0.0</td>\n",
       "      <td>0.0</td>\n",
       "      <td>10.0</td>\n",
       "    </tr>\n",
       "    <tr>\n",
       "      <th>User_15</th>\n",
       "      <td>9.0</td>\n",
       "      <td>0.0</td>\n",
       "      <td>0.0</td>\n",
       "      <td>10.0</td>\n",
       "      <td>0.0</td>\n",
       "      <td>0.0</td>\n",
       "      <td>0.0</td>\n",
       "      <td>0.0</td>\n",
       "    </tr>\n",
       "  </tbody>\n",
       "</table>\n",
       "</div>"
      ],
      "text/plain": [
       "         Filme_1  Filme_2  Filme_3  Filme_4  Filme_5  Filme_6  Filme_7  \\\n",
       "User_1       0.0      0.0      0.0      1.0      0.0      2.0      0.0   \n",
       "User_2       0.0      0.0      0.0      0.0      6.0      5.0      0.0   \n",
       "User_3       0.0      7.0      0.0      0.0      6.0      0.0      0.0   \n",
       "User_4       0.0      0.0      9.0      5.0      0.0      0.0      0.0   \n",
       "User_5       0.0      0.0      0.0      0.0      3.0      0.0      0.0   \n",
       "User_6       0.0      0.0      0.0      9.0      6.0      0.0      0.0   \n",
       "User_7       3.0      0.0      4.0      0.0      0.0      0.0      0.0   \n",
       "User_8      10.0      0.0      0.0      0.0      0.0      0.0      2.0   \n",
       "User_9       9.0      9.0      0.0      0.0      0.0      0.0      0.0   \n",
       "User_10      9.0      8.0      0.0      0.0      0.0      0.0      0.0   \n",
       "User_11      4.0      0.0      3.0      0.0      0.0      0.0      0.0   \n",
       "User_12      0.0      0.0      0.0      0.0      0.0     10.0      0.0   \n",
       "User_13      0.0      0.0      0.0      3.0      0.0     10.0      0.0   \n",
       "User_14      0.0      0.0      0.0      1.0      0.0      0.0      0.0   \n",
       "User_15      9.0      0.0      0.0     10.0      0.0      0.0      0.0   \n",
       "\n",
       "         Filme_8  \n",
       "User_1       0.0  \n",
       "User_2       0.0  \n",
       "User_3       0.0  \n",
       "User_4       0.0  \n",
       "User_5       2.0  \n",
       "User_6       0.0  \n",
       "User_7       0.0  \n",
       "User_8       0.0  \n",
       "User_9       0.0  \n",
       "User_10      0.0  \n",
       "User_11      0.0  \n",
       "User_12      9.0  \n",
       "User_13      0.0  \n",
       "User_14     10.0  \n",
       "User_15      0.0  "
      ]
     },
     "execution_count": 21,
     "metadata": {},
     "output_type": "execute_result"
    }
   ],
   "source": [
    "pd.DataFrame(val, columns = df.columns, index = df.index)"
   ]
  },
  {
   "cell_type": "markdown",
   "metadata": {},
   "source": [
    "<br>\n",
    "\n",
    "### Exercício:\n",
    "\n",
    "Carregue o conjunto de dados a partir da função getData() e utilize o modelo de fatoração matricial.\n",
    "\n",
    "Faça uma divisão dos dados em treino/validação/teste de acordo com a metodologia acima discutida (Utilize qtd = 2, ou seja, 2 interações por usuário serão retiradas na divisão dos dados). \n",
    "\n",
    "Testando vários conjuntos de parâmetros - isto é, um análogo ao Grid Search de modelos - encontre a melhor fatoração matricial para realizarmos recomendações neste dataset.\n",
    "\n",
    "Obs.: esse grid search acima pode ser feito manualmente, implementado num loop."
   ]
  },
  {
   "cell_type": "code",
   "execution_count": 22,
   "metadata": {
    "scrolled": false
   },
   "outputs": [
    {
     "name": "stdout",
     "output_type": "stream",
     "text": [
      "(367, 80)\n"
     ]
    },
    {
     "data": {
      "text/html": [
       "<div>\n",
       "<style scoped>\n",
       "    .dataframe tbody tr th:only-of-type {\n",
       "        vertical-align: middle;\n",
       "    }\n",
       "\n",
       "    .dataframe tbody tr th {\n",
       "        vertical-align: top;\n",
       "    }\n",
       "\n",
       "    .dataframe thead th {\n",
       "        text-align: right;\n",
       "    }\n",
       "</style>\n",
       "<table border=\"1\" class=\"dataframe\">\n",
       "  <thead>\n",
       "    <tr style=\"text-align: right;\">\n",
       "      <th></th>\n",
       "      <th>Filme_1</th>\n",
       "      <th>Filme_2</th>\n",
       "      <th>Filme_3</th>\n",
       "      <th>Filme_4</th>\n",
       "      <th>Filme_5</th>\n",
       "      <th>Filme_6</th>\n",
       "      <th>Filme_7</th>\n",
       "      <th>Filme_8</th>\n",
       "      <th>Filme_9</th>\n",
       "      <th>Filme_10</th>\n",
       "      <th>...</th>\n",
       "      <th>Filme_71</th>\n",
       "      <th>Filme_72</th>\n",
       "      <th>Filme_73</th>\n",
       "      <th>Filme_74</th>\n",
       "      <th>Filme_75</th>\n",
       "      <th>Filme_76</th>\n",
       "      <th>Filme_77</th>\n",
       "      <th>Filme_78</th>\n",
       "      <th>Filme_79</th>\n",
       "      <th>Filme_80</th>\n",
       "    </tr>\n",
       "  </thead>\n",
       "  <tbody>\n",
       "    <tr>\n",
       "      <th>User_0</th>\n",
       "      <td>5.0</td>\n",
       "      <td>3.0</td>\n",
       "      <td>4.0</td>\n",
       "      <td>3.0</td>\n",
       "      <td>3.0</td>\n",
       "      <td>5.0</td>\n",
       "      <td>4.0</td>\n",
       "      <td>1.0</td>\n",
       "      <td>5.0</td>\n",
       "      <td>3.0</td>\n",
       "      <td>...</td>\n",
       "      <td>3.0</td>\n",
       "      <td>4.0</td>\n",
       "      <td>3.0</td>\n",
       "      <td>1.0</td>\n",
       "      <td>4.0</td>\n",
       "      <td>4.0</td>\n",
       "      <td>4.0</td>\n",
       "      <td>1.0</td>\n",
       "      <td>4.0</td>\n",
       "      <td>4.0</td>\n",
       "    </tr>\n",
       "    <tr>\n",
       "      <th>User_1</th>\n",
       "      <td>4.0</td>\n",
       "      <td>3.0</td>\n",
       "      <td>NaN</td>\n",
       "      <td>NaN</td>\n",
       "      <td>NaN</td>\n",
       "      <td>NaN</td>\n",
       "      <td>NaN</td>\n",
       "      <td>NaN</td>\n",
       "      <td>NaN</td>\n",
       "      <td>NaN</td>\n",
       "      <td>...</td>\n",
       "      <td>NaN</td>\n",
       "      <td>NaN</td>\n",
       "      <td>NaN</td>\n",
       "      <td>NaN</td>\n",
       "      <td>NaN</td>\n",
       "      <td>NaN</td>\n",
       "      <td>NaN</td>\n",
       "      <td>NaN</td>\n",
       "      <td>3.0</td>\n",
       "      <td>2.0</td>\n",
       "    </tr>\n",
       "    <tr>\n",
       "      <th>User_2</th>\n",
       "      <td>4.0</td>\n",
       "      <td>NaN</td>\n",
       "      <td>NaN</td>\n",
       "      <td>NaN</td>\n",
       "      <td>NaN</td>\n",
       "      <td>NaN</td>\n",
       "      <td>2.0</td>\n",
       "      <td>4.0</td>\n",
       "      <td>4.0</td>\n",
       "      <td>NaN</td>\n",
       "      <td>...</td>\n",
       "      <td>4.0</td>\n",
       "      <td>NaN</td>\n",
       "      <td>NaN</td>\n",
       "      <td>NaN</td>\n",
       "      <td>NaN</td>\n",
       "      <td>NaN</td>\n",
       "      <td>NaN</td>\n",
       "      <td>NaN</td>\n",
       "      <td>3.0</td>\n",
       "      <td>NaN</td>\n",
       "    </tr>\n",
       "    <tr>\n",
       "      <th>User_3</th>\n",
       "      <td>NaN</td>\n",
       "      <td>NaN</td>\n",
       "      <td>NaN</td>\n",
       "      <td>5.0</td>\n",
       "      <td>NaN</td>\n",
       "      <td>NaN</td>\n",
       "      <td>5.0</td>\n",
       "      <td>5.0</td>\n",
       "      <td>5.0</td>\n",
       "      <td>4.0</td>\n",
       "      <td>...</td>\n",
       "      <td>5.0</td>\n",
       "      <td>5.0</td>\n",
       "      <td>3.0</td>\n",
       "      <td>NaN</td>\n",
       "      <td>NaN</td>\n",
       "      <td>NaN</td>\n",
       "      <td>5.0</td>\n",
       "      <td>3.0</td>\n",
       "      <td>4.0</td>\n",
       "      <td>4.0</td>\n",
       "    </tr>\n",
       "    <tr>\n",
       "      <th>User_4</th>\n",
       "      <td>4.0</td>\n",
       "      <td>NaN</td>\n",
       "      <td>NaN</td>\n",
       "      <td>4.0</td>\n",
       "      <td>NaN</td>\n",
       "      <td>NaN</td>\n",
       "      <td>4.0</td>\n",
       "      <td>NaN</td>\n",
       "      <td>4.0</td>\n",
       "      <td>NaN</td>\n",
       "      <td>...</td>\n",
       "      <td>NaN</td>\n",
       "      <td>NaN</td>\n",
       "      <td>NaN</td>\n",
       "      <td>NaN</td>\n",
       "      <td>NaN</td>\n",
       "      <td>NaN</td>\n",
       "      <td>NaN</td>\n",
       "      <td>NaN</td>\n",
       "      <td>NaN</td>\n",
       "      <td>NaN</td>\n",
       "    </tr>\n",
       "    <tr>\n",
       "      <th>...</th>\n",
       "      <td>...</td>\n",
       "      <td>...</td>\n",
       "      <td>...</td>\n",
       "      <td>...</td>\n",
       "      <td>...</td>\n",
       "      <td>...</td>\n",
       "      <td>...</td>\n",
       "      <td>...</td>\n",
       "      <td>...</td>\n",
       "      <td>...</td>\n",
       "      <td>...</td>\n",
       "      <td>...</td>\n",
       "      <td>...</td>\n",
       "      <td>...</td>\n",
       "      <td>...</td>\n",
       "      <td>...</td>\n",
       "      <td>...</td>\n",
       "      <td>...</td>\n",
       "      <td>...</td>\n",
       "      <td>...</td>\n",
       "      <td>...</td>\n",
       "    </tr>\n",
       "    <tr>\n",
       "      <th>User_362</th>\n",
       "      <td>3.0</td>\n",
       "      <td>NaN</td>\n",
       "      <td>NaN</td>\n",
       "      <td>3.0</td>\n",
       "      <td>NaN</td>\n",
       "      <td>NaN</td>\n",
       "      <td>4.0</td>\n",
       "      <td>NaN</td>\n",
       "      <td>3.0</td>\n",
       "      <td>NaN</td>\n",
       "      <td>...</td>\n",
       "      <td>NaN</td>\n",
       "      <td>3.0</td>\n",
       "      <td>4.0</td>\n",
       "      <td>NaN</td>\n",
       "      <td>NaN</td>\n",
       "      <td>NaN</td>\n",
       "      <td>NaN</td>\n",
       "      <td>NaN</td>\n",
       "      <td>3.0</td>\n",
       "      <td>2.0</td>\n",
       "    </tr>\n",
       "    <tr>\n",
       "      <th>User_363</th>\n",
       "      <td>2.0</td>\n",
       "      <td>4.0</td>\n",
       "      <td>NaN</td>\n",
       "      <td>5.0</td>\n",
       "      <td>NaN</td>\n",
       "      <td>NaN</td>\n",
       "      <td>NaN</td>\n",
       "      <td>NaN</td>\n",
       "      <td>NaN</td>\n",
       "      <td>NaN</td>\n",
       "      <td>...</td>\n",
       "      <td>NaN</td>\n",
       "      <td>3.0</td>\n",
       "      <td>NaN</td>\n",
       "      <td>NaN</td>\n",
       "      <td>NaN</td>\n",
       "      <td>NaN</td>\n",
       "      <td>NaN</td>\n",
       "      <td>NaN</td>\n",
       "      <td>NaN</td>\n",
       "      <td>NaN</td>\n",
       "    </tr>\n",
       "    <tr>\n",
       "      <th>User_364</th>\n",
       "      <td>4.0</td>\n",
       "      <td>NaN</td>\n",
       "      <td>4.0</td>\n",
       "      <td>NaN</td>\n",
       "      <td>NaN</td>\n",
       "      <td>5.0</td>\n",
       "      <td>4.0</td>\n",
       "      <td>NaN</td>\n",
       "      <td>4.0</td>\n",
       "      <td>NaN</td>\n",
       "      <td>...</td>\n",
       "      <td>NaN</td>\n",
       "      <td>NaN</td>\n",
       "      <td>NaN</td>\n",
       "      <td>NaN</td>\n",
       "      <td>NaN</td>\n",
       "      <td>NaN</td>\n",
       "      <td>NaN</td>\n",
       "      <td>NaN</td>\n",
       "      <td>NaN</td>\n",
       "      <td>NaN</td>\n",
       "    </tr>\n",
       "    <tr>\n",
       "      <th>User_365</th>\n",
       "      <td>NaN</td>\n",
       "      <td>NaN</td>\n",
       "      <td>NaN</td>\n",
       "      <td>2.0</td>\n",
       "      <td>NaN</td>\n",
       "      <td>NaN</td>\n",
       "      <td>4.0</td>\n",
       "      <td>5.0</td>\n",
       "      <td>3.0</td>\n",
       "      <td>NaN</td>\n",
       "      <td>...</td>\n",
       "      <td>NaN</td>\n",
       "      <td>NaN</td>\n",
       "      <td>NaN</td>\n",
       "      <td>NaN</td>\n",
       "      <td>NaN</td>\n",
       "      <td>NaN</td>\n",
       "      <td>NaN</td>\n",
       "      <td>NaN</td>\n",
       "      <td>NaN</td>\n",
       "      <td>NaN</td>\n",
       "    </tr>\n",
       "    <tr>\n",
       "      <th>User_366</th>\n",
       "      <td>NaN</td>\n",
       "      <td>5.0</td>\n",
       "      <td>NaN</td>\n",
       "      <td>NaN</td>\n",
       "      <td>NaN</td>\n",
       "      <td>NaN</td>\n",
       "      <td>NaN</td>\n",
       "      <td>NaN</td>\n",
       "      <td>3.0</td>\n",
       "      <td>NaN</td>\n",
       "      <td>...</td>\n",
       "      <td>NaN</td>\n",
       "      <td>2.0</td>\n",
       "      <td>3.0</td>\n",
       "      <td>NaN</td>\n",
       "      <td>NaN</td>\n",
       "      <td>4.0</td>\n",
       "      <td>NaN</td>\n",
       "      <td>NaN</td>\n",
       "      <td>5.0</td>\n",
       "      <td>2.0</td>\n",
       "    </tr>\n",
       "  </tbody>\n",
       "</table>\n",
       "<p>367 rows × 80 columns</p>\n",
       "</div>"
      ],
      "text/plain": [
       "          Filme_1  Filme_2  Filme_3  Filme_4  Filme_5  Filme_6  Filme_7  \\\n",
       "User_0        5.0      3.0      4.0      3.0      3.0      5.0      4.0   \n",
       "User_1        4.0      3.0      NaN      NaN      NaN      NaN      NaN   \n",
       "User_2        4.0      NaN      NaN      NaN      NaN      NaN      2.0   \n",
       "User_3        NaN      NaN      NaN      5.0      NaN      NaN      5.0   \n",
       "User_4        4.0      NaN      NaN      4.0      NaN      NaN      4.0   \n",
       "...           ...      ...      ...      ...      ...      ...      ...   \n",
       "User_362      3.0      NaN      NaN      3.0      NaN      NaN      4.0   \n",
       "User_363      2.0      4.0      NaN      5.0      NaN      NaN      NaN   \n",
       "User_364      4.0      NaN      4.0      NaN      NaN      5.0      4.0   \n",
       "User_365      NaN      NaN      NaN      2.0      NaN      NaN      4.0   \n",
       "User_366      NaN      5.0      NaN      NaN      NaN      NaN      NaN   \n",
       "\n",
       "          Filme_8  Filme_9  Filme_10  ...  Filme_71  Filme_72  Filme_73  \\\n",
       "User_0        1.0      5.0       3.0  ...       3.0       4.0       3.0   \n",
       "User_1        NaN      NaN       NaN  ...       NaN       NaN       NaN   \n",
       "User_2        4.0      4.0       NaN  ...       4.0       NaN       NaN   \n",
       "User_3        5.0      5.0       4.0  ...       5.0       5.0       3.0   \n",
       "User_4        NaN      4.0       NaN  ...       NaN       NaN       NaN   \n",
       "...           ...      ...       ...  ...       ...       ...       ...   \n",
       "User_362      NaN      3.0       NaN  ...       NaN       3.0       4.0   \n",
       "User_363      NaN      NaN       NaN  ...       NaN       3.0       NaN   \n",
       "User_364      NaN      4.0       NaN  ...       NaN       NaN       NaN   \n",
       "User_365      5.0      3.0       NaN  ...       NaN       NaN       NaN   \n",
       "User_366      NaN      3.0       NaN  ...       NaN       2.0       3.0   \n",
       "\n",
       "          Filme_74  Filme_75  Filme_76  Filme_77  Filme_78  Filme_79  Filme_80  \n",
       "User_0         1.0       4.0       4.0       4.0       1.0       4.0       4.0  \n",
       "User_1         NaN       NaN       NaN       NaN       NaN       3.0       2.0  \n",
       "User_2         NaN       NaN       NaN       NaN       NaN       3.0       NaN  \n",
       "User_3         NaN       NaN       NaN       5.0       3.0       4.0       4.0  \n",
       "User_4         NaN       NaN       NaN       NaN       NaN       NaN       NaN  \n",
       "...            ...       ...       ...       ...       ...       ...       ...  \n",
       "User_362       NaN       NaN       NaN       NaN       NaN       3.0       2.0  \n",
       "User_363       NaN       NaN       NaN       NaN       NaN       NaN       NaN  \n",
       "User_364       NaN       NaN       NaN       NaN       NaN       NaN       NaN  \n",
       "User_365       NaN       NaN       NaN       NaN       NaN       NaN       NaN  \n",
       "User_366       NaN       NaN       4.0       NaN       NaN       5.0       2.0  \n",
       "\n",
       "[367 rows x 80 columns]"
      ]
     },
     "execution_count": 22,
     "metadata": {},
     "output_type": "execute_result"
    }
   ],
   "source": [
    "R = getData()\n",
    "print(R.shape)\n",
    "R"
   ]
  },
  {
   "cell_type": "markdown",
   "metadata": {},
   "source": [
    "Abaixo, criamos o array \"ratings\", que consiste de nossa matriz de interação usuário/item. No entanto, fizemos um completamento com \"0\" nos dados faltantes. Dessa forma, o rating = 0 significa que o usuário não avaliou o filme em questão."
   ]
  },
  {
   "cell_type": "code",
   "execution_count": 23,
   "metadata": {},
   "outputs": [
    {
     "data": {
      "text/plain": [
       "array([[5., 3., 4., ..., 1., 4., 4.],\n",
       "       [4., 3., 0., ..., 0., 3., 2.],\n",
       "       [4., 0., 0., ..., 0., 3., 0.],\n",
       "       ...,\n",
       "       [4., 0., 4., ..., 0., 0., 0.],\n",
       "       [0., 0., 0., ..., 0., 0., 0.],\n",
       "       [0., 5., 0., ..., 0., 5., 2.]])"
      ]
     },
     "execution_count": 23,
     "metadata": {},
     "output_type": "execute_result"
    }
   ],
   "source": [
    "ratings2 = R.fillna(0).values\n",
    "ratings2"
   ]
  },
  {
   "cell_type": "code",
   "execution_count": 24,
   "metadata": {},
   "outputs": [],
   "source": [
    "def train_test_split(ratings2, qtd):\n",
    "    test2 = np.zeros(ratings2.shape)\n",
    "    train2 = ratings2.copy()\n",
    "    for user in range(ratings2.shape[0]):\n",
    "        test_ratings = np.random.choice(ratings2[user, :].nonzero()[0], \n",
    "                                        size=qtd, \n",
    "                                        replace=False)\n",
    "        train2[user, test_ratings] = 0.\n",
    "        test2[user, test_ratings] = ratings2[user, test_ratings]\n",
    "        \n",
    "    return train2, test2"
   ]
  },
  {
   "cell_type": "code",
   "execution_count": 25,
   "metadata": {},
   "outputs": [],
   "source": [
    "train2, test2 = train_test_split(ratings2, qtd = 2)"
   ]
  },
  {
   "cell_type": "code",
   "execution_count": 26,
   "metadata": {},
   "outputs": [],
   "source": [
    "train2, val2 = train_test_split(train2, qtd = 2)"
   ]
  },
  {
   "cell_type": "code",
   "execution_count": 27,
   "metadata": {},
   "outputs": [
    {
     "data": {
      "text/plain": [
       "array([[5., 3., 4., ..., 1., 4., 4.],\n",
       "       [4., 3., 0., ..., 0., 3., 2.],\n",
       "       [4., 0., 0., ..., 0., 3., 0.],\n",
       "       ...,\n",
       "       [4., 0., 4., ..., 0., 0., 0.],\n",
       "       [0., 0., 0., ..., 0., 0., 0.],\n",
       "       [0., 5., 0., ..., 0., 5., 2.]])"
      ]
     },
     "execution_count": 27,
     "metadata": {},
     "output_type": "execute_result"
    }
   ],
   "source": [
    "ratings2"
   ]
  },
  {
   "cell_type": "code",
   "execution_count": 28,
   "metadata": {},
   "outputs": [
    {
     "data": {
      "text/plain": [
       "array([[5., 3., 4., ..., 1., 4., 4.],\n",
       "       [4., 0., 0., ..., 0., 3., 2.],\n",
       "       [0., 0., 0., ..., 0., 3., 0.],\n",
       "       ...,\n",
       "       [4., 0., 0., ..., 0., 0., 0.],\n",
       "       [0., 0., 0., ..., 0., 0., 0.],\n",
       "       [0., 5., 0., ..., 0., 5., 2.]])"
      ]
     },
     "execution_count": 28,
     "metadata": {},
     "output_type": "execute_result"
    }
   ],
   "source": [
    "train2"
   ]
  },
  {
   "cell_type": "code",
   "execution_count": 29,
   "metadata": {},
   "outputs": [
    {
     "data": {
      "text/plain": [
       "array([[0., 0., 0., ..., 0., 0., 0.],\n",
       "       [0., 0., 0., ..., 0., 0., 0.],\n",
       "       [4., 0., 0., ..., 0., 0., 0.],\n",
       "       ...,\n",
       "       [0., 0., 4., ..., 0., 0., 0.],\n",
       "       [0., 0., 0., ..., 0., 0., 0.],\n",
       "       [0., 0., 0., ..., 0., 0., 0.]])"
      ]
     },
     "execution_count": 29,
     "metadata": {},
     "output_type": "execute_result"
    }
   ],
   "source": [
    "val2"
   ]
  },
  {
   "cell_type": "code",
   "execution_count": 30,
   "metadata": {},
   "outputs": [
    {
     "data": {
      "text/plain": [
       "array([[0., 0., 0., ..., 0., 0., 0.],\n",
       "       [0., 3., 0., ..., 0., 0., 0.],\n",
       "       [0., 0., 0., ..., 0., 0., 0.],\n",
       "       ...,\n",
       "       [0., 0., 0., ..., 0., 0., 0.],\n",
       "       [0., 0., 0., ..., 0., 0., 0.],\n",
       "       [0., 0., 0., ..., 0., 0., 0.]])"
      ]
     },
     "execution_count": 30,
     "metadata": {},
     "output_type": "execute_result"
    }
   ],
   "source": [
    "test2"
   ]
  },
  {
   "cell_type": "code",
   "execution_count": 31,
   "metadata": {},
   "outputs": [
    {
     "data": {
      "text/plain": [
       "array([[ True,  True,  True, ...,  True,  True,  True],\n",
       "       [ True,  True,  True, ...,  True,  True,  True],\n",
       "       [ True,  True,  True, ...,  True,  True,  True],\n",
       "       ...,\n",
       "       [ True,  True,  True, ...,  True,  True,  True],\n",
       "       [ True,  True,  True, ...,  True,  True,  True],\n",
       "       [ True,  True,  True, ...,  True,  True,  True]])"
      ]
     },
     "execution_count": 31,
     "metadata": {},
     "output_type": "execute_result"
    }
   ],
   "source": [
    "(train2 + val2 + test2) == ratings2"
   ]
  },
  {
   "cell_type": "code",
   "execution_count": 32,
   "metadata": {},
   "outputs": [],
   "source": [
    "fat = MatrixFactorization(dataframe = R, K = 3, steps = 2000, alpha = 0.002, beta = 0.02)"
   ]
  },
  {
   "cell_type": "code",
   "execution_count": 33,
   "metadata": {},
   "outputs": [
    {
     "name": "stdout",
     "output_type": "stream",
     "text": [
      "Fatoração concluída. Tempo aproximado: 8 minuto(s).\n"
     ]
    }
   ],
   "source": [
    "fat.fit()"
   ]
  },
  {
   "cell_type": "code",
   "execution_count": 34,
   "metadata": {},
   "outputs": [
    {
     "data": {
      "text/plain": [
       "array([[3.87452981, 3.1344084 , 3.35781175, ..., 1.6838214 , 3.99583679,\n",
       "        2.72842647],\n",
       "       [3.15332063, 2.44841224, 5.45723973, ..., 1.08611483, 2.97888925,\n",
       "        2.43927606],\n",
       "       [3.24978248, 2.61190047, 2.85919012, ..., 1.3481408 , 3.35400477,\n",
       "        2.28810436],\n",
       "       ...,\n",
       "       [4.04339598, 3.28718359, 3.10926762, ..., 1.80343025, 4.20901352,\n",
       "        2.8159597 ],\n",
       "       [3.44738087, 2.89507127, 2.05760684, ..., 1.86970856, 3.61744923,\n",
       "        2.37050278],\n",
       "       [4.17471383, 3.4695349 , 3.24482182, ..., 2.15478747, 4.30864917,\n",
       "        2.92912542]])"
      ]
     },
     "execution_count": 34,
     "metadata": {},
     "output_type": "execute_result"
    }
   ],
   "source": [
    "fat.predict()"
   ]
  },
  {
   "cell_type": "code",
   "execution_count": 35,
   "metadata": {},
   "outputs": [
    {
     "data": {
      "image/png": "[encoded data removed]",
      "text/plain": [
       "<Figure size 1080x432 with 1 Axes>"
      ]
     },
     "metadata": {
      "needs_background": "light"
     },
     "output_type": "display_data"
    }
   ],
   "source": [
    "fat.print_MSE_steps()"
   ]
  },
  {
   "cell_type": "code",
   "execution_count": 36,
   "metadata": {},
   "outputs": [
    {
     "name": "stdout",
     "output_type": "stream",
     "text": [
      "Fatoração concluída. Tempo aproximado: 1 minuto(s).\n"
     ]
    },
    {
     "name": "stderr",
     "output_type": "stream",
     "text": [
      "C:\\Users\\atmal\\AppData\\Local\\Temp\\ipykernel_4656\\3068559413.py:11: FutureWarning: The frame.append method is deprecated and will be removed from pandas in a future version. Use pandas.concat instead.\n",
      "  grid = grid.append({'Ks':k, 'alphas':a, 'beta':b, 'MSE':fat.mse()}, ignore_index=True)\n"
     ]
    },
    {
     "name": "stdout",
     "output_type": "stream",
     "text": [
      "Fatoração concluída. Tempo aproximado: 1 minuto(s).\n"
     ]
    },
    {
     "name": "stderr",
     "output_type": "stream",
     "text": [
      "C:\\Users\\atmal\\AppData\\Local\\Temp\\ipykernel_4656\\3068559413.py:11: FutureWarning: The frame.append method is deprecated and will be removed from pandas in a future version. Use pandas.concat instead.\n",
      "  grid = grid.append({'Ks':k, 'alphas':a, 'beta':b, 'MSE':fat.mse()}, ignore_index=True)\n"
     ]
    },
    {
     "name": "stdout",
     "output_type": "stream",
     "text": [
      "Fatoração concluída. Tempo aproximado: 1 minuto(s).\n"
     ]
    },
    {
     "name": "stderr",
     "output_type": "stream",
     "text": [
      "C:\\Users\\atmal\\AppData\\Local\\Temp\\ipykernel_4656\\3068559413.py:11: FutureWarning: The frame.append method is deprecated and will be removed from pandas in a future version. Use pandas.concat instead.\n",
      "  grid = grid.append({'Ks':k, 'alphas':a, 'beta':b, 'MSE':fat.mse()}, ignore_index=True)\n"
     ]
    },
    {
     "name": "stdout",
     "output_type": "stream",
     "text": [
      "Fatoração concluída. Tempo aproximado: 1 minuto(s).\n"
     ]
    },
    {
     "name": "stderr",
     "output_type": "stream",
     "text": [
      "C:\\Users\\atmal\\AppData\\Local\\Temp\\ipykernel_4656\\3068559413.py:11: FutureWarning: The frame.append method is deprecated and will be removed from pandas in a future version. Use pandas.concat instead.\n",
      "  grid = grid.append({'Ks':k, 'alphas':a, 'beta':b, 'MSE':fat.mse()}, ignore_index=True)\n"
     ]
    },
    {
     "name": "stdout",
     "output_type": "stream",
     "text": [
      "Fatoração concluída. Tempo aproximado: 1 minuto(s).\n"
     ]
    },
    {
     "name": "stderr",
     "output_type": "stream",
     "text": [
      "C:\\Users\\atmal\\AppData\\Local\\Temp\\ipykernel_4656\\3068559413.py:11: FutureWarning: The frame.append method is deprecated and will be removed from pandas in a future version. Use pandas.concat instead.\n",
      "  grid = grid.append({'Ks':k, 'alphas':a, 'beta':b, 'MSE':fat.mse()}, ignore_index=True)\n"
     ]
    },
    {
     "name": "stdout",
     "output_type": "stream",
     "text": [
      "Fatoração concluída. Tempo aproximado: 1 minuto(s).\n"
     ]
    },
    {
     "name": "stderr",
     "output_type": "stream",
     "text": [
      "C:\\Users\\atmal\\AppData\\Local\\Temp\\ipykernel_4656\\3068559413.py:11: FutureWarning: The frame.append method is deprecated and will be removed from pandas in a future version. Use pandas.concat instead.\n",
      "  grid = grid.append({'Ks':k, 'alphas':a, 'beta':b, 'MSE':fat.mse()}, ignore_index=True)\n"
     ]
    },
    {
     "name": "stdout",
     "output_type": "stream",
     "text": [
      "Fatoração concluída. Tempo aproximado: 1 minuto(s).\n"
     ]
    },
    {
     "name": "stderr",
     "output_type": "stream",
     "text": [
      "C:\\Users\\atmal\\AppData\\Local\\Temp\\ipykernel_4656\\3068559413.py:11: FutureWarning: The frame.append method is deprecated and will be removed from pandas in a future version. Use pandas.concat instead.\n",
      "  grid = grid.append({'Ks':k, 'alphas':a, 'beta':b, 'MSE':fat.mse()}, ignore_index=True)\n"
     ]
    },
    {
     "name": "stdout",
     "output_type": "stream",
     "text": [
      "Fatoração concluída. Tempo aproximado: 1 minuto(s).\n"
     ]
    },
    {
     "name": "stderr",
     "output_type": "stream",
     "text": [
      "C:\\Users\\atmal\\AppData\\Local\\Temp\\ipykernel_4656\\3068559413.py:11: FutureWarning: The frame.append method is deprecated and will be removed from pandas in a future version. Use pandas.concat instead.\n",
      "  grid = grid.append({'Ks':k, 'alphas':a, 'beta':b, 'MSE':fat.mse()}, ignore_index=True)\n"
     ]
    },
    {
     "name": "stdout",
     "output_type": "stream",
     "text": [
      "Fatoração concluída. Tempo aproximado: 1 minuto(s).\n"
     ]
    },
    {
     "name": "stderr",
     "output_type": "stream",
     "text": [
      "C:\\Users\\atmal\\AppData\\Local\\Temp\\ipykernel_4656\\3068559413.py:11: FutureWarning: The frame.append method is deprecated and will be removed from pandas in a future version. Use pandas.concat instead.\n",
      "  grid = grid.append({'Ks':k, 'alphas':a, 'beta':b, 'MSE':fat.mse()}, ignore_index=True)\n"
     ]
    },
    {
     "name": "stdout",
     "output_type": "stream",
     "text": [
      "Fatoração concluída. Tempo aproximado: 1 minuto(s).\n"
     ]
    },
    {
     "name": "stderr",
     "output_type": "stream",
     "text": [
      "C:\\Users\\atmal\\AppData\\Local\\Temp\\ipykernel_4656\\3068559413.py:11: FutureWarning: The frame.append method is deprecated and will be removed from pandas in a future version. Use pandas.concat instead.\n",
      "  grid = grid.append({'Ks':k, 'alphas':a, 'beta':b, 'MSE':fat.mse()}, ignore_index=True)\n"
     ]
    },
    {
     "name": "stdout",
     "output_type": "stream",
     "text": [
      "Fatoração concluída. Tempo aproximado: 1 minuto(s).\n"
     ]
    },
    {
     "name": "stderr",
     "output_type": "stream",
     "text": [
      "C:\\Users\\atmal\\AppData\\Local\\Temp\\ipykernel_4656\\3068559413.py:11: FutureWarning: The frame.append method is deprecated and will be removed from pandas in a future version. Use pandas.concat instead.\n",
      "  grid = grid.append({'Ks':k, 'alphas':a, 'beta':b, 'MSE':fat.mse()}, ignore_index=True)\n"
     ]
    },
    {
     "name": "stdout",
     "output_type": "stream",
     "text": [
      "Fatoração concluída. Tempo aproximado: 1 minuto(s).\n"
     ]
    },
    {
     "name": "stderr",
     "output_type": "stream",
     "text": [
      "C:\\Users\\atmal\\AppData\\Local\\Temp\\ipykernel_4656\\3068559413.py:11: FutureWarning: The frame.append method is deprecated and will be removed from pandas in a future version. Use pandas.concat instead.\n",
      "  grid = grid.append({'Ks':k, 'alphas':a, 'beta':b, 'MSE':fat.mse()}, ignore_index=True)\n"
     ]
    },
    {
     "name": "stdout",
     "output_type": "stream",
     "text": [
      "Fatoração concluída. Tempo aproximado: 1 minuto(s).\n"
     ]
    },
    {
     "name": "stderr",
     "output_type": "stream",
     "text": [
      "C:\\Users\\atmal\\AppData\\Local\\Temp\\ipykernel_4656\\3068559413.py:11: FutureWarning: The frame.append method is deprecated and will be removed from pandas in a future version. Use pandas.concat instead.\n",
      "  grid = grid.append({'Ks':k, 'alphas':a, 'beta':b, 'MSE':fat.mse()}, ignore_index=True)\n"
     ]
    },
    {
     "name": "stdout",
     "output_type": "stream",
     "text": [
      "Fatoração concluída. Tempo aproximado: 1 minuto(s).\n"
     ]
    },
    {
     "name": "stderr",
     "output_type": "stream",
     "text": [
      "C:\\Users\\atmal\\AppData\\Local\\Temp\\ipykernel_4656\\3068559413.py:11: FutureWarning: The frame.append method is deprecated and will be removed from pandas in a future version. Use pandas.concat instead.\n",
      "  grid = grid.append({'Ks':k, 'alphas':a, 'beta':b, 'MSE':fat.mse()}, ignore_index=True)\n"
     ]
    },
    {
     "name": "stdout",
     "output_type": "stream",
     "text": [
      "Fatoração concluída. Tempo aproximado: 1 minuto(s).\n"
     ]
    },
    {
     "name": "stderr",
     "output_type": "stream",
     "text": [
      "C:\\Users\\atmal\\AppData\\Local\\Temp\\ipykernel_4656\\3068559413.py:11: FutureWarning: The frame.append method is deprecated and will be removed from pandas in a future version. Use pandas.concat instead.\n",
      "  grid = grid.append({'Ks':k, 'alphas':a, 'beta':b, 'MSE':fat.mse()}, ignore_index=True)\n"
     ]
    },
    {
     "name": "stdout",
     "output_type": "stream",
     "text": [
      "Fatoração concluída. Tempo aproximado: 1 minuto(s).\n"
     ]
    },
    {
     "name": "stderr",
     "output_type": "stream",
     "text": [
      "C:\\Users\\atmal\\AppData\\Local\\Temp\\ipykernel_4656\\3068559413.py:11: FutureWarning: The frame.append method is deprecated and will be removed from pandas in a future version. Use pandas.concat instead.\n",
      "  grid = grid.append({'Ks':k, 'alphas':a, 'beta':b, 'MSE':fat.mse()}, ignore_index=True)\n"
     ]
    },
    {
     "name": "stdout",
     "output_type": "stream",
     "text": [
      "Fatoração concluída. Tempo aproximado: 1 minuto(s).\n"
     ]
    },
    {
     "name": "stderr",
     "output_type": "stream",
     "text": [
      "C:\\Users\\atmal\\AppData\\Local\\Temp\\ipykernel_4656\\3068559413.py:11: FutureWarning: The frame.append method is deprecated and will be removed from pandas in a future version. Use pandas.concat instead.\n",
      "  grid = grid.append({'Ks':k, 'alphas':a, 'beta':b, 'MSE':fat.mse()}, ignore_index=True)\n"
     ]
    },
    {
     "name": "stdout",
     "output_type": "stream",
     "text": [
      "Fatoração concluída. Tempo aproximado: 1 minuto(s).\n"
     ]
    },
    {
     "name": "stderr",
     "output_type": "stream",
     "text": [
      "C:\\Users\\atmal\\AppData\\Local\\Temp\\ipykernel_4656\\3068559413.py:11: FutureWarning: The frame.append method is deprecated and will be removed from pandas in a future version. Use pandas.concat instead.\n",
      "  grid = grid.append({'Ks':k, 'alphas':a, 'beta':b, 'MSE':fat.mse()}, ignore_index=True)\n"
     ]
    },
    {
     "name": "stdout",
     "output_type": "stream",
     "text": [
      "Fatoração concluída. Tempo aproximado: 1 minuto(s).\n"
     ]
    },
    {
     "name": "stderr",
     "output_type": "stream",
     "text": [
      "C:\\Users\\atmal\\AppData\\Local\\Temp\\ipykernel_4656\\3068559413.py:11: FutureWarning: The frame.append method is deprecated and will be removed from pandas in a future version. Use pandas.concat instead.\n",
      "  grid = grid.append({'Ks':k, 'alphas':a, 'beta':b, 'MSE':fat.mse()}, ignore_index=True)\n"
     ]
    },
    {
     "name": "stdout",
     "output_type": "stream",
     "text": [
      "Fatoração concluída. Tempo aproximado: 1 minuto(s).\n"
     ]
    },
    {
     "name": "stderr",
     "output_type": "stream",
     "text": [
      "C:\\Users\\atmal\\AppData\\Local\\Temp\\ipykernel_4656\\3068559413.py:11: FutureWarning: The frame.append method is deprecated and will be removed from pandas in a future version. Use pandas.concat instead.\n",
      "  grid = grid.append({'Ks':k, 'alphas':a, 'beta':b, 'MSE':fat.mse()}, ignore_index=True)\n"
     ]
    },
    {
     "name": "stdout",
     "output_type": "stream",
     "text": [
      "Fatoração concluída. Tempo aproximado: 1 minuto(s).\n"
     ]
    },
    {
     "name": "stderr",
     "output_type": "stream",
     "text": [
      "C:\\Users\\atmal\\AppData\\Local\\Temp\\ipykernel_4656\\3068559413.py:11: FutureWarning: The frame.append method is deprecated and will be removed from pandas in a future version. Use pandas.concat instead.\n",
      "  grid = grid.append({'Ks':k, 'alphas':a, 'beta':b, 'MSE':fat.mse()}, ignore_index=True)\n"
     ]
    },
    {
     "name": "stdout",
     "output_type": "stream",
     "text": [
      "Fatoração concluída. Tempo aproximado: 1 minuto(s).\n"
     ]
    },
    {
     "name": "stderr",
     "output_type": "stream",
     "text": [
      "C:\\Users\\atmal\\AppData\\Local\\Temp\\ipykernel_4656\\3068559413.py:11: FutureWarning: The frame.append method is deprecated and will be removed from pandas in a future version. Use pandas.concat instead.\n",
      "  grid = grid.append({'Ks':k, 'alphas':a, 'beta':b, 'MSE':fat.mse()}, ignore_index=True)\n"
     ]
    },
    {
     "name": "stdout",
     "output_type": "stream",
     "text": [
      "Fatoração concluída. Tempo aproximado: 1 minuto(s).\n"
     ]
    },
    {
     "name": "stderr",
     "output_type": "stream",
     "text": [
      "C:\\Users\\atmal\\AppData\\Local\\Temp\\ipykernel_4656\\3068559413.py:11: FutureWarning: The frame.append method is deprecated and will be removed from pandas in a future version. Use pandas.concat instead.\n",
      "  grid = grid.append({'Ks':k, 'alphas':a, 'beta':b, 'MSE':fat.mse()}, ignore_index=True)\n"
     ]
    },
    {
     "name": "stdout",
     "output_type": "stream",
     "text": [
      "Fatoração concluída. Tempo aproximado: 1 minuto(s).\n"
     ]
    },
    {
     "name": "stderr",
     "output_type": "stream",
     "text": [
      "C:\\Users\\atmal\\AppData\\Local\\Temp\\ipykernel_4656\\3068559413.py:11: FutureWarning: The frame.append method is deprecated and will be removed from pandas in a future version. Use pandas.concat instead.\n",
      "  grid = grid.append({'Ks':k, 'alphas':a, 'beta':b, 'MSE':fat.mse()}, ignore_index=True)\n"
     ]
    },
    {
     "name": "stdout",
     "output_type": "stream",
     "text": [
      "Fatoração concluída. Tempo aproximado: 1 minuto(s).\n"
     ]
    },
    {
     "name": "stderr",
     "output_type": "stream",
     "text": [
      "C:\\Users\\atmal\\AppData\\Local\\Temp\\ipykernel_4656\\3068559413.py:11: FutureWarning: The frame.append method is deprecated and will be removed from pandas in a future version. Use pandas.concat instead.\n",
      "  grid = grid.append({'Ks':k, 'alphas':a, 'beta':b, 'MSE':fat.mse()}, ignore_index=True)\n"
     ]
    },
    {
     "name": "stdout",
     "output_type": "stream",
     "text": [
      "Fatoração concluída. Tempo aproximado: 1 minuto(s).\n"
     ]
    },
    {
     "name": "stderr",
     "output_type": "stream",
     "text": [
      "C:\\Users\\atmal\\AppData\\Local\\Temp\\ipykernel_4656\\3068559413.py:11: FutureWarning: The frame.append method is deprecated and will be removed from pandas in a future version. Use pandas.concat instead.\n",
      "  grid = grid.append({'Ks':k, 'alphas':a, 'beta':b, 'MSE':fat.mse()}, ignore_index=True)\n"
     ]
    },
    {
     "name": "stdout",
     "output_type": "stream",
     "text": [
      "Fatoração concluída. Tempo aproximado: 1 minuto(s).\n"
     ]
    },
    {
     "name": "stderr",
     "output_type": "stream",
     "text": [
      "C:\\Users\\atmal\\AppData\\Local\\Temp\\ipykernel_4656\\3068559413.py:11: FutureWarning: The frame.append method is deprecated and will be removed from pandas in a future version. Use pandas.concat instead.\n",
      "  grid = grid.append({'Ks':k, 'alphas':a, 'beta':b, 'MSE':fat.mse()}, ignore_index=True)\n"
     ]
    },
    {
     "name": "stdout",
     "output_type": "stream",
     "text": [
      "Fatoração concluída. Tempo aproximado: 1 minuto(s).\n"
     ]
    },
    {
     "name": "stderr",
     "output_type": "stream",
     "text": [
      "C:\\Users\\atmal\\AppData\\Local\\Temp\\ipykernel_4656\\3068559413.py:11: FutureWarning: The frame.append method is deprecated and will be removed from pandas in a future version. Use pandas.concat instead.\n",
      "  grid = grid.append({'Ks':k, 'alphas':a, 'beta':b, 'MSE':fat.mse()}, ignore_index=True)\n"
     ]
    },
    {
     "name": "stdout",
     "output_type": "stream",
     "text": [
      "Fatoração concluída. Tempo aproximado: 1 minuto(s).\n"
     ]
    },
    {
     "name": "stderr",
     "output_type": "stream",
     "text": [
      "C:\\Users\\atmal\\AppData\\Local\\Temp\\ipykernel_4656\\3068559413.py:11: FutureWarning: The frame.append method is deprecated and will be removed from pandas in a future version. Use pandas.concat instead.\n",
      "  grid = grid.append({'Ks':k, 'alphas':a, 'beta':b, 'MSE':fat.mse()}, ignore_index=True)\n"
     ]
    },
    {
     "name": "stdout",
     "output_type": "stream",
     "text": [
      "Fatoração concluída. Tempo aproximado: 1 minuto(s).\n"
     ]
    },
    {
     "name": "stderr",
     "output_type": "stream",
     "text": [
      "C:\\Users\\atmal\\AppData\\Local\\Temp\\ipykernel_4656\\3068559413.py:11: FutureWarning: The frame.append method is deprecated and will be removed from pandas in a future version. Use pandas.concat instead.\n",
      "  grid = grid.append({'Ks':k, 'alphas':a, 'beta':b, 'MSE':fat.mse()}, ignore_index=True)\n"
     ]
    },
    {
     "name": "stdout",
     "output_type": "stream",
     "text": [
      "Fatoração concluída. Tempo aproximado: 1 minuto(s).\n"
     ]
    },
    {
     "name": "stderr",
     "output_type": "stream",
     "text": [
      "C:\\Users\\atmal\\AppData\\Local\\Temp\\ipykernel_4656\\3068559413.py:11: FutureWarning: The frame.append method is deprecated and will be removed from pandas in a future version. Use pandas.concat instead.\n",
      "  grid = grid.append({'Ks':k, 'alphas':a, 'beta':b, 'MSE':fat.mse()}, ignore_index=True)\n"
     ]
    },
    {
     "name": "stdout",
     "output_type": "stream",
     "text": [
      "Fatoração concluída. Tempo aproximado: 1 minuto(s).\n"
     ]
    },
    {
     "name": "stderr",
     "output_type": "stream",
     "text": [
      "C:\\Users\\atmal\\AppData\\Local\\Temp\\ipykernel_4656\\3068559413.py:11: FutureWarning: The frame.append method is deprecated and will be removed from pandas in a future version. Use pandas.concat instead.\n",
      "  grid = grid.append({'Ks':k, 'alphas':a, 'beta':b, 'MSE':fat.mse()}, ignore_index=True)\n"
     ]
    },
    {
     "name": "stdout",
     "output_type": "stream",
     "text": [
      "Fatoração concluída. Tempo aproximado: 1 minuto(s).\n"
     ]
    },
    {
     "name": "stderr",
     "output_type": "stream",
     "text": [
      "C:\\Users\\atmal\\AppData\\Local\\Temp\\ipykernel_4656\\3068559413.py:11: FutureWarning: The frame.append method is deprecated and will be removed from pandas in a future version. Use pandas.concat instead.\n",
      "  grid = grid.append({'Ks':k, 'alphas':a, 'beta':b, 'MSE':fat.mse()}, ignore_index=True)\n"
     ]
    },
    {
     "name": "stdout",
     "output_type": "stream",
     "text": [
      "Fatoração concluída. Tempo aproximado: 1 minuto(s).\n"
     ]
    },
    {
     "name": "stderr",
     "output_type": "stream",
     "text": [
      "C:\\Users\\atmal\\AppData\\Local\\Temp\\ipykernel_4656\\3068559413.py:11: FutureWarning: The frame.append method is deprecated and will be removed from pandas in a future version. Use pandas.concat instead.\n",
      "  grid = grid.append({'Ks':k, 'alphas':a, 'beta':b, 'MSE':fat.mse()}, ignore_index=True)\n"
     ]
    },
    {
     "name": "stdout",
     "output_type": "stream",
     "text": [
      "Fatoração concluída. Tempo aproximado: 1 minuto(s).\n"
     ]
    },
    {
     "name": "stderr",
     "output_type": "stream",
     "text": [
      "C:\\Users\\atmal\\AppData\\Local\\Temp\\ipykernel_4656\\3068559413.py:11: FutureWarning: The frame.append method is deprecated and will be removed from pandas in a future version. Use pandas.concat instead.\n",
      "  grid = grid.append({'Ks':k, 'alphas':a, 'beta':b, 'MSE':fat.mse()}, ignore_index=True)\n"
     ]
    },
    {
     "name": "stdout",
     "output_type": "stream",
     "text": [
      "Fatoração concluída. Tempo aproximado: 1 minuto(s).\n"
     ]
    },
    {
     "name": "stderr",
     "output_type": "stream",
     "text": [
      "C:\\Users\\atmal\\AppData\\Local\\Temp\\ipykernel_4656\\3068559413.py:11: FutureWarning: The frame.append method is deprecated and will be removed from pandas in a future version. Use pandas.concat instead.\n",
      "  grid = grid.append({'Ks':k, 'alphas':a, 'beta':b, 'MSE':fat.mse()}, ignore_index=True)\n"
     ]
    },
    {
     "name": "stdout",
     "output_type": "stream",
     "text": [
      "Fatoração concluída. Tempo aproximado: 1 minuto(s).\n"
     ]
    },
    {
     "name": "stderr",
     "output_type": "stream",
     "text": [
      "C:\\Users\\atmal\\AppData\\Local\\Temp\\ipykernel_4656\\3068559413.py:11: FutureWarning: The frame.append method is deprecated and will be removed from pandas in a future version. Use pandas.concat instead.\n",
      "  grid = grid.append({'Ks':k, 'alphas':a, 'beta':b, 'MSE':fat.mse()}, ignore_index=True)\n"
     ]
    },
    {
     "name": "stdout",
     "output_type": "stream",
     "text": [
      "Fatoração concluída. Tempo aproximado: 1 minuto(s).\n"
     ]
    },
    {
     "name": "stderr",
     "output_type": "stream",
     "text": [
      "C:\\Users\\atmal\\AppData\\Local\\Temp\\ipykernel_4656\\3068559413.py:11: FutureWarning: The frame.append method is deprecated and will be removed from pandas in a future version. Use pandas.concat instead.\n",
      "  grid = grid.append({'Ks':k, 'alphas':a, 'beta':b, 'MSE':fat.mse()}, ignore_index=True)\n"
     ]
    },
    {
     "name": "stdout",
     "output_type": "stream",
     "text": [
      "Fatoração concluída. Tempo aproximado: 1 minuto(s).\n"
     ]
    },
    {
     "name": "stderr",
     "output_type": "stream",
     "text": [
      "C:\\Users\\atmal\\AppData\\Local\\Temp\\ipykernel_4656\\3068559413.py:11: FutureWarning: The frame.append method is deprecated and will be removed from pandas in a future version. Use pandas.concat instead.\n",
      "  grid = grid.append({'Ks':k, 'alphas':a, 'beta':b, 'MSE':fat.mse()}, ignore_index=True)\n"
     ]
    },
    {
     "name": "stdout",
     "output_type": "stream",
     "text": [
      "Fatoração concluída. Tempo aproximado: 1 minuto(s).\n"
     ]
    },
    {
     "name": "stderr",
     "output_type": "stream",
     "text": [
      "C:\\Users\\atmal\\AppData\\Local\\Temp\\ipykernel_4656\\3068559413.py:11: FutureWarning: The frame.append method is deprecated and will be removed from pandas in a future version. Use pandas.concat instead.\n",
      "  grid = grid.append({'Ks':k, 'alphas':a, 'beta':b, 'MSE':fat.mse()}, ignore_index=True)\n"
     ]
    },
    {
     "name": "stdout",
     "output_type": "stream",
     "text": [
      "Fatoração concluída. Tempo aproximado: 1 minuto(s).\n"
     ]
    },
    {
     "name": "stderr",
     "output_type": "stream",
     "text": [
      "C:\\Users\\atmal\\AppData\\Local\\Temp\\ipykernel_4656\\3068559413.py:11: FutureWarning: The frame.append method is deprecated and will be removed from pandas in a future version. Use pandas.concat instead.\n",
      "  grid = grid.append({'Ks':k, 'alphas':a, 'beta':b, 'MSE':fat.mse()}, ignore_index=True)\n"
     ]
    },
    {
     "name": "stdout",
     "output_type": "stream",
     "text": [
      "Fatoração concluída. Tempo aproximado: 1 minuto(s).\n"
     ]
    },
    {
     "name": "stderr",
     "output_type": "stream",
     "text": [
      "C:\\Users\\atmal\\AppData\\Local\\Temp\\ipykernel_4656\\3068559413.py:11: FutureWarning: The frame.append method is deprecated and will be removed from pandas in a future version. Use pandas.concat instead.\n",
      "  grid = grid.append({'Ks':k, 'alphas':a, 'beta':b, 'MSE':fat.mse()}, ignore_index=True)\n"
     ]
    },
    {
     "name": "stdout",
     "output_type": "stream",
     "text": [
      "Fatoração concluída. Tempo aproximado: 1 minuto(s).\n"
     ]
    },
    {
     "name": "stderr",
     "output_type": "stream",
     "text": [
      "C:\\Users\\atmal\\AppData\\Local\\Temp\\ipykernel_4656\\3068559413.py:11: FutureWarning: The frame.append method is deprecated and will be removed from pandas in a future version. Use pandas.concat instead.\n",
      "  grid = grid.append({'Ks':k, 'alphas':a, 'beta':b, 'MSE':fat.mse()}, ignore_index=True)\n"
     ]
    },
    {
     "name": "stdout",
     "output_type": "stream",
     "text": [
      "Fatoração concluída. Tempo aproximado: 1 minuto(s).\n"
     ]
    },
    {
     "name": "stderr",
     "output_type": "stream",
     "text": [
      "C:\\Users\\atmal\\AppData\\Local\\Temp\\ipykernel_4656\\3068559413.py:11: FutureWarning: The frame.append method is deprecated and will be removed from pandas in a future version. Use pandas.concat instead.\n",
      "  grid = grid.append({'Ks':k, 'alphas':a, 'beta':b, 'MSE':fat.mse()}, ignore_index=True)\n"
     ]
    },
    {
     "name": "stdout",
     "output_type": "stream",
     "text": [
      "Fatoração concluída. Tempo aproximado: 1 minuto(s).\n"
     ]
    },
    {
     "name": "stderr",
     "output_type": "stream",
     "text": [
      "C:\\Users\\atmal\\AppData\\Local\\Temp\\ipykernel_4656\\3068559413.py:11: FutureWarning: The frame.append method is deprecated and will be removed from pandas in a future version. Use pandas.concat instead.\n",
      "  grid = grid.append({'Ks':k, 'alphas':a, 'beta':b, 'MSE':fat.mse()}, ignore_index=True)\n"
     ]
    },
    {
     "name": "stdout",
     "output_type": "stream",
     "text": [
      "Fatoração concluída. Tempo aproximado: 1 minuto(s).\n"
     ]
    },
    {
     "name": "stderr",
     "output_type": "stream",
     "text": [
      "C:\\Users\\atmal\\AppData\\Local\\Temp\\ipykernel_4656\\3068559413.py:11: FutureWarning: The frame.append method is deprecated and will be removed from pandas in a future version. Use pandas.concat instead.\n",
      "  grid = grid.append({'Ks':k, 'alphas':a, 'beta':b, 'MSE':fat.mse()}, ignore_index=True)\n"
     ]
    },
    {
     "name": "stdout",
     "output_type": "stream",
     "text": [
      "Fatoração concluída. Tempo aproximado: 1 minuto(s).\n"
     ]
    },
    {
     "name": "stderr",
     "output_type": "stream",
     "text": [
      "C:\\Users\\atmal\\AppData\\Local\\Temp\\ipykernel_4656\\3068559413.py:11: FutureWarning: The frame.append method is deprecated and will be removed from pandas in a future version. Use pandas.concat instead.\n",
      "  grid = grid.append({'Ks':k, 'alphas':a, 'beta':b, 'MSE':fat.mse()}, ignore_index=True)\n"
     ]
    },
    {
     "name": "stdout",
     "output_type": "stream",
     "text": [
      "Fatoração concluída. Tempo aproximado: 1 minuto(s).\n"
     ]
    },
    {
     "name": "stderr",
     "output_type": "stream",
     "text": [
      "C:\\Users\\atmal\\AppData\\Local\\Temp\\ipykernel_4656\\3068559413.py:11: FutureWarning: The frame.append method is deprecated and will be removed from pandas in a future version. Use pandas.concat instead.\n",
      "  grid = grid.append({'Ks':k, 'alphas':a, 'beta':b, 'MSE':fat.mse()}, ignore_index=True)\n"
     ]
    },
    {
     "name": "stdout",
     "output_type": "stream",
     "text": [
      "Fatoração concluída. Tempo aproximado: 1 minuto(s).\n"
     ]
    },
    {
     "name": "stderr",
     "output_type": "stream",
     "text": [
      "C:\\Users\\atmal\\AppData\\Local\\Temp\\ipykernel_4656\\3068559413.py:11: FutureWarning: The frame.append method is deprecated and will be removed from pandas in a future version. Use pandas.concat instead.\n",
      "  grid = grid.append({'Ks':k, 'alphas':a, 'beta':b, 'MSE':fat.mse()}, ignore_index=True)\n"
     ]
    },
    {
     "name": "stdout",
     "output_type": "stream",
     "text": [
      "Fatoração concluída. Tempo aproximado: 1 minuto(s).\n"
     ]
    },
    {
     "name": "stderr",
     "output_type": "stream",
     "text": [
      "C:\\Users\\atmal\\AppData\\Local\\Temp\\ipykernel_4656\\3068559413.py:11: FutureWarning: The frame.append method is deprecated and will be removed from pandas in a future version. Use pandas.concat instead.\n",
      "  grid = grid.append({'Ks':k, 'alphas':a, 'beta':b, 'MSE':fat.mse()}, ignore_index=True)\n"
     ]
    },
    {
     "name": "stdout",
     "output_type": "stream",
     "text": [
      "Fatoração concluída. Tempo aproximado: 1 minuto(s).\n"
     ]
    },
    {
     "name": "stderr",
     "output_type": "stream",
     "text": [
      "C:\\Users\\atmal\\AppData\\Local\\Temp\\ipykernel_4656\\3068559413.py:11: FutureWarning: The frame.append method is deprecated and will be removed from pandas in a future version. Use pandas.concat instead.\n",
      "  grid = grid.append({'Ks':k, 'alphas':a, 'beta':b, 'MSE':fat.mse()}, ignore_index=True)\n"
     ]
    },
    {
     "name": "stdout",
     "output_type": "stream",
     "text": [
      "Fatoração concluída. Tempo aproximado: 1 minuto(s).\n"
     ]
    },
    {
     "name": "stderr",
     "output_type": "stream",
     "text": [
      "C:\\Users\\atmal\\AppData\\Local\\Temp\\ipykernel_4656\\3068559413.py:11: FutureWarning: The frame.append method is deprecated and will be removed from pandas in a future version. Use pandas.concat instead.\n",
      "  grid = grid.append({'Ks':k, 'alphas':a, 'beta':b, 'MSE':fat.mse()}, ignore_index=True)\n"
     ]
    },
    {
     "name": "stdout",
     "output_type": "stream",
     "text": [
      "Fatoração concluída. Tempo aproximado: 1 minuto(s).\n"
     ]
    },
    {
     "name": "stderr",
     "output_type": "stream",
     "text": [
      "C:\\Users\\atmal\\AppData\\Local\\Temp\\ipykernel_4656\\3068559413.py:11: FutureWarning: The frame.append method is deprecated and will be removed from pandas in a future version. Use pandas.concat instead.\n",
      "  grid = grid.append({'Ks':k, 'alphas':a, 'beta':b, 'MSE':fat.mse()}, ignore_index=True)\n"
     ]
    },
    {
     "name": "stdout",
     "output_type": "stream",
     "text": [
      "Fatoração concluída. Tempo aproximado: 1 minuto(s).\n"
     ]
    },
    {
     "name": "stderr",
     "output_type": "stream",
     "text": [
      "C:\\Users\\atmal\\AppData\\Local\\Temp\\ipykernel_4656\\3068559413.py:11: FutureWarning: The frame.append method is deprecated and will be removed from pandas in a future version. Use pandas.concat instead.\n",
      "  grid = grid.append({'Ks':k, 'alphas':a, 'beta':b, 'MSE':fat.mse()}, ignore_index=True)\n"
     ]
    },
    {
     "name": "stdout",
     "output_type": "stream",
     "text": [
      "Fatoração concluída. Tempo aproximado: 1 minuto(s).\n"
     ]
    },
    {
     "name": "stderr",
     "output_type": "stream",
     "text": [
      "C:\\Users\\atmal\\AppData\\Local\\Temp\\ipykernel_4656\\3068559413.py:11: FutureWarning: The frame.append method is deprecated and will be removed from pandas in a future version. Use pandas.concat instead.\n",
      "  grid = grid.append({'Ks':k, 'alphas':a, 'beta':b, 'MSE':fat.mse()}, ignore_index=True)\n"
     ]
    },
    {
     "name": "stdout",
     "output_type": "stream",
     "text": [
      "Fatoração concluída. Tempo aproximado: 1 minuto(s).\n"
     ]
    },
    {
     "name": "stderr",
     "output_type": "stream",
     "text": [
      "C:\\Users\\atmal\\AppData\\Local\\Temp\\ipykernel_4656\\3068559413.py:11: FutureWarning: The frame.append method is deprecated and will be removed from pandas in a future version. Use pandas.concat instead.\n",
      "  grid = grid.append({'Ks':k, 'alphas':a, 'beta':b, 'MSE':fat.mse()}, ignore_index=True)\n"
     ]
    },
    {
     "name": "stdout",
     "output_type": "stream",
     "text": [
      "Fatoração concluída. Tempo aproximado: 1 minuto(s).\n"
     ]
    },
    {
     "name": "stderr",
     "output_type": "stream",
     "text": [
      "C:\\Users\\atmal\\AppData\\Local\\Temp\\ipykernel_4656\\3068559413.py:11: FutureWarning: The frame.append method is deprecated and will be removed from pandas in a future version. Use pandas.concat instead.\n",
      "  grid = grid.append({'Ks':k, 'alphas':a, 'beta':b, 'MSE':fat.mse()}, ignore_index=True)\n"
     ]
    },
    {
     "name": "stdout",
     "output_type": "stream",
     "text": [
      "Fatoração concluída. Tempo aproximado: 1 minuto(s).\n"
     ]
    },
    {
     "name": "stderr",
     "output_type": "stream",
     "text": [
      "C:\\Users\\atmal\\AppData\\Local\\Temp\\ipykernel_4656\\3068559413.py:11: FutureWarning: The frame.append method is deprecated and will be removed from pandas in a future version. Use pandas.concat instead.\n",
      "  grid = grid.append({'Ks':k, 'alphas':a, 'beta':b, 'MSE':fat.mse()}, ignore_index=True)\n"
     ]
    },
    {
     "name": "stdout",
     "output_type": "stream",
     "text": [
      "Fatoração concluída. Tempo aproximado: 1 minuto(s).\n"
     ]
    },
    {
     "name": "stderr",
     "output_type": "stream",
     "text": [
      "C:\\Users\\atmal\\AppData\\Local\\Temp\\ipykernel_4656\\3068559413.py:11: FutureWarning: The frame.append method is deprecated and will be removed from pandas in a future version. Use pandas.concat instead.\n",
      "  grid = grid.append({'Ks':k, 'alphas':a, 'beta':b, 'MSE':fat.mse()}, ignore_index=True)\n"
     ]
    },
    {
     "name": "stdout",
     "output_type": "stream",
     "text": [
      "Fatoração concluída. Tempo aproximado: 1 minuto(s).\n"
     ]
    },
    {
     "name": "stderr",
     "output_type": "stream",
     "text": [
      "C:\\Users\\atmal\\AppData\\Local\\Temp\\ipykernel_4656\\3068559413.py:11: FutureWarning: The frame.append method is deprecated and will be removed from pandas in a future version. Use pandas.concat instead.\n",
      "  grid = grid.append({'Ks':k, 'alphas':a, 'beta':b, 'MSE':fat.mse()}, ignore_index=True)\n"
     ]
    },
    {
     "name": "stdout",
     "output_type": "stream",
     "text": [
      "Fatoração concluída. Tempo aproximado: 1 minuto(s).\n"
     ]
    },
    {
     "name": "stderr",
     "output_type": "stream",
     "text": [
      "C:\\Users\\atmal\\AppData\\Local\\Temp\\ipykernel_4656\\3068559413.py:11: FutureWarning: The frame.append method is deprecated and will be removed from pandas in a future version. Use pandas.concat instead.\n",
      "  grid = grid.append({'Ks':k, 'alphas':a, 'beta':b, 'MSE':fat.mse()}, ignore_index=True)\n"
     ]
    },
    {
     "name": "stdout",
     "output_type": "stream",
     "text": [
      "Fatoração concluída. Tempo aproximado: 1 minuto(s).\n"
     ]
    },
    {
     "name": "stderr",
     "output_type": "stream",
     "text": [
      "C:\\Users\\atmal\\AppData\\Local\\Temp\\ipykernel_4656\\3068559413.py:11: FutureWarning: The frame.append method is deprecated and will be removed from pandas in a future version. Use pandas.concat instead.\n",
      "  grid = grid.append({'Ks':k, 'alphas':a, 'beta':b, 'MSE':fat.mse()}, ignore_index=True)\n"
     ]
    },
    {
     "name": "stdout",
     "output_type": "stream",
     "text": [
      "Fatoração concluída. Tempo aproximado: 1 minuto(s).\n"
     ]
    },
    {
     "name": "stderr",
     "output_type": "stream",
     "text": [
      "C:\\Users\\atmal\\AppData\\Local\\Temp\\ipykernel_4656\\3068559413.py:11: FutureWarning: The frame.append method is deprecated and will be removed from pandas in a future version. Use pandas.concat instead.\n",
      "  grid = grid.append({'Ks':k, 'alphas':a, 'beta':b, 'MSE':fat.mse()}, ignore_index=True)\n"
     ]
    },
    {
     "name": "stdout",
     "output_type": "stream",
     "text": [
      "Fatoração concluída. Tempo aproximado: 1 minuto(s).\n"
     ]
    },
    {
     "name": "stderr",
     "output_type": "stream",
     "text": [
      "C:\\Users\\atmal\\AppData\\Local\\Temp\\ipykernel_4656\\3068559413.py:11: FutureWarning: The frame.append method is deprecated and will be removed from pandas in a future version. Use pandas.concat instead.\n",
      "  grid = grid.append({'Ks':k, 'alphas':a, 'beta':b, 'MSE':fat.mse()}, ignore_index=True)\n"
     ]
    },
    {
     "name": "stdout",
     "output_type": "stream",
     "text": [
      "Fatoração concluída. Tempo aproximado: 1 minuto(s).\n"
     ]
    },
    {
     "name": "stderr",
     "output_type": "stream",
     "text": [
      "C:\\Users\\atmal\\AppData\\Local\\Temp\\ipykernel_4656\\3068559413.py:11: FutureWarning: The frame.append method is deprecated and will be removed from pandas in a future version. Use pandas.concat instead.\n",
      "  grid = grid.append({'Ks':k, 'alphas':a, 'beta':b, 'MSE':fat.mse()}, ignore_index=True)\n"
     ]
    },
    {
     "name": "stdout",
     "output_type": "stream",
     "text": [
      "Fatoração concluída. Tempo aproximado: 1 minuto(s).\n"
     ]
    },
    {
     "name": "stderr",
     "output_type": "stream",
     "text": [
      "C:\\Users\\atmal\\AppData\\Local\\Temp\\ipykernel_4656\\3068559413.py:11: FutureWarning: The frame.append method is deprecated and will be removed from pandas in a future version. Use pandas.concat instead.\n",
      "  grid = grid.append({'Ks':k, 'alphas':a, 'beta':b, 'MSE':fat.mse()}, ignore_index=True)\n"
     ]
    },
    {
     "name": "stdout",
     "output_type": "stream",
     "text": [
      "Fatoração concluída. Tempo aproximado: 1 minuto(s).\n"
     ]
    },
    {
     "name": "stderr",
     "output_type": "stream",
     "text": [
      "C:\\Users\\atmal\\AppData\\Local\\Temp\\ipykernel_4656\\3068559413.py:11: FutureWarning: The frame.append method is deprecated and will be removed from pandas in a future version. Use pandas.concat instead.\n",
      "  grid = grid.append({'Ks':k, 'alphas':a, 'beta':b, 'MSE':fat.mse()}, ignore_index=True)\n"
     ]
    },
    {
     "name": "stdout",
     "output_type": "stream",
     "text": [
      "Fatoração concluída. Tempo aproximado: 1 minuto(s).\n"
     ]
    },
    {
     "name": "stderr",
     "output_type": "stream",
     "text": [
      "C:\\Users\\atmal\\AppData\\Local\\Temp\\ipykernel_4656\\3068559413.py:11: FutureWarning: The frame.append method is deprecated and will be removed from pandas in a future version. Use pandas.concat instead.\n",
      "  grid = grid.append({'Ks':k, 'alphas':a, 'beta':b, 'MSE':fat.mse()}, ignore_index=True)\n"
     ]
    },
    {
     "name": "stdout",
     "output_type": "stream",
     "text": [
      "Fatoração concluída. Tempo aproximado: 1 minuto(s).\n"
     ]
    },
    {
     "name": "stderr",
     "output_type": "stream",
     "text": [
      "C:\\Users\\atmal\\AppData\\Local\\Temp\\ipykernel_4656\\3068559413.py:11: FutureWarning: The frame.append method is deprecated and will be removed from pandas in a future version. Use pandas.concat instead.\n",
      "  grid = grid.append({'Ks':k, 'alphas':a, 'beta':b, 'MSE':fat.mse()}, ignore_index=True)\n"
     ]
    },
    {
     "name": "stdout",
     "output_type": "stream",
     "text": [
      "Fatoração concluída. Tempo aproximado: 1 minuto(s).\n"
     ]
    },
    {
     "name": "stderr",
     "output_type": "stream",
     "text": [
      "C:\\Users\\atmal\\AppData\\Local\\Temp\\ipykernel_4656\\3068559413.py:11: FutureWarning: The frame.append method is deprecated and will be removed from pandas in a future version. Use pandas.concat instead.\n",
      "  grid = grid.append({'Ks':k, 'alphas':a, 'beta':b, 'MSE':fat.mse()}, ignore_index=True)\n"
     ]
    },
    {
     "name": "stdout",
     "output_type": "stream",
     "text": [
      "Fatoração concluída. Tempo aproximado: 1 minuto(s).\n"
     ]
    },
    {
     "name": "stderr",
     "output_type": "stream",
     "text": [
      "C:\\Users\\atmal\\AppData\\Local\\Temp\\ipykernel_4656\\3068559413.py:11: FutureWarning: The frame.append method is deprecated and will be removed from pandas in a future version. Use pandas.concat instead.\n",
      "  grid = grid.append({'Ks':k, 'alphas':a, 'beta':b, 'MSE':fat.mse()}, ignore_index=True)\n"
     ]
    },
    {
     "name": "stdout",
     "output_type": "stream",
     "text": [
      "Fatoração concluída. Tempo aproximado: 1 minuto(s).\n"
     ]
    },
    {
     "name": "stderr",
     "output_type": "stream",
     "text": [
      "C:\\Users\\atmal\\AppData\\Local\\Temp\\ipykernel_4656\\3068559413.py:11: FutureWarning: The frame.append method is deprecated and will be removed from pandas in a future version. Use pandas.concat instead.\n",
      "  grid = grid.append({'Ks':k, 'alphas':a, 'beta':b, 'MSE':fat.mse()}, ignore_index=True)\n"
     ]
    },
    {
     "name": "stdout",
     "output_type": "stream",
     "text": [
      "Fatoração concluída. Tempo aproximado: 1 minuto(s).\n"
     ]
    },
    {
     "name": "stderr",
     "output_type": "stream",
     "text": [
      "C:\\Users\\atmal\\AppData\\Local\\Temp\\ipykernel_4656\\3068559413.py:11: FutureWarning: The frame.append method is deprecated and will be removed from pandas in a future version. Use pandas.concat instead.\n",
      "  grid = grid.append({'Ks':k, 'alphas':a, 'beta':b, 'MSE':fat.mse()}, ignore_index=True)\n"
     ]
    },
    {
     "name": "stdout",
     "output_type": "stream",
     "text": [
      "Fatoração concluída. Tempo aproximado: 1 minuto(s).\n"
     ]
    },
    {
     "name": "stderr",
     "output_type": "stream",
     "text": [
      "C:\\Users\\atmal\\AppData\\Local\\Temp\\ipykernel_4656\\3068559413.py:11: FutureWarning: The frame.append method is deprecated and will be removed from pandas in a future version. Use pandas.concat instead.\n",
      "  grid = grid.append({'Ks':k, 'alphas':a, 'beta':b, 'MSE':fat.mse()}, ignore_index=True)\n"
     ]
    },
    {
     "name": "stdout",
     "output_type": "stream",
     "text": [
      "Fatoração concluída. Tempo aproximado: 1 minuto(s).\n"
     ]
    },
    {
     "name": "stderr",
     "output_type": "stream",
     "text": [
      "C:\\Users\\atmal\\AppData\\Local\\Temp\\ipykernel_4656\\3068559413.py:11: FutureWarning: The frame.append method is deprecated and will be removed from pandas in a future version. Use pandas.concat instead.\n",
      "  grid = grid.append({'Ks':k, 'alphas':a, 'beta':b, 'MSE':fat.mse()}, ignore_index=True)\n"
     ]
    },
    {
     "name": "stdout",
     "output_type": "stream",
     "text": [
      "Fatoração concluída. Tempo aproximado: 1 minuto(s).\n"
     ]
    },
    {
     "name": "stderr",
     "output_type": "stream",
     "text": [
      "C:\\Users\\atmal\\AppData\\Local\\Temp\\ipykernel_4656\\3068559413.py:11: FutureWarning: The frame.append method is deprecated and will be removed from pandas in a future version. Use pandas.concat instead.\n",
      "  grid = grid.append({'Ks':k, 'alphas':a, 'beta':b, 'MSE':fat.mse()}, ignore_index=True)\n"
     ]
    },
    {
     "name": "stdout",
     "output_type": "stream",
     "text": [
      "Fatoração concluída. Tempo aproximado: 1 minuto(s).\n"
     ]
    },
    {
     "name": "stderr",
     "output_type": "stream",
     "text": [
      "C:\\Users\\atmal\\AppData\\Local\\Temp\\ipykernel_4656\\3068559413.py:11: FutureWarning: The frame.append method is deprecated and will be removed from pandas in a future version. Use pandas.concat instead.\n",
      "  grid = grid.append({'Ks':k, 'alphas':a, 'beta':b, 'MSE':fat.mse()}, ignore_index=True)\n"
     ]
    },
    {
     "name": "stdout",
     "output_type": "stream",
     "text": [
      "Fatoração concluída. Tempo aproximado: 1 minuto(s).\n"
     ]
    },
    {
     "name": "stderr",
     "output_type": "stream",
     "text": [
      "C:\\Users\\atmal\\AppData\\Local\\Temp\\ipykernel_4656\\3068559413.py:11: FutureWarning: The frame.append method is deprecated and will be removed from pandas in a future version. Use pandas.concat instead.\n",
      "  grid = grid.append({'Ks':k, 'alphas':a, 'beta':b, 'MSE':fat.mse()}, ignore_index=True)\n"
     ]
    },
    {
     "name": "stdout",
     "output_type": "stream",
     "text": [
      "Fatoração concluída. Tempo aproximado: 1 minuto(s).\n"
     ]
    },
    {
     "name": "stderr",
     "output_type": "stream",
     "text": [
      "C:\\Users\\atmal\\AppData\\Local\\Temp\\ipykernel_4656\\3068559413.py:11: FutureWarning: The frame.append method is deprecated and will be removed from pandas in a future version. Use pandas.concat instead.\n",
      "  grid = grid.append({'Ks':k, 'alphas':a, 'beta':b, 'MSE':fat.mse()}, ignore_index=True)\n"
     ]
    },
    {
     "name": "stdout",
     "output_type": "stream",
     "text": [
      "Fatoração concluída. Tempo aproximado: 1 minuto(s).\n"
     ]
    },
    {
     "name": "stderr",
     "output_type": "stream",
     "text": [
      "C:\\Users\\atmal\\AppData\\Local\\Temp\\ipykernel_4656\\3068559413.py:11: FutureWarning: The frame.append method is deprecated and will be removed from pandas in a future version. Use pandas.concat instead.\n",
      "  grid = grid.append({'Ks':k, 'alphas':a, 'beta':b, 'MSE':fat.mse()}, ignore_index=True)\n"
     ]
    },
    {
     "name": "stdout",
     "output_type": "stream",
     "text": [
      "Fatoração concluída. Tempo aproximado: 1 minuto(s).\n"
     ]
    },
    {
     "name": "stderr",
     "output_type": "stream",
     "text": [
      "C:\\Users\\atmal\\AppData\\Local\\Temp\\ipykernel_4656\\3068559413.py:11: FutureWarning: The frame.append method is deprecated and will be removed from pandas in a future version. Use pandas.concat instead.\n",
      "  grid = grid.append({'Ks':k, 'alphas':a, 'beta':b, 'MSE':fat.mse()}, ignore_index=True)\n"
     ]
    },
    {
     "name": "stdout",
     "output_type": "stream",
     "text": [
      "Fatoração concluída. Tempo aproximado: 1 minuto(s).\n"
     ]
    },
    {
     "name": "stderr",
     "output_type": "stream",
     "text": [
      "C:\\Users\\atmal\\AppData\\Local\\Temp\\ipykernel_4656\\3068559413.py:11: FutureWarning: The frame.append method is deprecated and will be removed from pandas in a future version. Use pandas.concat instead.\n",
      "  grid = grid.append({'Ks':k, 'alphas':a, 'beta':b, 'MSE':fat.mse()}, ignore_index=True)\n"
     ]
    },
    {
     "name": "stdout",
     "output_type": "stream",
     "text": [
      "Fatoração concluída. Tempo aproximado: 1 minuto(s).\n"
     ]
    },
    {
     "name": "stderr",
     "output_type": "stream",
     "text": [
      "C:\\Users\\atmal\\AppData\\Local\\Temp\\ipykernel_4656\\3068559413.py:11: FutureWarning: The frame.append method is deprecated and will be removed from pandas in a future version. Use pandas.concat instead.\n",
      "  grid = grid.append({'Ks':k, 'alphas':a, 'beta':b, 'MSE':fat.mse()}, ignore_index=True)\n"
     ]
    },
    {
     "name": "stdout",
     "output_type": "stream",
     "text": [
      "Fatoração concluída. Tempo aproximado: 1 minuto(s).\n"
     ]
    },
    {
     "name": "stderr",
     "output_type": "stream",
     "text": [
      "C:\\Users\\atmal\\AppData\\Local\\Temp\\ipykernel_4656\\3068559413.py:11: FutureWarning: The frame.append method is deprecated and will be removed from pandas in a future version. Use pandas.concat instead.\n",
      "  grid = grid.append({'Ks':k, 'alphas':a, 'beta':b, 'MSE':fat.mse()}, ignore_index=True)\n"
     ]
    },
    {
     "name": "stdout",
     "output_type": "stream",
     "text": [
      "Fatoração concluída. Tempo aproximado: 1 minuto(s).\n"
     ]
    },
    {
     "name": "stderr",
     "output_type": "stream",
     "text": [
      "C:\\Users\\atmal\\AppData\\Local\\Temp\\ipykernel_4656\\3068559413.py:11: FutureWarning: The frame.append method is deprecated and will be removed from pandas in a future version. Use pandas.concat instead.\n",
      "  grid = grid.append({'Ks':k, 'alphas':a, 'beta':b, 'MSE':fat.mse()}, ignore_index=True)\n"
     ]
    },
    {
     "name": "stdout",
     "output_type": "stream",
     "text": [
      "Fatoração concluída. Tempo aproximado: 1 minuto(s).\n"
     ]
    },
    {
     "name": "stderr",
     "output_type": "stream",
     "text": [
      "C:\\Users\\atmal\\AppData\\Local\\Temp\\ipykernel_4656\\3068559413.py:11: FutureWarning: The frame.append method is deprecated and will be removed from pandas in a future version. Use pandas.concat instead.\n",
      "  grid = grid.append({'Ks':k, 'alphas':a, 'beta':b, 'MSE':fat.mse()}, ignore_index=True)\n"
     ]
    },
    {
     "name": "stdout",
     "output_type": "stream",
     "text": [
      "Fatoração concluída. Tempo aproximado: 1 minuto(s).\n"
     ]
    },
    {
     "name": "stderr",
     "output_type": "stream",
     "text": [
      "C:\\Users\\atmal\\AppData\\Local\\Temp\\ipykernel_4656\\3068559413.py:11: FutureWarning: The frame.append method is deprecated and will be removed from pandas in a future version. Use pandas.concat instead.\n",
      "  grid = grid.append({'Ks':k, 'alphas':a, 'beta':b, 'MSE':fat.mse()}, ignore_index=True)\n"
     ]
    },
    {
     "name": "stdout",
     "output_type": "stream",
     "text": [
      "Fatoração concluída. Tempo aproximado: 1 minuto(s).\n"
     ]
    },
    {
     "name": "stderr",
     "output_type": "stream",
     "text": [
      "C:\\Users\\atmal\\AppData\\Local\\Temp\\ipykernel_4656\\3068559413.py:11: FutureWarning: The frame.append method is deprecated and will be removed from pandas in a future version. Use pandas.concat instead.\n",
      "  grid = grid.append({'Ks':k, 'alphas':a, 'beta':b, 'MSE':fat.mse()}, ignore_index=True)\n"
     ]
    },
    {
     "name": "stdout",
     "output_type": "stream",
     "text": [
      "Fatoração concluída. Tempo aproximado: 1 minuto(s).\n"
     ]
    },
    {
     "name": "stderr",
     "output_type": "stream",
     "text": [
      "C:\\Users\\atmal\\AppData\\Local\\Temp\\ipykernel_4656\\3068559413.py:11: FutureWarning: The frame.append method is deprecated and will be removed from pandas in a future version. Use pandas.concat instead.\n",
      "  grid = grid.append({'Ks':k, 'alphas':a, 'beta':b, 'MSE':fat.mse()}, ignore_index=True)\n"
     ]
    },
    {
     "name": "stdout",
     "output_type": "stream",
     "text": [
      "Fatoração concluída. Tempo aproximado: 1 minuto(s).\n"
     ]
    },
    {
     "name": "stderr",
     "output_type": "stream",
     "text": [
      "C:\\Users\\atmal\\AppData\\Local\\Temp\\ipykernel_4656\\3068559413.py:11: FutureWarning: The frame.append method is deprecated and will be removed from pandas in a future version. Use pandas.concat instead.\n",
      "  grid = grid.append({'Ks':k, 'alphas':a, 'beta':b, 'MSE':fat.mse()}, ignore_index=True)\n"
     ]
    },
    {
     "name": "stdout",
     "output_type": "stream",
     "text": [
      "Fatoração concluída. Tempo aproximado: 1 minuto(s).\n"
     ]
    },
    {
     "name": "stderr",
     "output_type": "stream",
     "text": [
      "C:\\Users\\atmal\\AppData\\Local\\Temp\\ipykernel_4656\\3068559413.py:11: FutureWarning: The frame.append method is deprecated and will be removed from pandas in a future version. Use pandas.concat instead.\n",
      "  grid = grid.append({'Ks':k, 'alphas':a, 'beta':b, 'MSE':fat.mse()}, ignore_index=True)\n"
     ]
    },
    {
     "name": "stdout",
     "output_type": "stream",
     "text": [
      "Fatoração concluída. Tempo aproximado: 1 minuto(s).\n"
     ]
    },
    {
     "name": "stderr",
     "output_type": "stream",
     "text": [
      "C:\\Users\\atmal\\AppData\\Local\\Temp\\ipykernel_4656\\3068559413.py:11: FutureWarning: The frame.append method is deprecated and will be removed from pandas in a future version. Use pandas.concat instead.\n",
      "  grid = grid.append({'Ks':k, 'alphas':a, 'beta':b, 'MSE':fat.mse()}, ignore_index=True)\n"
     ]
    },
    {
     "name": "stdout",
     "output_type": "stream",
     "text": [
      "Fatoração concluída. Tempo aproximado: 1 minuto(s).\n"
     ]
    },
    {
     "name": "stderr",
     "output_type": "stream",
     "text": [
      "C:\\Users\\atmal\\AppData\\Local\\Temp\\ipykernel_4656\\3068559413.py:11: FutureWarning: The frame.append method is deprecated and will be removed from pandas in a future version. Use pandas.concat instead.\n",
      "  grid = grid.append({'Ks':k, 'alphas':a, 'beta':b, 'MSE':fat.mse()}, ignore_index=True)\n"
     ]
    },
    {
     "name": "stdout",
     "output_type": "stream",
     "text": [
      "Fatoração concluída. Tempo aproximado: 1 minuto(s).\n"
     ]
    },
    {
     "name": "stderr",
     "output_type": "stream",
     "text": [
      "C:\\Users\\atmal\\AppData\\Local\\Temp\\ipykernel_4656\\3068559413.py:11: FutureWarning: The frame.append method is deprecated and will be removed from pandas in a future version. Use pandas.concat instead.\n",
      "  grid = grid.append({'Ks':k, 'alphas':a, 'beta':b, 'MSE':fat.mse()}, ignore_index=True)\n"
     ]
    },
    {
     "name": "stdout",
     "output_type": "stream",
     "text": [
      "Fatoração concluída. Tempo aproximado: 1 minuto(s).\n"
     ]
    },
    {
     "name": "stderr",
     "output_type": "stream",
     "text": [
      "C:\\Users\\atmal\\AppData\\Local\\Temp\\ipykernel_4656\\3068559413.py:11: FutureWarning: The frame.append method is deprecated and will be removed from pandas in a future version. Use pandas.concat instead.\n",
      "  grid = grid.append({'Ks':k, 'alphas':a, 'beta':b, 'MSE':fat.mse()}, ignore_index=True)\n"
     ]
    },
    {
     "name": "stdout",
     "output_type": "stream",
     "text": [
      "Fatoração concluída. Tempo aproximado: 1 minuto(s).\n"
     ]
    },
    {
     "name": "stderr",
     "output_type": "stream",
     "text": [
      "C:\\Users\\atmal\\AppData\\Local\\Temp\\ipykernel_4656\\3068559413.py:11: FutureWarning: The frame.append method is deprecated and will be removed from pandas in a future version. Use pandas.concat instead.\n",
      "  grid = grid.append({'Ks':k, 'alphas':a, 'beta':b, 'MSE':fat.mse()}, ignore_index=True)\n"
     ]
    },
    {
     "name": "stdout",
     "output_type": "stream",
     "text": [
      "Fatoração concluída. Tempo aproximado: 1 minuto(s).\n"
     ]
    },
    {
     "name": "stderr",
     "output_type": "stream",
     "text": [
      "C:\\Users\\atmal\\AppData\\Local\\Temp\\ipykernel_4656\\3068559413.py:11: FutureWarning: The frame.append method is deprecated and will be removed from pandas in a future version. Use pandas.concat instead.\n",
      "  grid = grid.append({'Ks':k, 'alphas':a, 'beta':b, 'MSE':fat.mse()}, ignore_index=True)\n"
     ]
    },
    {
     "name": "stdout",
     "output_type": "stream",
     "text": [
      "Fatoração concluída. Tempo aproximado: 1 minuto(s).\n"
     ]
    },
    {
     "name": "stderr",
     "output_type": "stream",
     "text": [
      "C:\\Users\\atmal\\AppData\\Local\\Temp\\ipykernel_4656\\3068559413.py:11: FutureWarning: The frame.append method is deprecated and will be removed from pandas in a future version. Use pandas.concat instead.\n",
      "  grid = grid.append({'Ks':k, 'alphas':a, 'beta':b, 'MSE':fat.mse()}, ignore_index=True)\n"
     ]
    },
    {
     "name": "stdout",
     "output_type": "stream",
     "text": [
      "Fatoração concluída. Tempo aproximado: 1 minuto(s).\n"
     ]
    },
    {
     "name": "stderr",
     "output_type": "stream",
     "text": [
      "C:\\Users\\atmal\\AppData\\Local\\Temp\\ipykernel_4656\\3068559413.py:11: FutureWarning: The frame.append method is deprecated and will be removed from pandas in a future version. Use pandas.concat instead.\n",
      "  grid = grid.append({'Ks':k, 'alphas':a, 'beta':b, 'MSE':fat.mse()}, ignore_index=True)\n"
     ]
    },
    {
     "name": "stdout",
     "output_type": "stream",
     "text": [
      "Fatoração concluída. Tempo aproximado: 1 minuto(s).\n"
     ]
    },
    {
     "name": "stderr",
     "output_type": "stream",
     "text": [
      "C:\\Users\\atmal\\AppData\\Local\\Temp\\ipykernel_4656\\3068559413.py:11: FutureWarning: The frame.append method is deprecated and will be removed from pandas in a future version. Use pandas.concat instead.\n",
      "  grid = grid.append({'Ks':k, 'alphas':a, 'beta':b, 'MSE':fat.mse()}, ignore_index=True)\n"
     ]
    },
    {
     "name": "stdout",
     "output_type": "stream",
     "text": [
      "Fatoração concluída. Tempo aproximado: 1 minuto(s).\n"
     ]
    },
    {
     "name": "stderr",
     "output_type": "stream",
     "text": [
      "C:\\Users\\atmal\\AppData\\Local\\Temp\\ipykernel_4656\\3068559413.py:11: FutureWarning: The frame.append method is deprecated and will be removed from pandas in a future version. Use pandas.concat instead.\n",
      "  grid = grid.append({'Ks':k, 'alphas':a, 'beta':b, 'MSE':fat.mse()}, ignore_index=True)\n"
     ]
    },
    {
     "name": "stdout",
     "output_type": "stream",
     "text": [
      "Fatoração concluída. Tempo aproximado: 1 minuto(s).\n"
     ]
    },
    {
     "name": "stderr",
     "output_type": "stream",
     "text": [
      "C:\\Users\\atmal\\AppData\\Local\\Temp\\ipykernel_4656\\3068559413.py:11: FutureWarning: The frame.append method is deprecated and will be removed from pandas in a future version. Use pandas.concat instead.\n",
      "  grid = grid.append({'Ks':k, 'alphas':a, 'beta':b, 'MSE':fat.mse()}, ignore_index=True)\n"
     ]
    },
    {
     "name": "stdout",
     "output_type": "stream",
     "text": [
      "Fatoração concluída. Tempo aproximado: 1 minuto(s).\n"
     ]
    },
    {
     "name": "stderr",
     "output_type": "stream",
     "text": [
      "C:\\Users\\atmal\\AppData\\Local\\Temp\\ipykernel_4656\\3068559413.py:11: FutureWarning: The frame.append method is deprecated and will be removed from pandas in a future version. Use pandas.concat instead.\n",
      "  grid = grid.append({'Ks':k, 'alphas':a, 'beta':b, 'MSE':fat.mse()}, ignore_index=True)\n"
     ]
    },
    {
     "name": "stdout",
     "output_type": "stream",
     "text": [
      "Fatoração concluída. Tempo aproximado: 1 minuto(s).\n"
     ]
    },
    {
     "name": "stderr",
     "output_type": "stream",
     "text": [
      "C:\\Users\\atmal\\AppData\\Local\\Temp\\ipykernel_4656\\3068559413.py:11: FutureWarning: The frame.append method is deprecated and will be removed from pandas in a future version. Use pandas.concat instead.\n",
      "  grid = grid.append({'Ks':k, 'alphas':a, 'beta':b, 'MSE':fat.mse()}, ignore_index=True)\n"
     ]
    },
    {
     "name": "stdout",
     "output_type": "stream",
     "text": [
      "Fatoração concluída. Tempo aproximado: 1 minuto(s).\n"
     ]
    },
    {
     "name": "stderr",
     "output_type": "stream",
     "text": [
      "C:\\Users\\atmal\\AppData\\Local\\Temp\\ipykernel_4656\\3068559413.py:11: FutureWarning: The frame.append method is deprecated and will be removed from pandas in a future version. Use pandas.concat instead.\n",
      "  grid = grid.append({'Ks':k, 'alphas':a, 'beta':b, 'MSE':fat.mse()}, ignore_index=True)\n"
     ]
    },
    {
     "name": "stdout",
     "output_type": "stream",
     "text": [
      "Fatoração concluída. Tempo aproximado: 1 minuto(s).\n"
     ]
    },
    {
     "name": "stderr",
     "output_type": "stream",
     "text": [
      "C:\\Users\\atmal\\AppData\\Local\\Temp\\ipykernel_4656\\3068559413.py:11: FutureWarning: The frame.append method is deprecated and will be removed from pandas in a future version. Use pandas.concat instead.\n",
      "  grid = grid.append({'Ks':k, 'alphas':a, 'beta':b, 'MSE':fat.mse()}, ignore_index=True)\n"
     ]
    },
    {
     "name": "stdout",
     "output_type": "stream",
     "text": [
      "Fatoração concluída. Tempo aproximado: 1 minuto(s).\n"
     ]
    },
    {
     "name": "stderr",
     "output_type": "stream",
     "text": [
      "C:\\Users\\atmal\\AppData\\Local\\Temp\\ipykernel_4656\\3068559413.py:11: FutureWarning: The frame.append method is deprecated and will be removed from pandas in a future version. Use pandas.concat instead.\n",
      "  grid = grid.append({'Ks':k, 'alphas':a, 'beta':b, 'MSE':fat.mse()}, ignore_index=True)\n"
     ]
    },
    {
     "name": "stdout",
     "output_type": "stream",
     "text": [
      "Fatoração concluída. Tempo aproximado: 1 minuto(s).\n"
     ]
    },
    {
     "name": "stderr",
     "output_type": "stream",
     "text": [
      "C:\\Users\\atmal\\AppData\\Local\\Temp\\ipykernel_4656\\3068559413.py:11: FutureWarning: The frame.append method is deprecated and will be removed from pandas in a future version. Use pandas.concat instead.\n",
      "  grid = grid.append({'Ks':k, 'alphas':a, 'beta':b, 'MSE':fat.mse()}, ignore_index=True)\n"
     ]
    },
    {
     "name": "stdout",
     "output_type": "stream",
     "text": [
      "Fatoração concluída. Tempo aproximado: 1 minuto(s).\n"
     ]
    },
    {
     "name": "stderr",
     "output_type": "stream",
     "text": [
      "C:\\Users\\atmal\\AppData\\Local\\Temp\\ipykernel_4656\\3068559413.py:11: FutureWarning: The frame.append method is deprecated and will be removed from pandas in a future version. Use pandas.concat instead.\n",
      "  grid = grid.append({'Ks':k, 'alphas':a, 'beta':b, 'MSE':fat.mse()}, ignore_index=True)\n"
     ]
    },
    {
     "name": "stdout",
     "output_type": "stream",
     "text": [
      "Fatoração concluída. Tempo aproximado: 1 minuto(s).\n"
     ]
    },
    {
     "name": "stderr",
     "output_type": "stream",
     "text": [
      "C:\\Users\\atmal\\AppData\\Local\\Temp\\ipykernel_4656\\3068559413.py:11: FutureWarning: The frame.append method is deprecated and will be removed from pandas in a future version. Use pandas.concat instead.\n",
      "  grid = grid.append({'Ks':k, 'alphas':a, 'beta':b, 'MSE':fat.mse()}, ignore_index=True)\n"
     ]
    },
    {
     "name": "stdout",
     "output_type": "stream",
     "text": [
      "Fatoração concluída. Tempo aproximado: 1 minuto(s).\n"
     ]
    },
    {
     "name": "stderr",
     "output_type": "stream",
     "text": [
      "C:\\Users\\atmal\\AppData\\Local\\Temp\\ipykernel_4656\\3068559413.py:11: FutureWarning: The frame.append method is deprecated and will be removed from pandas in a future version. Use pandas.concat instead.\n",
      "  grid = grid.append({'Ks':k, 'alphas':a, 'beta':b, 'MSE':fat.mse()}, ignore_index=True)\n"
     ]
    },
    {
     "name": "stdout",
     "output_type": "stream",
     "text": [
      "Fatoração concluída. Tempo aproximado: 1 minuto(s).\n"
     ]
    },
    {
     "name": "stderr",
     "output_type": "stream",
     "text": [
      "C:\\Users\\atmal\\AppData\\Local\\Temp\\ipykernel_4656\\3068559413.py:11: FutureWarning: The frame.append method is deprecated and will be removed from pandas in a future version. Use pandas.concat instead.\n",
      "  grid = grid.append({'Ks':k, 'alphas':a, 'beta':b, 'MSE':fat.mse()}, ignore_index=True)\n"
     ]
    },
    {
     "name": "stdout",
     "output_type": "stream",
     "text": [
      "Fatoração concluída. Tempo aproximado: 1 minuto(s).\n"
     ]
    },
    {
     "name": "stderr",
     "output_type": "stream",
     "text": [
      "C:\\Users\\atmal\\AppData\\Local\\Temp\\ipykernel_4656\\3068559413.py:11: FutureWarning: The frame.append method is deprecated and will be removed from pandas in a future version. Use pandas.concat instead.\n",
      "  grid = grid.append({'Ks':k, 'alphas':a, 'beta':b, 'MSE':fat.mse()}, ignore_index=True)\n"
     ]
    },
    {
     "name": "stdout",
     "output_type": "stream",
     "text": [
      "Fatoração concluída. Tempo aproximado: 1 minuto(s).\n"
     ]
    },
    {
     "name": "stderr",
     "output_type": "stream",
     "text": [
      "C:\\Users\\atmal\\AppData\\Local\\Temp\\ipykernel_4656\\3068559413.py:11: FutureWarning: The frame.append method is deprecated and will be removed from pandas in a future version. Use pandas.concat instead.\n",
      "  grid = grid.append({'Ks':k, 'alphas':a, 'beta':b, 'MSE':fat.mse()}, ignore_index=True)\n"
     ]
    },
    {
     "name": "stdout",
     "output_type": "stream",
     "text": [
      "Fatoração concluída. Tempo aproximado: 1 minuto(s).\n"
     ]
    },
    {
     "name": "stderr",
     "output_type": "stream",
     "text": [
      "C:\\Users\\atmal\\AppData\\Local\\Temp\\ipykernel_4656\\3068559413.py:11: FutureWarning: The frame.append method is deprecated and will be removed from pandas in a future version. Use pandas.concat instead.\n",
      "  grid = grid.append({'Ks':k, 'alphas':a, 'beta':b, 'MSE':fat.mse()}, ignore_index=True)\n"
     ]
    },
    {
     "name": "stdout",
     "output_type": "stream",
     "text": [
      "Fatoração concluída. Tempo aproximado: 1 minuto(s).\n"
     ]
    },
    {
     "name": "stderr",
     "output_type": "stream",
     "text": [
      "C:\\Users\\atmal\\AppData\\Local\\Temp\\ipykernel_4656\\3068559413.py:11: FutureWarning: The frame.append method is deprecated and will be removed from pandas in a future version. Use pandas.concat instead.\n",
      "  grid = grid.append({'Ks':k, 'alphas':a, 'beta':b, 'MSE':fat.mse()}, ignore_index=True)\n"
     ]
    },
    {
     "name": "stdout",
     "output_type": "stream",
     "text": [
      "Fatoração concluída. Tempo aproximado: 1 minuto(s).\n"
     ]
    },
    {
     "name": "stderr",
     "output_type": "stream",
     "text": [
      "C:\\Users\\atmal\\AppData\\Local\\Temp\\ipykernel_4656\\3068559413.py:11: FutureWarning: The frame.append method is deprecated and will be removed from pandas in a future version. Use pandas.concat instead.\n",
      "  grid = grid.append({'Ks':k, 'alphas':a, 'beta':b, 'MSE':fat.mse()}, ignore_index=True)\n"
     ]
    },
    {
     "name": "stdout",
     "output_type": "stream",
     "text": [
      "Fatoração concluída. Tempo aproximado: 1 minuto(s).\n"
     ]
    },
    {
     "name": "stderr",
     "output_type": "stream",
     "text": [
      "C:\\Users\\atmal\\AppData\\Local\\Temp\\ipykernel_4656\\3068559413.py:11: FutureWarning: The frame.append method is deprecated and will be removed from pandas in a future version. Use pandas.concat instead.\n",
      "  grid = grid.append({'Ks':k, 'alphas':a, 'beta':b, 'MSE':fat.mse()}, ignore_index=True)\n"
     ]
    },
    {
     "name": "stdout",
     "output_type": "stream",
     "text": [
      "Fatoração concluída. Tempo aproximado: 1 minuto(s).\n"
     ]
    },
    {
     "name": "stderr",
     "output_type": "stream",
     "text": [
      "C:\\Users\\atmal\\AppData\\Local\\Temp\\ipykernel_4656\\3068559413.py:11: FutureWarning: The frame.append method is deprecated and will be removed from pandas in a future version. Use pandas.concat instead.\n",
      "  grid = grid.append({'Ks':k, 'alphas':a, 'beta':b, 'MSE':fat.mse()}, ignore_index=True)\n"
     ]
    },
    {
     "name": "stdout",
     "output_type": "stream",
     "text": [
      "Fatoração concluída. Tempo aproximado: 1 minuto(s).\n"
     ]
    },
    {
     "name": "stderr",
     "output_type": "stream",
     "text": [
      "C:\\Users\\atmal\\AppData\\Local\\Temp\\ipykernel_4656\\3068559413.py:11: FutureWarning: The frame.append method is deprecated and will be removed from pandas in a future version. Use pandas.concat instead.\n",
      "  grid = grid.append({'Ks':k, 'alphas':a, 'beta':b, 'MSE':fat.mse()}, ignore_index=True)\n"
     ]
    },
    {
     "name": "stdout",
     "output_type": "stream",
     "text": [
      "Fatoração concluída. Tempo aproximado: 1 minuto(s).\n"
     ]
    },
    {
     "name": "stderr",
     "output_type": "stream",
     "text": [
      "C:\\Users\\atmal\\AppData\\Local\\Temp\\ipykernel_4656\\3068559413.py:11: FutureWarning: The frame.append method is deprecated and will be removed from pandas in a future version. Use pandas.concat instead.\n",
      "  grid = grid.append({'Ks':k, 'alphas':a, 'beta':b, 'MSE':fat.mse()}, ignore_index=True)\n"
     ]
    },
    {
     "name": "stdout",
     "output_type": "stream",
     "text": [
      "Fatoração concluída. Tempo aproximado: 1 minuto(s).\n"
     ]
    },
    {
     "name": "stderr",
     "output_type": "stream",
     "text": [
      "C:\\Users\\atmal\\AppData\\Local\\Temp\\ipykernel_4656\\3068559413.py:11: FutureWarning: The frame.append method is deprecated and will be removed from pandas in a future version. Use pandas.concat instead.\n",
      "  grid = grid.append({'Ks':k, 'alphas':a, 'beta':b, 'MSE':fat.mse()}, ignore_index=True)\n"
     ]
    },
    {
     "name": "stdout",
     "output_type": "stream",
     "text": [
      "Fatoração concluída. Tempo aproximado: 1 minuto(s).\n"
     ]
    },
    {
     "name": "stderr",
     "output_type": "stream",
     "text": [
      "C:\\Users\\atmal\\AppData\\Local\\Temp\\ipykernel_4656\\3068559413.py:11: FutureWarning: The frame.append method is deprecated and will be removed from pandas in a future version. Use pandas.concat instead.\n",
      "  grid = grid.append({'Ks':k, 'alphas':a, 'beta':b, 'MSE':fat.mse()}, ignore_index=True)\n"
     ]
    },
    {
     "name": "stdout",
     "output_type": "stream",
     "text": [
      "Fatoração concluída. Tempo aproximado: 1 minuto(s).\n"
     ]
    },
    {
     "name": "stderr",
     "output_type": "stream",
     "text": [
      "C:\\Users\\atmal\\AppData\\Local\\Temp\\ipykernel_4656\\3068559413.py:11: FutureWarning: The frame.append method is deprecated and will be removed from pandas in a future version. Use pandas.concat instead.\n",
      "  grid = grid.append({'Ks':k, 'alphas':a, 'beta':b, 'MSE':fat.mse()}, ignore_index=True)\n"
     ]
    },
    {
     "name": "stdout",
     "output_type": "stream",
     "text": [
      "Fatoração concluída. Tempo aproximado: 1 minuto(s).\n"
     ]
    },
    {
     "name": "stderr",
     "output_type": "stream",
     "text": [
      "C:\\Users\\atmal\\AppData\\Local\\Temp\\ipykernel_4656\\3068559413.py:11: FutureWarning: The frame.append method is deprecated and will be removed from pandas in a future version. Use pandas.concat instead.\n",
      "  grid = grid.append({'Ks':k, 'alphas':a, 'beta':b, 'MSE':fat.mse()}, ignore_index=True)\n"
     ]
    }
   ],
   "source": [
    "ks=[1, 2, 3, 4, 5]\n",
    "alphas=[0.000001, 0.000002, 0.000005, 0.00001, 0.0001]\n",
    "betas=[0.01, 0.02, 0.05, 0.1, 1]\n",
    "grid = pd.DataFrame(columns=['Ks', 'alphas', 'beta', 'MSE'])\n",
    "for k in ks:\n",
    "    for a in alphas:\n",
    "        for b in betas:\n",
    "            fat = MatrixFactorization(dataframe = pd.DataFrame(train2, columns = R.columns, index = R.index), \n",
    "                          K = k, steps = 100, alpha = a, beta = b)\n",
    "            fat.fit()\n",
    "            grid = grid.append({'Ks':k, 'alphas':a, 'beta':b, 'MSE':fat.mse()}, ignore_index=True)"
   ]
  },
  {
   "cell_type": "code",
   "execution_count": 37,
   "metadata": {},
   "outputs": [
    {
     "data": {
      "text/html": [
       "<div>\n",
       "<style scoped>\n",
       "    .dataframe tbody tr th:only-of-type {\n",
       "        vertical-align: middle;\n",
       "    }\n",
       "\n",
       "    .dataframe tbody tr th {\n",
       "        vertical-align: top;\n",
       "    }\n",
       "\n",
       "    .dataframe thead th {\n",
       "        text-align: right;\n",
       "    }\n",
       "</style>\n",
       "<table border=\"1\" class=\"dataframe\">\n",
       "  <thead>\n",
       "    <tr style=\"text-align: right;\">\n",
       "      <th></th>\n",
       "      <th>Ks</th>\n",
       "      <th>alphas</th>\n",
       "      <th>beta</th>\n",
       "      <th>MSE</th>\n",
       "    </tr>\n",
       "  </thead>\n",
       "  <tbody>\n",
       "    <tr>\n",
       "      <th>0</th>\n",
       "      <td>1.0</td>\n",
       "      <td>0.000001</td>\n",
       "      <td>0.01</td>\n",
       "      <td>93703.816056</td>\n",
       "    </tr>\n",
       "    <tr>\n",
       "      <th>1</th>\n",
       "      <td>1.0</td>\n",
       "      <td>0.000001</td>\n",
       "      <td>0.02</td>\n",
       "      <td>94633.513198</td>\n",
       "    </tr>\n",
       "    <tr>\n",
       "      <th>2</th>\n",
       "      <td>1.0</td>\n",
       "      <td>0.000001</td>\n",
       "      <td>0.05</td>\n",
       "      <td>94395.53122</td>\n",
       "    </tr>\n",
       "    <tr>\n",
       "      <th>3</th>\n",
       "      <td>1.0</td>\n",
       "      <td>0.000001</td>\n",
       "      <td>0.1</td>\n",
       "      <td>92587.595088</td>\n",
       "    </tr>\n",
       "    <tr>\n",
       "      <th>4</th>\n",
       "      <td>1.0</td>\n",
       "      <td>0.000001</td>\n",
       "      <td>1.0</td>\n",
       "      <td>94171.537952</td>\n",
       "    </tr>\n",
       "    <tr>\n",
       "      <th>...</th>\n",
       "      <td>...</td>\n",
       "      <td>...</td>\n",
       "      <td>...</td>\n",
       "      <td>...</td>\n",
       "    </tr>\n",
       "    <tr>\n",
       "      <th>120</th>\n",
       "      <td>5.0</td>\n",
       "      <td>0.0001</td>\n",
       "      <td>0.01</td>\n",
       "      <td>6090.054645</td>\n",
       "    </tr>\n",
       "    <tr>\n",
       "      <th>121</th>\n",
       "      <td>5.0</td>\n",
       "      <td>0.0001</td>\n",
       "      <td>0.02</td>\n",
       "      <td>6104.42278</td>\n",
       "    </tr>\n",
       "    <tr>\n",
       "      <th>122</th>\n",
       "      <td>5.0</td>\n",
       "      <td>0.0001</td>\n",
       "      <td>0.05</td>\n",
       "      <td>6104.737615</td>\n",
       "    </tr>\n",
       "    <tr>\n",
       "      <th>123</th>\n",
       "      <td>5.0</td>\n",
       "      <td>0.0001</td>\n",
       "      <td>0.1</td>\n",
       "      <td>6144.742754</td>\n",
       "    </tr>\n",
       "    <tr>\n",
       "      <th>124</th>\n",
       "      <td>5.0</td>\n",
       "      <td>0.0001</td>\n",
       "      <td>1.0</td>\n",
       "      <td>8900.006202</td>\n",
       "    </tr>\n",
       "  </tbody>\n",
       "</table>\n",
       "<p>125 rows × 4 columns</p>\n",
       "</div>"
      ],
      "text/plain": [
       "      Ks    alphas  beta           MSE\n",
       "0    1.0  0.000001  0.01  93703.816056\n",
       "1    1.0  0.000001  0.02  94633.513198\n",
       "2    1.0  0.000001  0.05   94395.53122\n",
       "3    1.0  0.000001   0.1  92587.595088\n",
       "4    1.0  0.000001   1.0  94171.537952\n",
       "..   ...       ...   ...           ...\n",
       "120  5.0    0.0001  0.01   6090.054645\n",
       "121  5.0    0.0001  0.02    6104.42278\n",
       "122  5.0    0.0001  0.05   6104.737615\n",
       "123  5.0    0.0001   0.1   6144.742754\n",
       "124  5.0    0.0001   1.0   8900.006202\n",
       "\n",
       "[125 rows x 4 columns]"
      ]
     },
     "execution_count": 37,
     "metadata": {},
     "output_type": "execute_result"
    }
   ],
   "source": [
    "grid"
   ]
  },
  {
   "cell_type": "code",
   "execution_count": 38,
   "metadata": {},
   "outputs": [
    {
     "name": "stdout",
     "output_type": "stream",
     "text": [
      "Min of Each Column:\n",
      "Ks                1.0\n",
      "alphas       0.000001\n",
      "beta             0.01\n",
      "MSE       6090.054645\n",
      "dtype: object\n"
     ]
    }
   ],
   "source": [
    "mins = grid.min()\n",
    "\n",
    "print(\"Min of Each Column:\")\n",
    "print(mins)"
   ]
  },
  {
   "cell_type": "markdown",
   "metadata": {},
   "source": [
    "Verificamos assim que o menor do MSE possui: k=5.0, alpha=0.0001 e beta= 0.01."
   ]
  }
 ],
 "metadata": {
  "kernelspec": {
   "display_name": "Python 3 (ipykernel)",
   "language": "python",
   "name": "python3"
  },
  "language_info": {
   "codemirror_mode": {
    "name": "ipython",
    "version": 3
   },
   "file_extension": ".py",
   "mimetype": "text/x-python",
   "name": "python",
   "nbconvert_exporter": "python",
   "pygments_lexer": "ipython3",
   "version": "3.8.12"
  }
 },
 "nbformat": 4,
 "nbformat_minor": 2
}
